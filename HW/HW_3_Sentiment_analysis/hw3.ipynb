{
 "cells": [
  {
   "cell_type": "markdown",
   "metadata": {},
   "source": [
    "# Домашнее задание 3 [10 баллов] \n",
    "# До 16.05.18 23:59\n",
    "\n",
    "Задание выполняется в группе (1-4 человека). В случае использования какого-либо строннего источника информации обязательно дайте на него ссылку (поскольку другие тоже могут на него наткнуться). Плагиат наказывается нулём баллов за задание и предвзятым отношением в будущем.\n",
    "\n",
    "Не все части обязательны для выполнения, однако вы можете быть дополнительно оштрафованы за небрежное за выполнение одной или двух частей вместо четырех.\n",
    "\n",
    "При возниконовении проблем с выполнением задания обращайтесь с вопросами к преподавателю. Поэтому настоятельно рекомендуется выполнять задание заранее, оставив запас времени на всевозможные технические проблемы. Если вы начали читать условие в последний вечер и не успели из-за проблем с установкой какой-либо библиотеки — это ваши проблемы.\n",
    "\n",
    "\n",
    "Результат выполнения задания — это отчёт в формате html на основе Jupyter Notebook. Нормальный отчёт должен включать в себя:\n",
    "* Краткую постановку задачи и формулировку задания\n",
    "* Описание **минимума** необходимой теории и/или описание используемых инструментов - не стоит переписывать лекции или Википедию\n",
    "* Подробный пошаговый рассказ о проделанной работе\n",
    "* Аккуратно оформленные результаты\n",
    "* **Внятные выводы** – не стоит относится к домашнему заданию как к последовательности сугубо технических шагов, а стоит относится скорее как к небольшому практическому исследованию, у которого есть своя цель и свое назначение.\n",
    "\n",
    "Небрежное его оформление отчета существенно отразится на итоговой оценке. Весь код из отчёта должен быть воспроизводимым, если для этого нужны какие-то дополнительные действия, установленные модули и т.п. — всё это должно быть прописано в тексте в явном виде.\n",
    "\n",
    "Сдача отчетов осуществляется через систему AnyTask.\n",
    "\n"
   ]
  },
  {
   "cell_type": "markdown",
   "metadata": {},
   "source": [
    "# Классификация текстов с активным обучением\n",
    "\n",
    "\n",
    "Зададимся простой задачей классификации текстов: например, классификацией отзывов на банки по тональности. Эта задача решается с достаточно высокими показателями качества с использованием стандартных алгоритмов классификации, например, сверточных нейронных сетей: корпус состоит из достаточного количества документов, чтобы сверточная сеть хорошо обучилась. Однако возникает естественный вопрос: действительно ли все документы нужны для того, чтобы достичь таких высоких показателей качества (или сопоставимых с ними). Парадигма активного обучения поможет вам ответить на этот вопрос."
   ]
  },
  {
   "cell_type": "markdown",
   "metadata": {},
   "source": [
    "## Часть 1. Предобработка данных [2 балла]\n",
    "\n",
    "Коллекция отзывов хранится в файле banki_responses (https://www.dropbox.com/s/ol3ux3ibr6rd5ke/banki_responses.json.bz2?dl=0). Одна строчка в этом файле соответствует одному json-словарю. Из этого словаря вам понадобятся два значения по ключам text и rating -- текст отзыва и его оценка по шкале от 1 до 5.   \n",
    "\n",
    "Считайте файл. Посчитайте, каких отзывов больше: положительных или отрицательных? \n",
    "\n",
    "Проведите предварительную обработку данных: удалите слишком короткие и слишком длинные тексты (пороги на длину определите самостоятельно). \n",
    "\n",
    "Разбейте данные на обучающее ($train$) и тестовое ($test$) множество случайным образом в отношеннии 3:1 (или любом другом отношении, которое покажется вам разумным). \n",
    "\n",
    "Задача классификации сформулирована так: по каждому отзыву определить его оценку (т.е. классификация на 5 классов). Признаками для классификации выступают слова."
   ]
  },
  {
   "cell_type": "code",
   "execution_count": 1,
   "metadata": {
    "collapsed": true
   },
   "outputs": [],
   "source": [
    "import json\n",
    "import numpy as np\n",
    "import pandas as pd\n",
    "import matplotlib.pyplot as plt\n",
    "\n",
    "%matplotlib inline"
   ]
  },
  {
   "cell_type": "markdown",
   "metadata": {},
   "source": [
    "Из отзывов мы хотим считать только эти поля"
   ]
  },
  {
   "cell_type": "code",
   "execution_count": 2,
   "metadata": {
    "collapsed": true
   },
   "outputs": [],
   "source": [
    "columns = ['rating_grade', 'text']"
   ]
  },
  {
   "cell_type": "code",
   "execution_count": 3,
   "metadata": {
    "scrolled": false
   },
   "outputs": [
    {
     "name": "stdout",
     "output_type": "stream",
     "text": [
      "CPU times: user 40.8 s, sys: 2.01 s, total: 42.8 s\n",
      "Wall time: 1min 6s\n"
     ]
    }
   ],
   "source": [
    "%%time\n",
    "file_name = 'data/banki_responses.json'\n",
    "data = []\n",
    "with open(file_name, 'r') as f:\n",
    "    for line in f:\n",
    "        review_dict = json.loads(line)\n",
    "        data.append([review_dict[k] for k in columns])"
   ]
  },
  {
   "cell_type": "markdown",
   "metadata": {},
   "source": [
    "Для дальнейшего удобства обернем данные в pandas.DataFrame"
   ]
  },
  {
   "cell_type": "code",
   "execution_count": 4,
   "metadata": {
    "collapsed": true
   },
   "outputs": [],
   "source": [
    "df = pd.DataFrame(data, columns=columns)"
   ]
  },
  {
   "cell_type": "code",
   "execution_count": 5,
   "metadata": {
    "collapsed": true
   },
   "outputs": [],
   "source": [
    "df.dropna(inplace=True)"
   ]
  },
  {
   "cell_type": "markdown",
   "metadata": {},
   "source": [
    "Дублировать столь много данных не круто"
   ]
  },
  {
   "cell_type": "code",
   "execution_count": 6,
   "metadata": {
    "collapsed": true
   },
   "outputs": [],
   "source": [
    "del data"
   ]
  },
  {
   "cell_type": "markdown",
   "metadata": {},
   "source": [
    "### Посмотрим на данные"
   ]
  },
  {
   "cell_type": "code",
   "execution_count": 7,
   "metadata": {},
   "outputs": [
    {
     "data": {
      "text/html": [
       "<div>\n",
       "<style scoped>\n",
       "    .dataframe tbody tr th:only-of-type {\n",
       "        vertical-align: middle;\n",
       "    }\n",
       "\n",
       "    .dataframe tbody tr th {\n",
       "        vertical-align: top;\n",
       "    }\n",
       "\n",
       "    .dataframe thead th {\n",
       "        text-align: right;\n",
       "    }\n",
       "</style>\n",
       "<table border=\"1\" class=\"dataframe\">\n",
       "  <thead>\n",
       "    <tr style=\"text-align: right;\">\n",
       "      <th></th>\n",
       "      <th>rating_grade</th>\n",
       "      <th>text</th>\n",
       "    </tr>\n",
       "  </thead>\n",
       "  <tbody>\n",
       "    <tr>\n",
       "      <th>0</th>\n",
       "      <td>5.0</td>\n",
       "      <td>Здравствуйте!  Хотелось бы выразить благодарно...</td>\n",
       "    </tr>\n",
       "    <tr>\n",
       "      <th>1</th>\n",
       "      <td>2.0</td>\n",
       "      <td>Уважаемые представители департамента по работе...</td>\n",
       "    </tr>\n",
       "    <tr>\n",
       "      <th>2</th>\n",
       "      <td>2.0</td>\n",
       "      <td>Здравствуйте. Столкнулась с такой ситуацией. в...</td>\n",
       "    </tr>\n",
       "    <tr>\n",
       "      <th>3</th>\n",
       "      <td>1.0</td>\n",
       "      <td>1 июня 2015 в Москве в отделении по адресу Смо...</td>\n",
       "    </tr>\n",
       "    <tr>\n",
       "      <th>4</th>\n",
       "      <td>1.0</td>\n",
       "      <td>История очень долгая! Пришел я в банк (это раз...</td>\n",
       "    </tr>\n",
       "  </tbody>\n",
       "</table>\n",
       "</div>"
      ],
      "text/plain": [
       "   rating_grade                                               text\n",
       "0           5.0  Здравствуйте!  Хотелось бы выразить благодарно...\n",
       "1           2.0  Уважаемые представители департамента по работе...\n",
       "2           2.0  Здравствуйте. Столкнулась с такой ситуацией. в...\n",
       "3           1.0  1 июня 2015 в Москве в отделении по адресу Смо...\n",
       "4           1.0  История очень долгая! Пришел я в банк (это раз..."
      ]
     },
     "execution_count": 7,
     "metadata": {},
     "output_type": "execute_result"
    }
   ],
   "source": [
    "df.head()"
   ]
  },
  {
   "cell_type": "code",
   "execution_count": 8,
   "metadata": {},
   "outputs": [
    {
     "data": {
      "text/plain": [
       "(136189, 2)"
      ]
     },
     "execution_count": 8,
     "metadata": {},
     "output_type": "execute_result"
    }
   ],
   "source": [
    "df.shape"
   ]
  },
  {
   "cell_type": "code",
   "execution_count": 9,
   "metadata": {},
   "outputs": [
    {
     "data": {
      "text/plain": [
       "<matplotlib.axes._subplots.AxesSubplot at 0x1060f3cc0>"
      ]
     },
     "execution_count": 9,
     "metadata": {},
     "output_type": "execute_result"
    },
    {
     "data": {
      "image/png": "[encoded data removed]",
      "text/plain": [
       "<matplotlib.figure.Figure at 0x1060f3320>"
      ]
     },
     "metadata": {},
     "output_type": "display_data"
    }
   ],
   "source": [
    "df['rating_grade'].hist()"
   ]
  },
  {
   "cell_type": "markdown",
   "metadata": {},
   "source": [
    "Больше всего негативных отзывов. Классы сильно не сбалансированы"
   ]
  },
  {
   "cell_type": "markdown",
   "metadata": {},
   "source": [
    "### Проведем предварительную обработку данных"
   ]
  },
  {
   "cell_type": "markdown",
   "metadata": {},
   "source": [
    "Посмотрим на длину текстов"
   ]
  },
  {
   "cell_type": "code",
   "execution_count": 10,
   "metadata": {
    "collapsed": true
   },
   "outputs": [],
   "source": [
    "import nltk"
   ]
  },
  {
   "cell_type": "code",
   "execution_count": 13,
   "metadata": {},
   "outputs": [
    {
     "name": "stdout",
     "output_type": "stream",
     "text": [
      "CPU times: user 94.4 ms, sys: 9.08 ms, total: 104 ms\n",
      "Wall time: 109 ms\n"
     ]
    }
   ],
   "source": [
    "%%time\n",
    "df['char_len'] = df['text'].apply(lambda x: len(x))"
   ]
  },
  {
   "cell_type": "code",
   "execution_count": 14,
   "metadata": {},
   "outputs": [
    {
     "name": "stdout",
     "output_type": "stream",
     "text": [
      "CPU times: user 6min 22s, sys: 3.68 s, total: 6min 26s\n",
      "Wall time: 6min 51s\n"
     ]
    }
   ],
   "source": [
    "%%time\n",
    "df['word_len'] = df['text'].apply(lambda x: len(nltk.word_tokenize(x)))"
   ]
  },
  {
   "cell_type": "code",
   "execution_count": 15,
   "metadata": {},
   "outputs": [
    {
     "data": {
      "text/plain": [
       "<matplotlib.axes._subplots.AxesSubplot at 0x10b382160>"
      ]
     },
     "execution_count": 15,
     "metadata": {},
     "output_type": "execute_result"
    },
    {
     "data": {
      "image/png": "[encoded data removed]",
      "text/plain": [
       "<matplotlib.figure.Figure at 0x10b3824a8>"
      ]
     },
     "metadata": {},
     "output_type": "display_data"
    }
   ],
   "source": [
    "plt.figure(figsize=(12, 8))\n",
    "df['char_len'].hist(bins=100, density=True)"
   ]
  },
  {
   "cell_type": "code",
   "execution_count": 16,
   "metadata": {},
   "outputs": [
    {
     "data": {
      "text/plain": [
       "<matplotlib.axes._subplots.AxesSubplot at 0x10b382240>"
      ]
     },
     "execution_count": 16,
     "metadata": {},
     "output_type": "execute_result"
    },
    {
     "data": {
      "image/png": "[encoded data removed]",
      "text/plain": [
       "<matplotlib.figure.Figure at 0x10b382080>"
      ]
     },
     "metadata": {},
     "output_type": "display_data"
    }
   ],
   "source": [
    "plt.figure(figsize=(12, 8))\n",
    "df['word_len'].hist(bins=100, density=True)"
   ]
  },
  {
   "cell_type": "markdown",
   "metadata": {},
   "source": [
    "Воспользуемся перцентилями для выбора слишком коротких и слишком длинных отзывов"
   ]
  },
  {
   "cell_type": "markdown",
   "metadata": {},
   "source": [
    "Рассмотрим интервал с уровнем доверия 95%"
   ]
  },
  {
   "cell_type": "code",
   "execution_count": 17,
   "metadata": {},
   "outputs": [
    {
     "name": "stdout",
     "output_type": "stream",
     "text": [
      "95.0 %\n"
     ]
    }
   ],
   "source": [
    "lower_per = 2.5\n",
    "upper_per = 97.5\n",
    "print(upper_per - lower_per, \"%\")"
   ]
  },
  {
   "cell_type": "code",
   "execution_count": 18,
   "metadata": {
    "collapsed": true
   },
   "outputs": [],
   "source": [
    "lower_value = np.percentile(df['word_len'].values, lower_per)\n",
    "upper_value = np.percentile(df['word_len'].values, upper_per)"
   ]
  },
  {
   "cell_type": "code",
   "execution_count": 19,
   "metadata": {},
   "outputs": [
    {
     "name": "stdout",
     "output_type": "stream",
     "text": [
      "Min words:  57.0  max words:  898.0\n"
     ]
    }
   ],
   "source": [
    "print('Min words: ', lower_value, ' max words: ', upper_value)"
   ]
  },
  {
   "cell_type": "markdown",
   "metadata": {},
   "source": [
    "Выкинем лишние"
   ]
  },
  {
   "cell_type": "code",
   "execution_count": 20,
   "metadata": {},
   "outputs": [
    {
     "name": "stderr",
     "output_type": "stream",
     "text": [
      "/Users/maxim/miniconda3/lib/python3.6/site-packages/ipykernel_launcher.py:1: UserWarning: Boolean Series key will be reindexed to match DataFrame index.\n",
      "  \"\"\"Entry point for launching an IPython kernel.\n"
     ]
    }
   ],
   "source": [
    "df = df[df['word_len'] > lower_value][df['word_len'] <= upper_value].reset_index(drop=True)"
   ]
  },
  {
   "cell_type": "code",
   "execution_count": 21,
   "metadata": {},
   "outputs": [
    {
     "data": {
      "text/plain": [
       "(129312, 4)"
      ]
     },
     "execution_count": 21,
     "metadata": {},
     "output_type": "execute_result"
    }
   ],
   "source": [
    "df.shape"
   ]
  },
  {
   "cell_type": "markdown",
   "metadata": {},
   "source": [
    "Выкинули порядка 7к отзывов"
   ]
  },
  {
   "cell_type": "markdown",
   "metadata": {},
   "source": [
    "Чтобы не считать слова в разных формах разными, проведем лемматизацию текстов"
   ]
  },
  {
   "cell_type": "markdown",
   "metadata": {},
   "source": [
    "Также выбросим стоп-слова и небуквенные символы(кроме \"!\"), так как они не несут смысловой нагрузки"
   ]
  },
  {
   "cell_type": "code",
   "execution_count": 22,
   "metadata": {
    "collapsed": true
   },
   "outputs": [],
   "source": [
    "import re\n",
    "from nltk.corpus import stopwords\n",
    "from pymystem3 import Mystem\n",
    "from stop_words import get_stop_words"
   ]
  },
  {
   "cell_type": "code",
   "execution_count": 24,
   "metadata": {
    "collapsed": true
   },
   "outputs": [],
   "source": [
    "def post_to_words(raw_review, min_word_len=1):\n",
    "    letters_only = re.sub(\"[^a-zа-я !]\", \" \", raw_review)\n",
    "    \n",
    "    stops = set(stopwords.words(\"russian\"))\n",
    "    meaningful_words = [word for sent in nltk.sent_tokenize(letters_only) \n",
    "             for word in nltk.word_tokenize(sent) if not word in stops and len(word) >= min_word_len]\n",
    "    \n",
    "    return \" \".join(meaningful_words)\n",
    "\n",
    "\n",
    "def lemmatize(data, min_word_len=1):\n",
    "    \"\"\"\n",
    "    Use Mystem lemmer for data and remove word, which not contain letters.\n",
    "    \"\"\"\n",
    "    lemmer = Mystem()\n",
    "    useful_data = [''.join(lemmer.lemmatize(post_to_words(text, min_word_len))) for text in data]\n",
    "    return useful_data"
   ]
  },
  {
   "cell_type": "code",
   "execution_count": 25,
   "metadata": {},
   "outputs": [
    {
     "name": "stdout",
     "output_type": "stream",
     "text": [
      "CPU times: user 5min 7s, sys: 16.6 s, total: 5min 24s\n",
      "Wall time: 18min 8s\n"
     ]
    }
   ],
   "source": [
    "%%time\n",
    "df['lem_text'] = lemmatize(df['text'].values, min_word_len=3)"
   ]
  },
  {
   "cell_type": "markdown",
   "metadata": {},
   "source": [
    "### Подготовим обучающие и тестовые данные"
   ]
  },
  {
   "cell_type": "markdown",
   "metadata": {},
   "source": [
    "Закодируем все слова в индексы"
   ]
  },
  {
   "cell_type": "code",
   "execution_count": 26,
   "metadata": {},
   "outputs": [
    {
     "name": "stderr",
     "output_type": "stream",
     "text": [
      "/Users/maxim/miniconda3/lib/python3.6/site-packages/h5py/__init__.py:36: FutureWarning: Conversion of the second argument of issubdtype from `float` to `np.floating` is deprecated. In future, it will be treated as `np.float64 == np.dtype(float).type`.\n",
      "  from ._conv import register_converters as _register_converters\n",
      "Using TensorFlow backend.\n",
      "/Users/maxim/miniconda3/lib/python3.6/importlib/_bootstrap.py:219: RuntimeWarning: compiletime version 3.5 of module 'tensorflow.python.framework.fast_tensor_util' does not match runtime version 3.6\n",
      "  return f(*args, **kwds)\n"
     ]
    }
   ],
   "source": [
    "from keras.preprocessing.text import Tokenizer\n",
    "from keras.preprocessing.sequence import pad_sequences"
   ]
  },
  {
   "cell_type": "code",
   "execution_count": 28,
   "metadata": {},
   "outputs": [
    {
     "name": "stdout",
     "output_type": "stream",
     "text": [
      "CPU times: user 45.3 s, sys: 793 ms, total: 46.1 s\n",
      "Wall time: 47.4 s\n"
     ]
    }
   ],
   "source": [
    "%%time\n",
    "# prepare tokenizer\n",
    "t = Tokenizer(filters='')\n",
    "t.fit_on_texts(df['text'].values)\n",
    "vocab_size = len(t.word_index) + 1"
   ]
  },
  {
   "cell_type": "code",
   "execution_count": 29,
   "metadata": {},
   "outputs": [
    {
     "data": {
      "text/plain": [
       "826101"
      ]
     },
     "execution_count": 29,
     "metadata": {},
     "output_type": "execute_result"
    }
   ],
   "source": [
    "vocab_size"
   ]
  },
  {
   "cell_type": "code",
   "execution_count": 31,
   "metadata": {},
   "outputs": [
    {
     "name": "stdout",
     "output_type": "stream",
     "text": [
      "CPU times: user 31.6 s, sys: 433 ms, total: 32.1 s\n",
      "Wall time: 32.7 s\n"
     ]
    }
   ],
   "source": [
    "%%time\n",
    "# integer encode the documents\n",
    "encoded_docs = t.texts_to_sequences(df['text'].values)"
   ]
  },
  {
   "cell_type": "code",
   "execution_count": 32,
   "metadata": {
    "scrolled": false
   },
   "outputs": [
    {
     "name": "stdout",
     "output_type": "stream",
     "text": [
      "CPU times: user 3.3 s, sys: 1.15 s, total: 4.45 s\n",
      "Wall time: 5.09 s\n"
     ]
    }
   ],
   "source": [
    "%%time\n",
    "max_length = int(upper_value)\n",
    "padded_docs = pad_sequences(encoded_docs, maxlen=max_length, padding='post')"
   ]
  },
  {
   "cell_type": "markdown",
   "metadata": {},
   "source": [
    "Разобъем на train и test"
   ]
  },
  {
   "cell_type": "code",
   "execution_count": 33,
   "metadata": {
    "collapsed": true
   },
   "outputs": [],
   "source": [
    "from sklearn.model_selection import train_test_split"
   ]
  },
  {
   "cell_type": "code",
   "execution_count": 34,
   "metadata": {},
   "outputs": [
    {
     "data": {
      "text/plain": [
       "(129312, 5)"
      ]
     },
     "execution_count": 34,
     "metadata": {},
     "output_type": "execute_result"
    }
   ],
   "source": [
    "df.shape"
   ]
  },
  {
   "cell_type": "code",
   "execution_count": 35,
   "metadata": {
    "collapsed": true
   },
   "outputs": [],
   "source": [
    "df['rating_grade'] = df['rating_grade'].apply(int)"
   ]
  },
  {
   "cell_type": "code",
   "execution_count": 36,
   "metadata": {
    "collapsed": true
   },
   "outputs": [],
   "source": [
    "indx_train, indx_test = train_test_split(np.arange(df.shape[0], dtype='int32'), \n",
    "                                         stratify=df['rating_grade'].values, test_size=0.2, random_state=5)"
   ]
  },
  {
   "cell_type": "code",
   "execution_count": 37,
   "metadata": {
    "collapsed": true
   },
   "outputs": [],
   "source": [
    "y = df['rating_grade'].values - 1\n",
    "y_train = df['rating_grade'].values[indx_train] - 1\n",
    "y_test = df['rating_grade'].values[indx_test] - 1\n",
    "\n",
    "X = padded_docs\n",
    "X_train = padded_docs[indx_train]\n",
    "X_test = padded_docs[indx_test]"
   ]
  },
  {
   "cell_type": "markdown",
   "metadata": {},
   "source": [
    "## Часть 2. Baseline [4 балла]\n",
    "\n",
    "Получите baseline классификации: в идеале, используйте сверточную нейронную сеть (слой эмбеддингов + свертка + субдескритизация). Число и размерность фильтров определите самостоятельно, так же как и использование регуляризаторов (dropout / batch norm) и их параметров. Так же самостоятельно (но обосновано) решите, использовать ли вам предобученные эмбеддинги или нет и проводить ли вам лемматизацию или нет. \n",
    "\n",
    "Обучите сеть на обучающем множестве и протестируйте на тестовом. Зафиксируйте baseline.\n",
    "\n",
    "Если совсем трудно или вычисления занимают слишком много времени, используйте любой другой известный и симпатичный вам алгоритм классификации. "
   ]
  },
  {
   "cell_type": "code",
   "execution_count": 38,
   "metadata": {
    "collapsed": true
   },
   "outputs": [],
   "source": [
    "import os\n",
    "\n",
    "from keras.models import Sequential\n",
    "from keras.layers import Embedding, Flatten, LSTM, Dense, LeakyReLU, BatchNormalization, Dropout\n",
    "from keras.optimizers import Adam\n",
    "from keras.callbacks import EarlyStopping, TensorBoard\n",
    "from keras import regularizers"
   ]
  },
  {
   "cell_type": "markdown",
   "metadata": {},
   "source": [
    "Построим модель"
   ]
  },
  {
   "cell_type": "code",
   "execution_count": 39,
   "metadata": {
    "collapsed": true
   },
   "outputs": [],
   "source": [
    "def build_model(vocab_size, embedding_size, input_length, n_units, output_size, lr=0.001, \n",
    "                dense_activation='relu', dropout_rate=0.2, l2=0., embed_l2=0., **kwargs):\n",
    "    model = Sequential()\n",
    "    model.add(\n",
    "        Embedding(vocab_size, embedding_size, input_length=input_length, trainable=True,\n",
    "                 embeddings_regularizer=regularizers.l2(embed_l2))\n",
    "    )\n",
    "    model.add(Dense(n_units, activation=dense_activation, kernel_regularizer=regularizers.l2(l2)))\n",
    "    model.add(BatchNormalization())\n",
    "    model.add(Dropout(rate=dropout_rate))\n",
    "    model.add(Flatten())\n",
    "    model.add(Dense(output_size, activation='softmax'))\n",
    "    # compile the model\n",
    "    optimizer = Adam(lr=lr)\n",
    "    model.compile(optimizer=optimizer, loss='sparse_categorical_crossentropy', metrics=['acc'])\n",
    "    return model"
   ]
  },
  {
   "cell_type": "markdown",
   "metadata": {},
   "source": [
    "Обучим"
   ]
  },
  {
   "cell_type": "code",
   "execution_count": 40,
   "metadata": {
    "collapsed": true
   },
   "outputs": [],
   "source": [
    "def train_model(model, X, y, n_epoches, n_initial_epoch=0, batch_size=128, callbacks=[], **kwargs):\n",
    "    return model.fit(X, y, batch_size=batch_size, epochs=n_epoches, initial_epoch=n_initial_epoch, \n",
    "                     validation_split=0.1, callbacks=callbacks)"
   ]
  },
  {
   "cell_type": "markdown",
   "metadata": {},
   "source": [
    "Изобразим процесс обучения на графике"
   ]
  },
  {
   "cell_type": "code",
   "execution_count": 41,
   "metadata": {
    "collapsed": true
   },
   "outputs": [],
   "source": [
    "def history_plot(hist):\n",
    "    plt.plot(hist.history['loss'])\n",
    "    plt.plot(hist.history['val_loss'])\n",
    "    plt.title('model loss')\n",
    "    plt.ylabel('loss')\n",
    "    plt.xlabel('epoch')\n",
    "    plt.legend(['train', 'val'], loc='lower left')\n",
    "    plt.show()"
   ]
  },
  {
   "cell_type": "markdown",
   "metadata": {},
   "source": [
    "Сохраним"
   ]
  },
  {
   "cell_type": "code",
   "execution_count": 42,
   "metadata": {
    "collapsed": true
   },
   "outputs": [],
   "source": [
    "def get_last_n(path_to_folder):\n",
    "    try:\n",
    "        last_model_n = max(list(map(lambda name: int(name.replace('.h5', '').replace('.json', '').split('_')[-1]), \n",
    "                                     filter(lambda name: (name.startswith('model_weights_') or \n",
    "                                            name.startswith('model_weights_')), \n",
    "                                            os.listdir(path_to_folder)))))\n",
    "    except:\n",
    "        last_model_n = 0\n",
    "    return last_model_n\n",
    "\n",
    "def save_model(model, path_to_folder):\n",
    "    last_n = get_last_n(path_to_folder)\n",
    "    new_n = last_n + 1\n",
    "    model.save_weights(os.path.join(path_to_folder, 'model_weights_' + str(new_n) + '.h5'))\n",
    "    with open(os.path.join(path_to_folder, 'model_architecture_' + str(new_n) + '.json'), 'w') as f:\n",
    "        f.write(model.to_json())\n",
    "    print('Created:')\n",
    "    print(os.path.join(path_to_folder, 'model_weights_' + str(new_n) + '.h5'))\n",
    "    print(os.path.join(path_to_folder, 'model_architecture_' + str(new_n) + '.json'))"
   ]
  },
  {
   "cell_type": "markdown",
   "metadata": {},
   "source": [
    "Посчитаем значение метрик на тесте"
   ]
  },
  {
   "cell_type": "code",
   "execution_count": 43,
   "metadata": {
    "collapsed": true
   },
   "outputs": [],
   "source": [
    "def eval_test_score(model, X_test, y_test):\n",
    "    loss, acc = model.evaluate(X_test, y_test)\n",
    "    print(\"Loss: {:.3f}, acc: {:.2f}%\".format(loss, acc*100))\n",
    "    return loss, acc"
   ]
  },
  {
   "cell_type": "markdown",
   "metadata": {},
   "source": [
    "Теперь это все запустим"
   ]
  },
  {
   "cell_type": "code",
   "execution_count": 44,
   "metadata": {
    "collapsed": true
   },
   "outputs": [],
   "source": [
    "n_units = 192\n",
    "lr = 0.00007\n",
    "l2 = 1e-4\n",
    "embed_l2 = 1e-4\n",
    "output_size = 5\n",
    "embedding_size = 40\n",
    "input_length = max_length\n",
    "model = build_model(vocab_size, embedding_size, input_length, n_units, output_size, lr, \n",
    "                    dropout_rate=0.2, l2=l2, embed_l2=embed_l2)"
   ]
  },
  {
   "cell_type": "code",
   "execution_count": 45,
   "metadata": {},
   "outputs": [
    {
     "name": "stdout",
     "output_type": "stream",
     "text": [
      "_________________________________________________________________\n",
      "Layer (type)                 Output Shape              Param #   \n",
      "=================================================================\n",
      "embedding_1 (Embedding)      (None, 898, 40)           33044040  \n",
      "_________________________________________________________________\n",
      "dense_1 (Dense)              (None, 898, 192)          7872      \n",
      "_________________________________________________________________\n",
      "batch_normalization_1 (Batch (None, 898, 192)          768       \n",
      "_________________________________________________________________\n",
      "dropout_1 (Dropout)          (None, 898, 192)          0         \n",
      "_________________________________________________________________\n",
      "flatten_1 (Flatten)          (None, 172416)            0         \n",
      "_________________________________________________________________\n",
      "dense_2 (Dense)              (None, 5)                 862085    \n",
      "=================================================================\n",
      "Total params: 33,914,765\n",
      "Trainable params: 33,914,381\n",
      "Non-trainable params: 384\n",
      "_________________________________________________________________\n"
     ]
    }
   ],
   "source": [
    "model.summary()"
   ]
  },
  {
   "cell_type": "code",
   "execution_count": 46,
   "metadata": {
    "scrolled": true
   },
   "outputs": [
    {
     "name": "stdout",
     "output_type": "stream",
     "text": [
      "Train on 93104 samples, validate on 10345 samples\n",
      "Epoch 1/50\n",
      "93104/93104 [==============================] - 1708s 18ms/step - loss: 2.8930 - acc: 0.5619 - val_loss: 2.4364 - val_acc: 0.5508\n",
      "Epoch 2/50\n",
      "93104/93104 [==============================] - 1609s 17ms/step - loss: 1.6932 - acc: 0.6826 - val_loss: 1.5791 - val_acc: 0.6709\n",
      "Epoch 3/50\n",
      "93104/93104 [==============================] - 1774s 19ms/step - loss: 1.2169 - acc: 0.7454 - val_loss: 1.3832 - val_acc: 0.6836\n",
      "Epoch 4/50\n",
      "93104/93104 [==============================] - 1823s 20ms/step - loss: 0.9404 - acc: 0.8066 - val_loss: 1.3137 - val_acc: 0.6528\n",
      "Epoch 5/50\n",
      "  512/93104 [..............................] - ETA: 30:52 - loss: 0.7329 - acc: 0.8945KeyboardInterrupt!\n",
      "CPU times: user 4h 32min 20s, sys: 53min 24s, total: 5h 25min 44s\n",
      "Wall time: 1h 55min 29s\n"
     ]
    }
   ],
   "source": [
    "%%time\n",
    "n_epoches = 50\n",
    "batch_size = 256\n",
    "callbacks = [\n",
    "    EarlyStopping(monitor='val_loss', min_delta=0.005, patience=2, verbose=0, mode='auto'),\n",
    "#     TensorBoard(log_dir='./data/logs', histogram_freq=3, batch_size=batch_size)\n",
    "]\n",
    "try:\n",
    "    history = train_model(model, X_train, y_train, n_epoches, n_initial_epoch=0, \n",
    "                      batch_size=batch_size, callbacks=callbacks)\n",
    "except:\n",
    "    print('KeyboardInterrupt!')"
   ]
  },
  {
   "cell_type": "code",
   "execution_count": 49,
   "metadata": {},
   "outputs": [
    {
     "name": "stdout",
     "output_type": "stream",
     "text": [
      "25863/25863 [==============================] - 213s 8ms/step\n",
      "Loss: 1.305, acc: 66.07%\n"
     ]
    },
    {
     "data": {
      "text/plain": [
       "(1.3054688577976838, 0.6606735490924801)"
      ]
     },
     "execution_count": 49,
     "metadata": {},
     "output_type": "execute_result"
    }
   ],
   "source": [
    "eval_test_score(model, X_test, y_test)"
   ]
  },
  {
   "cell_type": "markdown",
   "metadata": {},
   "source": [
    "Пошло переобучение"
   ]
  },
  {
   "cell_type": "markdown",
   "metadata": {},
   "source": [
    "Сохраним модель"
   ]
  },
  {
   "cell_type": "code",
   "execution_count": 48,
   "metadata": {
    "scrolled": true
   },
   "outputs": [
    {
     "name": "stdout",
     "output_type": "stream",
     "text": [
      "Created:\n",
      "data/models/model_weights_9.h5\n",
      "data/models/model_architecture_9.json\n"
     ]
    }
   ],
   "source": [
    "path_to_folder = 'data/models/'\n",
    "save_model(model, path_to_folder)"
   ]
  },
  {
   "cell_type": "markdown",
   "metadata": {},
   "source": [
    "## Смутно понимаю как именно влияет flatten слой на процесс обучения, но попробую его переставить"
   ]
  },
  {
   "cell_type": "markdown",
   "metadata": {},
   "source": [
    "Построим модель"
   ]
  },
  {
   "cell_type": "code",
   "execution_count": 93,
   "metadata": {
    "collapsed": true
   },
   "outputs": [],
   "source": [
    "def build_model(vocab_size, embedding_size, input_length, n_units, output_size, lr=0.001, \n",
    "                dense_activation='relu', dropout_rate=0.2, l2=0., embed_l2=0., **kwargs):\n",
    "    model = Sequential()\n",
    "    model.add(\n",
    "        Embedding(vocab_size, embedding_size, input_length=input_length, trainable=True,\n",
    "                 embeddings_regularizer=regularizers.l2(embed_l2))\n",
    "    )\n",
    "    model.add(Flatten())\n",
    "    model.add(Dense(n_units, activation=dense_activation, kernel_regularizer=regularizers.l2(l2)))\n",
    "    model.add(BatchNormalization())\n",
    "    model.add(Dropout(rate=dropout_rate))\n",
    "#     model.add(Flatten())\n",
    "    model.add(Dense(output_size, activation='softmax'))\n",
    "    # compile the model\n",
    "    optimizer = Adam(lr=lr)\n",
    "    model.compile(optimizer=optimizer, loss='sparse_categorical_crossentropy', metrics=['acc'])\n",
    "    return model"
   ]
  },
  {
   "cell_type": "markdown",
   "metadata": {},
   "source": [
    "Теперь это все запустим"
   ]
  },
  {
   "cell_type": "code",
   "execution_count": 51,
   "metadata": {
    "collapsed": true
   },
   "outputs": [],
   "source": [
    "n_units = 192\n",
    "lr = 0.00007\n",
    "l2 = 1e-4\n",
    "embed_l2 = 1e-4\n",
    "output_size = 5\n",
    "embedding_size = 40\n",
    "input_length = max_length\n",
    "model = build_model(vocab_size, embedding_size, input_length, n_units, output_size, lr, \n",
    "                    dropout_rate=0.2, l2=l2, embed_l2=embed_l2)"
   ]
  },
  {
   "cell_type": "code",
   "execution_count": 52,
   "metadata": {},
   "outputs": [
    {
     "name": "stdout",
     "output_type": "stream",
     "text": [
      "_________________________________________________________________\n",
      "Layer (type)                 Output Shape              Param #   \n",
      "=================================================================\n",
      "embedding_2 (Embedding)      (None, 898, 40)           33044040  \n",
      "_________________________________________________________________\n",
      "flatten_2 (Flatten)          (None, 35920)             0         \n",
      "_________________________________________________________________\n",
      "dense_3 (Dense)              (None, 192)               6896832   \n",
      "_________________________________________________________________\n",
      "batch_normalization_2 (Batch (None, 192)               768       \n",
      "_________________________________________________________________\n",
      "dropout_2 (Dropout)          (None, 192)               0         \n",
      "_________________________________________________________________\n",
      "dense_4 (Dense)              (None, 5)                 965       \n",
      "=================================================================\n",
      "Total params: 39,942,605\n",
      "Trainable params: 39,942,221\n",
      "Non-trainable params: 384\n",
      "_________________________________________________________________\n"
     ]
    }
   ],
   "source": [
    "model.summary()"
   ]
  },
  {
   "cell_type": "code",
   "execution_count": 53,
   "metadata": {
    "scrolled": true
   },
   "outputs": [
    {
     "name": "stdout",
     "output_type": "stream",
     "text": [
      "Train on 93104 samples, validate on 10345 samples\n",
      "Epoch 1/50\n",
      "93104/93104 [==============================] - 433s 5ms/step - loss: 3.2137 - acc: 0.4003 - val_loss: 2.5024 - val_acc: 0.5302\n",
      "Epoch 2/50\n",
      "93104/93104 [==============================] - 363s 4ms/step - loss: 1.8811 - acc: 0.6641 - val_loss: 1.6801 - val_acc: 0.6798\n",
      "Epoch 3/50\n",
      "93104/93104 [==============================] - 360s 4ms/step - loss: 1.3454 - acc: 0.7413 - val_loss: 1.5727 - val_acc: 0.6703\n",
      "Epoch 4/50\n",
      "93104/93104 [==============================] - 372s 4ms/step - loss: 1.0356 - acc: 0.8062 - val_loss: 1.6015 - val_acc: 0.5174\n",
      "Epoch 5/50\n",
      "93104/93104 [==============================] - 366s 4ms/step - loss: 0.7954 - acc: 0.8755 - val_loss: 1.5454 - val_acc: 0.5586\n",
      "Epoch 6/50\n",
      "12544/93104 [===>..........................] - ETA: 5:14 - loss: 0.6302 - acc: 0.9322KeyboardInterrupt!\n",
      "CPU times: user 1h 5min 33s, sys: 19min 41s, total: 1h 25min 15s\n",
      "Wall time: 32min 30s\n"
     ]
    }
   ],
   "source": [
    "%%time\n",
    "n_epoches = 50\n",
    "batch_size = 256\n",
    "callbacks = [\n",
    "    EarlyStopping(monitor='val_loss', min_delta=0.005, patience=2, verbose=0, mode='auto'),\n",
    "#     TensorBoard(log_dir='./data/logs', histogram_freq=3, batch_size=batch_size)\n",
    "]\n",
    "try:\n",
    "    history = train_model(model, X_train, y_train, n_epoches, n_initial_epoch=0, \n",
    "                      batch_size=batch_size, callbacks=callbacks)\n",
    "except:\n",
    "    print('KeyboardInterrupt!')"
   ]
  },
  {
   "cell_type": "code",
   "execution_count": 54,
   "metadata": {
    "scrolled": true
   },
   "outputs": [
    {
     "name": "stdout",
     "output_type": "stream",
     "text": [
      "25863/25863 [==============================] - 63s 2ms/step\n",
      "Loss: 1.480, acc: 65.77%\n"
     ]
    },
    {
     "data": {
      "text/plain": [
       "(1.4799070406765782, 0.6576963229392884)"
      ]
     },
     "execution_count": 54,
     "metadata": {},
     "output_type": "execute_result"
    }
   ],
   "source": [
    "eval_test_score(model, X_test, y_test)"
   ]
  },
  {
   "cell_type": "markdown",
   "metadata": {},
   "source": [
    "Сново пошло переобучение. Во всяком случае flatten позволяет проводить вычисления быстрей. Видимо без него dense слой переводит каждое слово в тексте одной и той же матрицей весов из размерности 40 в 192, что не совсем то, чего мы хотим. И работает дольше, поскольку больше мелких матричных произведений(эффективней по ассимптотике бОльшие матрицы перемножить, но один раз)"
   ]
  },
  {
   "cell_type": "markdown",
   "metadata": {},
   "source": [
    "Сохраним модель"
   ]
  },
  {
   "cell_type": "code",
   "execution_count": 55,
   "metadata": {
    "scrolled": true
   },
   "outputs": [
    {
     "name": "stdout",
     "output_type": "stream",
     "text": [
      "Created:\n",
      "data/models/model_weights_10.h5\n",
      "data/models/model_architecture_10.json\n"
     ]
    }
   ],
   "source": [
    "path_to_folder = 'data/models/'\n",
    "save_model(model, path_to_folder)"
   ]
  },
  {
   "cell_type": "markdown",
   "metadata": {},
   "source": [
    "### Увеличим lr"
   ]
  },
  {
   "cell_type": "markdown",
   "metadata": {},
   "source": [
    "Построим модель"
   ]
  },
  {
   "cell_type": "code",
   "execution_count": 132,
   "metadata": {
    "collapsed": true
   },
   "outputs": [],
   "source": [
    "def build_model(vocab_size, embedding_size, input_length, n_units, output_size, lr=0.001, \n",
    "                dense_activation='relu', dropout_rate=0.2, l2=0., embed_l2=0., **kwargs):\n",
    "    model = Sequential()\n",
    "    model.add(\n",
    "        Embedding(vocab_size, embedding_size, input_length=input_length, trainable=True,\n",
    "                 embeddings_regularizer=regularizers.l2(embed_l2))\n",
    "    )\n",
    "    model.add(Flatten())\n",
    "    model.add(Dense(n_units, activation=dense_activation, kernel_regularizer=regularizers.l2(l2)))\n",
    "    model.add(BatchNormalization())\n",
    "    model.add(Dropout(rate=dropout_rate))\n",
    "#     model.add(Flatten())\n",
    "    model.add(Dense(output_size, activation='softmax'))\n",
    "    # compile the model\n",
    "    optimizer = Adam(lr=lr)\n",
    "    model.compile(optimizer=optimizer, loss='sparse_categorical_crossentropy', metrics=['acc'])\n",
    "    return model"
   ]
  },
  {
   "cell_type": "markdown",
   "metadata": {},
   "source": [
    "Теперь это все запустим"
   ]
  },
  {
   "cell_type": "code",
   "execution_count": 137,
   "metadata": {
    "collapsed": true
   },
   "outputs": [],
   "source": [
    "n_units = 192\n",
    "lr = 0.0002\n",
    "l2 = 1e-5\n",
    "embed_l2 = 1e-4\n",
    "output_size = 5\n",
    "embedding_size = 40\n",
    "input_length = max_length\n",
    "model = build_model(vocab_size, embedding_size, input_length, n_units, output_size, lr, \n",
    "                    dropout_rate=0.3, l2=l2, embed_l2=embed_l2)"
   ]
  },
  {
   "cell_type": "code",
   "execution_count": 138,
   "metadata": {},
   "outputs": [
    {
     "name": "stdout",
     "output_type": "stream",
     "text": [
      "_________________________________________________________________\n",
      "Layer (type)                 Output Shape              Param #   \n",
      "=================================================================\n",
      "embedding_17 (Embedding)     (None, 898, 40)           33044040  \n",
      "_________________________________________________________________\n",
      "flatten_16 (Flatten)         (None, 35920)             0         \n",
      "_________________________________________________________________\n",
      "dense_31 (Dense)             (None, 192)               6896832   \n",
      "_________________________________________________________________\n",
      "batch_normalization_16 (Batc (None, 192)               768       \n",
      "_________________________________________________________________\n",
      "dropout_16 (Dropout)         (None, 192)               0         \n",
      "_________________________________________________________________\n",
      "dense_32 (Dense)             (None, 5)                 965       \n",
      "=================================================================\n",
      "Total params: 39,942,605\n",
      "Trainable params: 39,942,221\n",
      "Non-trainable params: 384\n",
      "_________________________________________________________________\n"
     ]
    }
   ],
   "source": [
    "model.summary()"
   ]
  },
  {
   "cell_type": "code",
   "execution_count": 139,
   "metadata": {
    "scrolled": false
   },
   "outputs": [
    {
     "name": "stdout",
     "output_type": "stream",
     "text": [
      "Train on 93104 samples, validate on 10345 samples\n",
      "Epoch 1/10\n",
      "93104/93104 [==============================] - 367s 4ms/step - loss: 2.1488 - acc: 0.5322 - val_loss: 1.4714 - val_acc: 0.5912\n",
      "Epoch 2/10\n",
      "93104/93104 [==============================] - 376s 4ms/step - loss: 0.9991 - acc: 0.7471 - val_loss: 1.2443 - val_acc: 0.6801\n",
      "Epoch 3/10\n",
      "93104/93104 [==============================] - 353s 4ms/step - loss: 0.5416 - acc: 0.9052 - val_loss: 1.5058 - val_acc: 0.6738\n",
      "Epoch 4/10\n",
      "93104/93104 [==============================] - 379s 4ms/step - loss: 0.2853 - acc: 0.9837 - val_loss: 1.5514 - val_acc: 0.6350\n",
      "Epoch 5/10\n",
      "93104/93104 [==============================] - 353s 4ms/step - loss: 0.1881 - acc: 0.9984 - val_loss: 1.6773 - val_acc: 0.6446\n",
      "Epoch 6/10\n",
      "93104/93104 [==============================] - 360s 4ms/step - loss: 0.1433 - acc: 0.9997 - val_loss: 1.8166 - val_acc: 0.6158\n",
      "Epoch 7/10\n",
      "93104/93104 [==============================] - 356s 4ms/step - loss: 0.1140 - acc: 0.9998 - val_loss: 1.9212 - val_acc: 0.6373\n",
      "Epoch 8/10\n",
      "93104/93104 [==============================] - 382s 4ms/step - loss: 0.0932 - acc: 0.9998 - val_loss: 2.0437 - val_acc: 0.6171\n",
      "Epoch 9/10\n",
      "93104/93104 [==============================] - 354s 4ms/step - loss: 0.0779 - acc: 0.9997 - val_loss: 2.2075 - val_acc: 0.6343\n",
      "Epoch 10/10\n",
      "93104/93104 [==============================] - 374s 4ms/step - loss: 0.0707 - acc: 0.9990 - val_loss: 2.3566 - val_acc: 0.6171\n",
      "CPU times: user 2h 6min 17s, sys: 36min 17s, total: 2h 42min 35s\n",
      "Wall time: 1h 55s\n"
     ]
    }
   ],
   "source": [
    "%%time\n",
    "n_epoches = 10\n",
    "batch_size = 256\n",
    "callbacks = [\n",
    "#     EarlyStopping(monitor='val_loss', min_delta=0.005, patience=2, verbose=0, mode='auto'),\n",
    "#     TensorBoard(log_dir='./data/logs', histogram_freq=3, batch_size=batch_size)\n",
    "]\n",
    "try:\n",
    "    history = train_model(model, X_train, y_train, n_epoches, n_initial_epoch=0, \n",
    "                      batch_size=batch_size, callbacks=callbacks)\n",
    "except:\n",
    "    print('KeyboardInterrupt!')"
   ]
  },
  {
   "cell_type": "code",
   "execution_count": 140,
   "metadata": {
    "scrolled": true
   },
   "outputs": [
    {
     "name": "stdout",
     "output_type": "stream",
     "text": [
      "25863/25863 [==============================] - 71s 3ms/step\n",
      "Loss: 2.432, acc: 60.96%\n"
     ]
    },
    {
     "data": {
      "text/plain": [
       "(2.4322503431580005, 0.6095967211916179)"
      ]
     },
     "execution_count": 140,
     "metadata": {},
     "output_type": "execute_result"
    }
   ],
   "source": [
    "eval_test_score(model, X_test, y_test)"
   ]
  },
  {
   "cell_type": "markdown",
   "metadata": {},
   "source": [
    "С увеличением lr модель переобучилась быстрей"
   ]
  },
  {
   "cell_type": "markdown",
   "metadata": {},
   "source": [
    "### Обучим свои embedding'и"
   ]
  },
  {
   "cell_type": "markdown",
   "metadata": {},
   "source": [
    "Из-за того что в embedding слое слишком много свободных параметров нейронка переобучается при больших lr и вообще почти не учится при его уменьшении(в коде остался второй вариант). Использовать предобученные на других данных embedding'и, как мне кажется, не самая лучшая идея для достижения хороших результатов, поскольку они не учитывают спицифику данной задачи(банковская сфера и ее словарь). Так что обучим свои, пусть и плохие"
   ]
  },
  {
   "cell_type": "code",
   "execution_count": 57,
   "metadata": {
    "collapsed": true
   },
   "outputs": [],
   "source": [
    "import gensim\n",
    "from sklearn.decomposition import PCA"
   ]
  },
  {
   "cell_type": "markdown",
   "metadata": {},
   "source": [
    "Функция, подготавливающая данные для w2v"
   ]
  },
  {
   "cell_type": "code",
   "execution_count": 161,
   "metadata": {
    "collapsed": true
   },
   "outputs": [],
   "source": [
    "def sentences_for_w2v(data):\n",
    "    \"\"\"\n",
    "    Use Mystem lemmer for data and remove word, which not contain letters.\n",
    "    \"\"\"\n",
    "    lemmer = Mystem()\n",
    "#     sentences = [''.join(lemmer.lemmatize(post_to_words(sent))) \n",
    "#                  for text in data for sent in nltk.sent_tokenize(text)]\n",
    "    sentences = [[word for word in lemmer.lemmatize(post_to_words(sent))]\n",
    "                 for text in data for sent in nltk.sent_tokenize(text.lower())]\n",
    "    return sentences"
   ]
  },
  {
   "cell_type": "markdown",
   "metadata": {},
   "source": [
    "Подготовим данные для обучения w2v"
   ]
  },
  {
   "cell_type": "code",
   "execution_count": 165,
   "metadata": {},
   "outputs": [
    {
     "name": "stdout",
     "output_type": "stream",
     "text": [
      "CPU times: user 18min 44s, sys: 2min 6s, total: 20min 50s\n",
      "Wall time: 36min 33s\n"
     ]
    }
   ],
   "source": [
    "%%time\n",
    "sentences = sentences_for_w2v(df['text'].values)"
   ]
  },
  {
   "cell_type": "markdown",
   "metadata": {},
   "source": [
    "Обучим модель w2v"
   ]
  },
  {
   "cell_type": "code",
   "execution_count": 181,
   "metadata": {},
   "outputs": [
    {
     "name": "stdout",
     "output_type": "stream",
     "text": [
      "CPU times: user 10h 37min 15s, sys: 3min 35s, total: 10h 40min 50s\n",
      "Wall time: 3h 48min 50s\n"
     ]
    }
   ],
   "source": [
    "%%time\n",
    "embedding_size = 50\n",
    "# train model(skip-gram, negative sampling)\n",
    "w2v_model = gensim.models.Word2Vec(sentences, size=embedding_size, min_count=3, window=5, iter=100, sg=1, \n",
    "                                   alpha=0.03, min_alpha=0.0005, hs=0, negative=20, seed=0, compute_loss=True)"
   ]
  },
  {
   "cell_type": "code",
   "execution_count": 182,
   "metadata": {},
   "outputs": [
    {
     "name": "stdout",
     "output_type": "stream",
     "text": [
      "Word2Vec(vocab=39335, size=50, alpha=0.03)\n"
     ]
    }
   ],
   "source": [
    "# summarize the loaded model\n",
    "print(w2v_model)"
   ]
  },
  {
   "cell_type": "code",
   "execution_count": 183,
   "metadata": {},
   "outputs": [
    {
     "name": "stdout",
     "output_type": "stream",
     "text": [
      "Word2Vec(vocab=39335, size=50, alpha=0.03)\n"
     ]
    }
   ],
   "source": [
    "# save model\n",
    "w2v_model.save('data/w2v/w2v_model.bin')\n",
    "w2v_model.wv.save_word2vec_format('data/w2v/w2v_model_binary.bin', binary=True)\n",
    "# load model\n",
    "new_w2v_model = gensim.models.Word2Vec.load('data/w2v/w2v_model.bin')\n",
    "print(new_w2v_model)"
   ]
  },
  {
   "cell_type": "markdown",
   "metadata": {},
   "source": [
    "Изобразим эти векторы в 2-d"
   ]
  },
  {
   "cell_type": "code",
   "execution_count": 184,
   "metadata": {},
   "outputs": [
    {
     "name": "stderr",
     "output_type": "stream",
     "text": [
      "/Users/maxim/miniconda3/lib/python3.6/site-packages/ipykernel_launcher.py:2: DeprecationWarning: Call to deprecated `__getitem__` (Method will be removed in 4.0.0, use self.wv.__getitem__() instead).\n",
      "  \n"
     ]
    }
   ],
   "source": [
    "# fit a 2d PCA model to the vectors\n",
    "X = w2v_model[w2v_model.wv.vocab]\n",
    "pca = PCA(n_components=2)\n",
    "result = pca.fit_transform(X)"
   ]
  },
  {
   "cell_type": "code",
   "execution_count": 185,
   "metadata": {},
   "outputs": [
    {
     "data": {
      "image/png": "[encoded data removed]",
      "text/plain": [
       "<matplotlib.figure.Figure at 0x4bd18c780>"
      ]
     },
     "metadata": {},
     "output_type": "display_data"
    }
   ],
   "source": [
    "# create a scatter plot of the projection\n",
    "n_words = 100\n",
    "plt.figure(figsize=(16, 10))\n",
    "plt.scatter(result[:n_words, 0], result[:n_words, 1])\n",
    "words = list(w2v_model.wv.vocab)\n",
    "for i, word in enumerate(words[:n_words]):\n",
    "    plt.annotate(word, xy=(result[i, 0], result[i, 1]))\n",
    "plt.show()"
   ]
  },
  {
   "cell_type": "markdown",
   "metadata": {},
   "source": [
    "Поиграем с близостью слов"
   ]
  },
  {
   "cell_type": "code",
   "execution_count": 186,
   "metadata": {},
   "outputs": [
    {
     "name": "stderr",
     "output_type": "stream",
     "text": [
      "/Users/maxim/miniconda3/lib/python3.6/site-packages/ipykernel_launcher.py:1: DeprecationWarning: Call to deprecated `most_similar` (Method will be removed in 4.0.0, use self.wv.most_similar() instead).\n",
      "  \"\"\"Entry point for launching an IPython kernel.\n"
     ]
    },
    {
     "data": {
      "text/plain": [
       "[('втб', 0.8088374137878418),\n",
       " ('бм', 0.7948548197746277),\n",
       " ('уралсиб', 0.7918426394462585),\n",
       " ('банка', 0.7904466390609741),\n",
       " ('росбанк', 0.7856262922286987),\n",
       " ('сити', 0.7848443984985352),\n",
       " ('рс', 0.7811917662620544),\n",
       " ('псб', 0.778639018535614),\n",
       " ('бб', 0.77851802110672),\n",
       " ('ситибанк', 0.7768324613571167)]"
      ]
     },
     "execution_count": 186,
     "metadata": {},
     "output_type": "execute_result"
    }
   ],
   "source": [
    "w2v_model.most_similar('банк')"
   ]
  },
  {
   "cell_type": "code",
   "execution_count": null,
   "metadata": {
    "collapsed": true
   },
   "outputs": [],
   "source": []
  },
  {
   "cell_type": "code",
   "execution_count": null,
   "metadata": {
    "collapsed": true
   },
   "outputs": [],
   "source": []
  },
  {
   "cell_type": "markdown",
   "metadata": {},
   "source": [
    "### Используем эти embedding'и в нейронке"
   ]
  },
  {
   "cell_type": "markdown",
   "metadata": {},
   "source": [
    "Загрузим обученную модель"
   ]
  },
  {
   "cell_type": "code",
   "execution_count": 107,
   "metadata": {},
   "outputs": [
    {
     "name": "stdout",
     "output_type": "stream",
     "text": [
      "Word2Vec(vocab=39335, size=50, alpha=0.03)\n"
     ]
    }
   ],
   "source": [
    "# load model\n",
    "w2v_model = gensim.models.Word2Vec.load('data/w2v/w2v_model.bin')\n",
    "print(w2v_model)"
   ]
  },
  {
   "cell_type": "markdown",
   "metadata": {},
   "source": [
    "Создадим матирцу embedding"
   ]
  },
  {
   "cell_type": "code",
   "execution_count": 109,
   "metadata": {},
   "outputs": [
    {
     "name": "stdout",
     "output_type": "stream",
     "text": [
      "CPU times: user 1.17 s, sys: 64.8 ms, total: 1.23 s\n",
      "Wall time: 1.25 s\n"
     ]
    }
   ],
   "source": [
    "%%time\n",
    "embedding_size = 50\n",
    "embedding_matrix = np.zeros((vocab_size, embedding_size))\n",
    "for word, i in t.word_index.items():\n",
    "    try:\n",
    "        embedding_vector = w2v_model.wv.get_vector(word)\n",
    "        if embedding_vector is not None:\n",
    "            embedding_matrix[i] = embedding_vector\n",
    "    except:\n",
    "        pass"
   ]
  },
  {
   "cell_type": "markdown",
   "metadata": {},
   "source": [
    "#### Построим модель с замороженным embedding слоем"
   ]
  },
  {
   "cell_type": "code",
   "execution_count": 110,
   "metadata": {
    "collapsed": true
   },
   "outputs": [],
   "source": [
    "def build_model(vocab_size, embedding_size, embedding_matrix, input_length, n_units, output_size, lr=0.001, \n",
    "                dense_activation='relu', dropout_rate=0.2, l2=0., **kwargs):\n",
    "    model = Sequential()\n",
    "    model.add(\n",
    "        Embedding(vocab_size, embedding_size, weights=[embedding_matrix], input_length=input_length, \n",
    "                  trainable=False)\n",
    "    )\n",
    "    model.add(Flatten())\n",
    "    model.add(Dense(n_units, activation=dense_activation, kernel_regularizer=regularizers.l2(l2)))\n",
    "    model.add(BatchNormalization())\n",
    "    model.add(Dropout(rate=dropout_rate))\n",
    "    model.add(Dense(output_size, activation='softmax'))\n",
    "    # compile the model\n",
    "    optimizer = Adam(lr=lr)\n",
    "    model.compile(optimizer=optimizer, loss='sparse_categorical_crossentropy', metrics=['acc'])\n",
    "    return model"
   ]
  },
  {
   "cell_type": "markdown",
   "metadata": {},
   "source": [
    "Теперь это все запустим"
   ]
  },
  {
   "cell_type": "code",
   "execution_count": 115,
   "metadata": {},
   "outputs": [],
   "source": [
    "n_units = 192\n",
    "lr = 0.0005\n",
    "l2 = 1e-6\n",
    "output_size = 5\n",
    "embedding_size = 50\n",
    "input_length = max_length\n",
    "model = build_model(vocab_size, embedding_size, embedding_matrix, input_length, n_units, output_size, lr, \n",
    "                    dropout_rate=0.4, l2=l2)"
   ]
  },
  {
   "cell_type": "code",
   "execution_count": 116,
   "metadata": {},
   "outputs": [
    {
     "name": "stdout",
     "output_type": "stream",
     "text": [
      "_________________________________________________________________\n",
      "Layer (type)                 Output Shape              Param #   \n",
      "=================================================================\n",
      "embedding_13 (Embedding)     (None, 898, 50)           41305050  \n",
      "_________________________________________________________________\n",
      "flatten_12 (Flatten)         (None, 44900)             0         \n",
      "_________________________________________________________________\n",
      "dense_23 (Dense)             (None, 192)               8620992   \n",
      "_________________________________________________________________\n",
      "batch_normalization_12 (Batc (None, 192)               768       \n",
      "_________________________________________________________________\n",
      "dropout_12 (Dropout)         (None, 192)               0         \n",
      "_________________________________________________________________\n",
      "dense_24 (Dense)             (None, 5)                 965       \n",
      "=================================================================\n",
      "Total params: 49,927,775\n",
      "Trainable params: 8,622,341\n",
      "Non-trainable params: 41,305,434\n",
      "_________________________________________________________________\n"
     ]
    }
   ],
   "source": [
    "model.summary()"
   ]
  },
  {
   "cell_type": "code",
   "execution_count": 117,
   "metadata": {
    "scrolled": true
   },
   "outputs": [
    {
     "name": "stdout",
     "output_type": "stream",
     "text": [
      "Train on 93104 samples, validate on 10345 samples\n",
      "Epoch 1/50\n",
      "93104/93104 [==============================] - 141s 2ms/step - loss: 1.3156 - acc: 0.5583 - val_loss: 1.0562 - val_acc: 0.6387\n",
      "Epoch 2/50\n",
      "93104/93104 [==============================] - 141s 2ms/step - loss: 0.9105 - acc: 0.6752 - val_loss: 1.0964 - val_acc: 0.6410\n",
      "Epoch 3/50\n",
      "93104/93104 [==============================] - 145s 2ms/step - loss: 0.7709 - acc: 0.7202 - val_loss: 1.1291 - val_acc: 0.6294\n",
      "CPU times: user 18min 10s, sys: 1min 38s, total: 19min 49s\n",
      "Wall time: 7min 7s\n"
     ]
    }
   ],
   "source": [
    "%%time\n",
    "n_epoches = 50\n",
    "batch_size = 256\n",
    "callbacks = [\n",
    "    EarlyStopping(monitor='val_loss', min_delta=0.005, patience=2, verbose=0, mode='auto'),\n",
    "#     TensorBoard(log_dir='./data/logs', histogram_freq=3, batch_size=batch_size)\n",
    "]\n",
    "try:\n",
    "    history = train_model(model, X_train, y_train, n_epoches, n_initial_epoch=0, \n",
    "                          batch_size=batch_size, callbacks=callbacks)\n",
    "except:\n",
    "    print('KeyboardInterrupt!')"
   ]
  },
  {
   "cell_type": "code",
   "execution_count": 118,
   "metadata": {},
   "outputs": [
    {
     "name": "stdout",
     "output_type": "stream",
     "text": [
      "25863/25863 [==============================] - 26s 1ms/step\n",
      "Loss: 1.116, acc: 63.00%\n"
     ]
    },
    {
     "data": {
      "text/plain": [
       "(1.1157661659675246, 0.6300119862420761)"
      ]
     },
     "execution_count": 118,
     "metadata": {},
     "output_type": "execute_result"
    }
   ],
   "source": [
    "eval_test_score(model, X_test, y_test)"
   ]
  },
  {
   "cell_type": "code",
   "execution_count": 119,
   "metadata": {},
   "outputs": [
    {
     "data": {
      "image/png": "[encoded data removed]",
      "text/plain": [
       "<matplotlib.figure.Figure at 0x121afb0b8>"
      ]
     },
     "metadata": {},
     "output_type": "display_data"
    }
   ],
   "source": [
    "history_plot(history)"
   ]
  },
  {
   "cell_type": "markdown",
   "metadata": {
    "collapsed": true
   },
   "source": [
    "С замороженными весами тоже переобучается"
   ]
  },
  {
   "cell_type": "code",
   "execution_count": null,
   "metadata": {
    "collapsed": true
   },
   "outputs": [],
   "source": []
  },
  {
   "cell_type": "markdown",
   "metadata": {},
   "source": [
    "#### Построим модель с обучающимся embedding слоем"
   ]
  },
  {
   "cell_type": "code",
   "execution_count": 120,
   "metadata": {
    "collapsed": true
   },
   "outputs": [],
   "source": [
    "def build_model(vocab_size, embedding_size, embedding_matrix, input_length, n_units, output_size, lr=0.001, \n",
    "                dense_activation='relu', dropout_rate=0.2, l2=0., embed_l2=0., **kwargs):\n",
    "    model = Sequential()\n",
    "    model.add(\n",
    "        Embedding(vocab_size, embedding_size, weights=[embedding_matrix], input_length=input_length, \n",
    "                  trainable=True, embeddings_regularizer=regularizers.l2(embed_l2))\n",
    "    )\n",
    "    model.add(Flatten())\n",
    "    model.add(Dense(n_units, activation=dense_activation, kernel_regularizer=regularizers.l2(l2)))\n",
    "    model.add(BatchNormalization())\n",
    "    model.add(Dropout(rate=dropout_rate))\n",
    "    model.add(Dense(output_size, activation='softmax'))\n",
    "    # compile the model\n",
    "    optimizer = Adam(lr=lr)\n",
    "    model.compile(optimizer=optimizer, loss='sparse_categorical_crossentropy', metrics=['acc'])\n",
    "    return model"
   ]
  },
  {
   "cell_type": "markdown",
   "metadata": {},
   "source": [
    "Теперь это все запустим"
   ]
  },
  {
   "cell_type": "code",
   "execution_count": 121,
   "metadata": {
    "collapsed": true
   },
   "outputs": [],
   "source": [
    "n_units = 192\n",
    "lr = 0.0007\n",
    "l2 = 1e-6\n",
    "embed_l2=1e-7\n",
    "output_size = 5\n",
    "input_length = max_length\n",
    "model = build_model(vocab_size, embedding_size, embedding_matrix, input_length, n_units, output_size, lr, \n",
    "                    dropout_rate=0.5, l2=l2)"
   ]
  },
  {
   "cell_type": "code",
   "execution_count": 122,
   "metadata": {},
   "outputs": [
    {
     "name": "stdout",
     "output_type": "stream",
     "text": [
      "_________________________________________________________________\n",
      "Layer (type)                 Output Shape              Param #   \n",
      "=================================================================\n",
      "embedding_14 (Embedding)     (None, 898, 50)           41305050  \n",
      "_________________________________________________________________\n",
      "flatten_13 (Flatten)         (None, 44900)             0         \n",
      "_________________________________________________________________\n",
      "dense_25 (Dense)             (None, 192)               8620992   \n",
      "_________________________________________________________________\n",
      "batch_normalization_13 (Batc (None, 192)               768       \n",
      "_________________________________________________________________\n",
      "dropout_13 (Dropout)         (None, 192)               0         \n",
      "_________________________________________________________________\n",
      "dense_26 (Dense)             (None, 5)                 965       \n",
      "=================================================================\n",
      "Total params: 49,927,775\n",
      "Trainable params: 49,927,391\n",
      "Non-trainable params: 384\n",
      "_________________________________________________________________\n"
     ]
    }
   ],
   "source": [
    "model.summary()"
   ]
  },
  {
   "cell_type": "code",
   "execution_count": 123,
   "metadata": {
    "scrolled": true
   },
   "outputs": [
    {
     "name": "stdout",
     "output_type": "stream",
     "text": [
      "Train on 93104 samples, validate on 10345 samples\n",
      "Epoch 1/50\n",
      "93104/93104 [==============================] - 426s 5ms/step - loss: 1.1543 - acc: 0.6011 - val_loss: 0.9185 - val_acc: 0.6841\n",
      "Epoch 2/50\n",
      "93104/93104 [==============================] - 397s 4ms/step - loss: 0.7937 - acc: 0.7093 - val_loss: 1.0041 - val_acc: 0.6834\n",
      "Epoch 3/50\n",
      "93104/93104 [==============================] - 410s 4ms/step - loss: 0.5936 - acc: 0.7748 - val_loss: 1.1194 - val_acc: 0.6685\n",
      "CPU times: user 39min 50s, sys: 15min 3s, total: 54min 53s\n",
      "Wall time: 20min 34s\n"
     ]
    }
   ],
   "source": [
    "%%time\n",
    "n_epoches = 50\n",
    "batch_size = 256\n",
    "callbacks = [\n",
    "    EarlyStopping(monitor='val_loss', min_delta=0.005, patience=2, verbose=0, mode='auto'),\n",
    "#     TensorBoard(log_dir='./data/logs', histogram_freq=3, batch_size=batch_size)\n",
    "]\n",
    "try:\n",
    "    history = train_model(model, X_train, y_train, n_epoches, n_initial_epoch=0, \n",
    "                          batch_size=batch_size, callbacks=callbacks)\n",
    "except:\n",
    "    print('KeyboardInterrupt!')"
   ]
  },
  {
   "cell_type": "code",
   "execution_count": 124,
   "metadata": {},
   "outputs": [
    {
     "name": "stdout",
     "output_type": "stream",
     "text": [
      "25863/25863 [==============================] - 28s 1ms/step\n",
      "Loss: 1.103, acc: 66.84%\n"
     ]
    },
    {
     "data": {
      "text/plain": [
       "(1.1028953953970753, 0.6683679387611188)"
      ]
     },
     "execution_count": 124,
     "metadata": {},
     "output_type": "execute_result"
    }
   ],
   "source": [
    "eval_test_score(model, X_test, y_test)"
   ]
  },
  {
   "cell_type": "markdown",
   "metadata": {
    "collapsed": true
   },
   "source": [
    "С разморозка весов embedding'а не помогла(да и не должна была помочь от переобучения). Просто интересно было попробовать инициализировать матрицу embedding'ов"
   ]
  },
  {
   "cell_type": "code",
   "execution_count": 125,
   "metadata": {},
   "outputs": [
    {
     "name": "stdout",
     "output_type": "stream",
     "text": [
      "Created:\n",
      "data/models/model_weights_12.h5\n",
      "data/models/model_architecture_12.json\n"
     ]
    }
   ],
   "source": [
    "path_to_folder = 'data/models/'\n",
    "save_model(model, path_to_folder)"
   ]
  },
  {
   "cell_type": "code",
   "execution_count": null,
   "metadata": {
    "collapsed": true
   },
   "outputs": [],
   "source": []
  },
  {
   "cell_type": "code",
   "execution_count": null,
   "metadata": {
    "collapsed": true
   },
   "outputs": [],
   "source": []
  },
  {
   "cell_type": "markdown",
   "metadata": {},
   "source": [
    "### Используем facebook embedding'и в нейронке"
   ]
  },
  {
   "cell_type": "markdown",
   "metadata": {},
   "source": [
    "Загрузим embedding в память"
   ]
  },
  {
   "cell_type": "code",
   "execution_count": 81,
   "metadata": {},
   "outputs": [
    {
     "name": "stdout",
     "output_type": "stream",
     "text": [
      "Loaded 1862490 word vectors.\n",
      "CPU times: user 2min 34s, sys: 10.1 s, total: 2min 44s\n",
      "Wall time: 2min 56s\n"
     ]
    }
   ],
   "source": [
    "%%time\n",
    "file_name = '../HW_2/data/wiki.ru.vec'\n",
    "embeddings_index = dict()\n",
    "with open(file_name) as f:\n",
    "    line = f.readline()\n",
    "    n_words, embedding_size = map(int, line.split())\n",
    "    for line in f:\n",
    "        values = line.strip().split(' ')\n",
    "        word = values[0]\n",
    "        coefs = np.asarray(values[1:], dtype='float32')\n",
    "        embeddings_index[word] = coefs\n",
    "print('Loaded %s word vectors.' % len(embeddings_index))"
   ]
  },
  {
   "cell_type": "markdown",
   "metadata": {},
   "source": [
    "Создадим матирцу embedding"
   ]
  },
  {
   "cell_type": "code",
   "execution_count": 82,
   "metadata": {},
   "outputs": [
    {
     "name": "stdout",
     "output_type": "stream",
     "text": [
      "CPU times: user 1.72 s, sys: 2.25 s, total: 3.96 s\n",
      "Wall time: 5.64 s\n"
     ]
    }
   ],
   "source": [
    "%%time\n",
    "n_words_in_embedding = 0\n",
    "embedding_matrix = np.zeros((vocab_size, embedding_size))\n",
    "for word, i in t.word_index.items():\n",
    "    embedding_vector = embeddings_index.get(word)\n",
    "    if embedding_vector is not None:\n",
    "        embedding_matrix[i] = embedding_vector\n",
    "        n_words_in_embedding += 1"
   ]
  },
  {
   "cell_type": "code",
   "execution_count": 83,
   "metadata": {},
   "outputs": [
    {
     "name": "stdout",
     "output_type": "stream",
     "text": [
      "157506\n"
     ]
    }
   ],
   "source": [
    "print(n_words_in_embedding)"
   ]
  },
  {
   "cell_type": "code",
   "execution_count": 84,
   "metadata": {
    "collapsed": true
   },
   "outputs": [],
   "source": [
    "del embeddings_index"
   ]
  },
  {
   "cell_type": "markdown",
   "metadata": {},
   "source": [
    "Построим модель с замороженным embedding слоем"
   ]
  },
  {
   "cell_type": "code",
   "execution_count": 97,
   "metadata": {
    "collapsed": true
   },
   "outputs": [],
   "source": [
    "def build_model(vocab_size, embedding_size, embedding_matrix, input_length, n_units, output_size, lr=0.001, \n",
    "                dense_activation='relu', dropout_rate=0.2, l2=0., **kwargs):\n",
    "    model = Sequential()\n",
    "    model.add(\n",
    "        Embedding(vocab_size, embedding_size, weights=[embedding_matrix], input_length=input_length, \n",
    "                  trainable=False)\n",
    "    )\n",
    "    model.add(Flatten())\n",
    "    model.add(Dense(n_units, activation=dense_activation, kernel_regularizer=regularizers.l2(l2)))\n",
    "    model.add(BatchNormalization())\n",
    "    model.add(Dropout(rate=dropout_rate))\n",
    "    model.add(Dense(output_size, activation='softmax'))\n",
    "    # compile the model\n",
    "    optimizer = Adam(lr=lr)\n",
    "    model.compile(optimizer=optimizer, loss='sparse_categorical_crossentropy', metrics=['acc'])\n",
    "    return model"
   ]
  },
  {
   "cell_type": "markdown",
   "metadata": {},
   "source": [
    "Теперь это все запустим"
   ]
  },
  {
   "cell_type": "code",
   "execution_count": 98,
   "metadata": {},
   "outputs": [],
   "source": [
    "n_units = 192\n",
    "lr = 0.0005\n",
    "l2 = 1e-6\n",
    "output_size = 5\n",
    "input_length = max_length\n",
    "embedding_size = 300\n",
    "model = build_model(vocab_size, embedding_size, embedding_matrix, input_length, n_units, output_size, lr, \n",
    "                    dropout_rate=0.2, l2=l2)"
   ]
  },
  {
   "cell_type": "code",
   "execution_count": 99,
   "metadata": {},
   "outputs": [
    {
     "name": "stdout",
     "output_type": "stream",
     "text": [
      "_________________________________________________________________\n",
      "Layer (type)                 Output Shape              Param #   \n",
      "=================================================================\n",
      "embedding_10 (Embedding)     (None, 898, 300)          247830300 \n",
      "_________________________________________________________________\n",
      "flatten_10 (Flatten)         (None, 269400)            0         \n",
      "_________________________________________________________________\n",
      "dense_19 (Dense)             (None, 192)               51724992  \n",
      "_________________________________________________________________\n",
      "batch_normalization_10 (Batc (None, 192)               768       \n",
      "_________________________________________________________________\n",
      "dropout_10 (Dropout)         (None, 192)               0         \n",
      "_________________________________________________________________\n",
      "dense_20 (Dense)             (None, 5)                 965       \n",
      "=================================================================\n",
      "Total params: 299,557,025\n",
      "Trainable params: 51,726,341\n",
      "Non-trainable params: 247,830,684\n",
      "_________________________________________________________________\n"
     ]
    }
   ],
   "source": [
    "model.summary()"
   ]
  },
  {
   "cell_type": "code",
   "execution_count": 100,
   "metadata": {
    "scrolled": true
   },
   "outputs": [
    {
     "name": "stdout",
     "output_type": "stream",
     "text": [
      "Train on 93104 samples, validate on 10345 samples\n",
      "Epoch 1/50\n",
      "93104/93104 [==============================] - 1035s 11ms/step - loss: 1.2567 - acc: 0.5552 - val_loss: 1.0405 - val_acc: 0.6424\n",
      "Epoch 2/50\n",
      "93104/93104 [==============================] - 1071s 12ms/step - loss: 0.8905 - acc: 0.6768 - val_loss: 1.3597 - val_acc: 0.5125\n",
      "Epoch 3/50\n",
      "93104/93104 [==============================] - 1037s 11ms/step - loss: 0.6900 - acc: 0.7432 - val_loss: 1.2341 - val_acc: 0.6304\n",
      "CPU times: user 2h 52s, sys: 28min 35s, total: 2h 29min 27s\n",
      "Wall time: 52min 23s\n"
     ]
    }
   ],
   "source": [
    "%%time\n",
    "n_epoches = 50\n",
    "batch_size = 256\n",
    "callbacks = [\n",
    "    EarlyStopping(monitor='val_loss', min_delta=0.005, patience=2, verbose=0, mode='auto'),\n",
    "#     TensorBoard(log_dir='./data/logs', histogram_freq=3, batch_size=batch_size)\n",
    "]\n",
    "try:\n",
    "    history = train_model(model, X_train, y_train, n_epoches, n_initial_epoch=0, \n",
    "                          batch_size=batch_size, callbacks=callbacks)\n",
    "except:\n",
    "    print('KeyboardInterrupt!')"
   ]
  },
  {
   "cell_type": "code",
   "execution_count": 101,
   "metadata": {},
   "outputs": [
    {
     "name": "stdout",
     "output_type": "stream",
     "text": [
      "25863/25863 [==============================] - 179s 7ms/step\n",
      "Loss: 1.220, acc: 63.19%\n"
     ]
    },
    {
     "data": {
      "text/plain": [
       "(1.2198752796770234, 0.6319452499779149)"
      ]
     },
     "execution_count": 101,
     "metadata": {},
     "output_type": "execute_result"
    }
   ],
   "source": [
    "eval_test_score(model, X_test, y_test)"
   ]
  },
  {
   "cell_type": "code",
   "execution_count": 102,
   "metadata": {
    "scrolled": true
   },
   "outputs": [
    {
     "name": "stdout",
     "output_type": "stream",
     "text": [
      "Train on 93104 samples, validate on 10345 samples\n",
      "Epoch 4/50\n",
      "93104/93104 [==============================] - 1035s 11ms/step - loss: 0.5243 - acc: 0.8067 - val_loss: 1.2878 - val_acc: 0.5822\n",
      "Epoch 5/50\n",
      " 1792/93104 [..............................] - ETA: 16:56 - loss: 0.3863 - acc: 0.8677KeyboardInterrupt!\n",
      "CPU times: user 39min 6s, sys: 9min 22s, total: 48min 29s\n",
      "Wall time: 17min 37s\n"
     ]
    }
   ],
   "source": [
    "%%time\n",
    "n_epoches = 50\n",
    "batch_size = 256\n",
    "callbacks = [\n",
    "    EarlyStopping(monitor='val_loss', min_delta=0.005, patience=2, verbose=0, mode='auto'),\n",
    "#     TensorBoard(log_dir='./data/logs', histogram_freq=3, batch_size=batch_size)\n",
    "]\n",
    "try:\n",
    "    history = train_model(model, X_train, y_train, n_epoches, n_initial_epoch=3, \n",
    "                          batch_size=batch_size, callbacks=callbacks)\n",
    "except:\n",
    "    print('KeyboardInterrupt!')"
   ]
  },
  {
   "cell_type": "markdown",
   "metadata": {},
   "source": [
    "Все равно оверфит"
   ]
  },
  {
   "cell_type": "code",
   "execution_count": null,
   "metadata": {
    "collapsed": true
   },
   "outputs": [],
   "source": []
  },
  {
   "cell_type": "code",
   "execution_count": null,
   "metadata": {
    "collapsed": true
   },
   "outputs": [],
   "source": []
  },
  {
   "cell_type": "markdown",
   "metadata": {},
   "source": [
    "## Часть 3. Baseline [4 балла] Активное обучение\n",
    "\n",
    "Подход активного обучения основан на следующей идее: вместо всего обучающего множества мы используем его маленькие фрагменты, в которых модель неуверена для обучения. Таким образом, модель обучается исключительно по **трудным** объектам, число которых существенно меньше, чем общее число объектов.\n",
    "\n",
    "Обучение модели начинается с обучения по $N$ случайно выбранным примерам, где $N$ – небольшое число (100, 200 и т.д.). Затем модель тестируется на $|train| - N$ объектах, после чего из  $|train| - N$ объектов выбираются снова $N$  объектов, в которых модель не уверена. Эти объекты используются для дообучения модели. Процесс выбора $N$ трудных объектов и дообучения на них повторяется некоторое количество раз (100, 200 и т.д. раз). На каждом шаге активного обучения модель можно протестировать на тестовом множестве, чтобы сравнить ее качества с baseline.\n",
    "\n",
    "Как выбирать трудные объекты:\n",
    "1. Выход нейронной сети - оценки 5 вероятностей принадлежности объекта одному из классов. Предсказанный класс – это тот класс, вероятность которого максимальна. Отсортируем объекты по убыванию вероятности предсказанного класса ($\\min \\max p_i$) и выберем $N$ первых объектов;\n",
    "2. Используем энтропию: чем больше энтропия предсказания, тем ближе распределение вероятностей предсказания к равномерному распределению, тем труднее объект. "
   ]
  },
  {
   "cell_type": "code",
   "execution_count": 211,
   "metadata": {
    "collapsed": true
   },
   "outputs": [],
   "source": [
    "import timeit\n",
    "from tqdm import tqdm"
   ]
  },
  {
   "cell_type": "code",
   "execution_count": 261,
   "metadata": {
    "collapsed": true
   },
   "outputs": [],
   "source": [
    "def build_model(vocab_size, embedding_size, embedding_matrix, input_length, n_units, output_size, lr=0.001, \n",
    "                dense_activation='relu', dropout_rate=0.2, l2=0., **kwargs):\n",
    "    model = Sequential()\n",
    "    model.add(\n",
    "        Embedding(vocab_size, embedding_size, weights=[embedding_matrix], input_length=input_length, \n",
    "                  trainable=False)\n",
    "    )\n",
    "    model.add(Flatten())\n",
    "    model.add(Dense(n_units, activation=dense_activation, kernel_regularizer=regularizers.l2(l2)))\n",
    "    model.add(BatchNormalization())\n",
    "    model.add(Dropout(rate=dropout_rate))\n",
    "    model.add(Dense(output_size, activation='softmax'))\n",
    "    # compile the model\n",
    "    optimizer = Adam(lr=lr)\n",
    "    model.compile(optimizer=optimizer, loss='sparse_categorical_crossentropy', metrics=['acc'])\n",
    "    return model"
   ]
  },
  {
   "cell_type": "code",
   "execution_count": 285,
   "metadata": {
    "collapsed": true
   },
   "outputs": [],
   "source": [
    "class ActiveTrainer:\n",
    "    def __init__(self, model):\n",
    "        self.model = model\n",
    "        \n",
    "    def train(self, X, y, N=128, n_epoches=10):\n",
    "        # будем искать только от 20% данных\n",
    "        idx_val, idx_test = train_test_split(\n",
    "            np.arange(y.shape[0], dtype='int32'), test_size=0.2, train_size=0.05, \n",
    "            random_state=5, shuffle=True, stratify=y)\n",
    "        idx_train = []\n",
    "        X_test, y_test = X[idx_test], y[idx_test]\n",
    "        X_val, y_val = X[idx_val], y[idx_val]\n",
    "        for epoch in tqdm(range(n_epoches)):\n",
    "            # выберем объекты для активного обучения и для генерации следующего train'а\n",
    "            idx = self.get_complex_obj_indexes(X_test, y_test)\n",
    "            idx_train = idx[:N]\n",
    "            other_idx = np.array([i for i in np.arange(y.shape[0], dtype='int32') \n",
    "                                  if i not in idx_train and i not in idx_val])\n",
    "            \n",
    "            _, idx_test = train_test_split(other_idx, stratify=y[other_idx], \n",
    "                                           test_size=0.2, random_state=5, shuffle=True)\n",
    "            X_train, X_test = X[idx_train], X[idx_test]\n",
    "            y_train, y_test = y[idx_train], y[idx_test]\n",
    "            # обучим модель на этих объектах\n",
    "            model.fit(X_train, y_train, validation_data=(X_val, y_val), \n",
    "                      epochs=epoch + 1, initial_epoch=epoch, batch_size=N)\n",
    "        \n",
    "    def get_complex_obj_indexes(self, X, y):\n",
    "        start_time = timeit.default_timer()\n",
    "        y_pred_probas = self.model.predict(X, batch_size=4096, verbose=1)\n",
    "        run_time = timeit.default_timer() - start_time\n",
    "        entropy = -np.log(y_pred_probas)[np.arange(y.shape[0]), y]\n",
    "        print(\"Run time for eval indexes: {:.2f} sec\".format(run_time))\n",
    "        return np.argsort(entropy)[::-1]\n",
    "    \n",
    "    def get_test_acc_and_loss(self, X, y):\n",
    "        loss, acc = self.model.evaluate(X, y)\n",
    "        print(\"Loss: {:.3f}, acc: {:.2f}%\".format(loss, acc*100))\n",
    "        return loss, acc"
   ]
  },
  {
   "cell_type": "markdown",
   "metadata": {},
   "source": [
    "Создадим модель для активного обучения"
   ]
  },
  {
   "cell_type": "code",
   "execution_count": 273,
   "metadata": {
    "collapsed": true
   },
   "outputs": [],
   "source": [
    "n_units = 192\n",
    "lr = 0.001\n",
    "l2 = 1e-8\n",
    "output_size = 5\n",
    "input_length = max_length\n",
    "model = build_model(vocab_size, embedding_size, embedding_matrix, input_length, n_units, output_size, lr, \n",
    "                    dropout_rate=0.2, l2=l2)"
   ]
  },
  {
   "cell_type": "code",
   "execution_count": 274,
   "metadata": {},
   "outputs": [
    {
     "name": "stdout",
     "output_type": "stream",
     "text": [
      "_________________________________________________________________\n",
      "Layer (type)                 Output Shape              Param #   \n",
      "=================================================================\n",
      "embedding_24 (Embedding)     (None, 867, 50)           51673350  \n",
      "_________________________________________________________________\n",
      "flatten_24 (Flatten)         (None, 43350)             0         \n",
      "_________________________________________________________________\n",
      "dense_46 (Dense)             (None, 192)               8323392   \n",
      "_________________________________________________________________\n",
      "batch_normalization_24 (Batc (None, 192)               768       \n",
      "_________________________________________________________________\n",
      "dropout_24 (Dropout)         (None, 192)               0         \n",
      "_________________________________________________________________\n",
      "dense_47 (Dense)             (None, 5)                 965       \n",
      "=================================================================\n",
      "Total params: 59,998,475\n",
      "Trainable params: 8,324,741\n",
      "Non-trainable params: 51,673,734\n",
      "_________________________________________________________________\n"
     ]
    }
   ],
   "source": [
    "model.summary()"
   ]
  },
  {
   "cell_type": "markdown",
   "metadata": {},
   "source": [
    "Начнем ее \"активно\" обучать"
   ]
  },
  {
   "cell_type": "code",
   "execution_count": 275,
   "metadata": {
    "scrolled": false
   },
   "outputs": [
    {
     "name": "stderr",
     "output_type": "stream",
     "text": [
      "\n",
      "  0%|          | 0/40 [00:00<?, ?it/s]\u001b[A\n",
      "Exception in thread Thread-431:\n",
      "Traceback (most recent call last):\n",
      "  File \"/Users/maxim/miniconda3/lib/python3.6/threading.py\", line 916, in _bootstrap_inner\n",
      "    self.run()\n",
      "  File \"/Users/maxim/miniconda3/lib/python3.6/site-packages/tqdm/_tqdm.py\", line 148, in run\n",
      "    for instance in self.tqdm_cls._instances:\n",
      "  File \"/Users/maxim/miniconda3/lib/python3.6/_weakrefset.py\", line 60, in __iter__\n",
      "    for itemref in self.data:\n",
      "RuntimeError: Set changed size during iteration\n",
      "\n"
     ]
    },
    {
     "name": "stdout",
     "output_type": "stream",
     "text": [
      "20628/20628 [==============================] - 13s 626us/step\n",
      "Run time for eval indexes: 12.91 sec\n",
      "Train on 128 samples, validate on 5157 samples\n",
      "Epoch 1/1\n",
      "128/128 [==============================] - 7s 53ms/step - loss: 2.4738 - acc: 0.2109 - val_loss: 1.6094 - val_acc: 0.2360\n"
     ]
    },
    {
     "name": "stderr",
     "output_type": "stream",
     "text": [
      "\r",
      "  2%|▎         | 1/40 [00:23<15:29, 23.82s/it]"
     ]
    },
    {
     "name": "stdout",
     "output_type": "stream",
     "text": [
      "19573/19573 [==============================] - 12s 609us/step\n",
      "Run time for eval indexes: 11.92 sec\n",
      "Train on 128 samples, validate on 5157 samples\n",
      "Epoch 2/2\n",
      "128/128 [==============================] - 5s 36ms/step - loss: 3.0884 - acc: 0.1641 - val_loss: 1.6548 - val_acc: 0.1966\n"
     ]
    },
    {
     "name": "stderr",
     "output_type": "stream",
     "text": [
      "\r",
      "  5%|▌         | 2/40 [00:44<13:59, 22.10s/it]"
     ]
    },
    {
     "name": "stdout",
     "output_type": "stream",
     "text": [
      "19573/19573 [==============================] - 11s 542us/step\n",
      "Run time for eval indexes: 10.62 sec\n",
      "Train on 128 samples, validate on 5157 samples\n",
      "Epoch 3/3\n",
      "128/128 [==============================] - 5s 36ms/step - loss: 3.0024 - acc: 0.1641 - val_loss: 1.6988 - val_acc: 0.1887\n"
     ]
    },
    {
     "name": "stderr",
     "output_type": "stream",
     "text": [
      "\r",
      "  8%|▊         | 3/40 [01:01<12:39, 20.52s/it]"
     ]
    },
    {
     "name": "stdout",
     "output_type": "stream",
     "text": [
      "19572/19572 [==============================] - 11s 545us/step\n",
      "Run time for eval indexes: 10.68 sec\n",
      "Train on 128 samples, validate on 5157 samples\n",
      "Epoch 4/4\n",
      "128/128 [==============================] - 5s 38ms/step - loss: 2.6901 - acc: 0.2656 - val_loss: 1.6919 - val_acc: 0.2116\n"
     ]
    },
    {
     "name": "stderr",
     "output_type": "stream",
     "text": [
      "\r",
      " 10%|█         | 4/40 [01:19<11:51, 19.77s/it]"
     ]
    },
    {
     "name": "stdout",
     "output_type": "stream",
     "text": [
      "19573/19573 [==============================] - 11s 580us/step\n",
      "Run time for eval indexes: 11.37 sec\n",
      "Train on 128 samples, validate on 5157 samples\n",
      "Epoch 5/5\n",
      "128/128 [==============================] - 5s 36ms/step - loss: 2.5084 - acc: 0.2812 - val_loss: 1.6583 - val_acc: 0.2424\n"
     ]
    },
    {
     "name": "stderr",
     "output_type": "stream",
     "text": [
      "\r",
      " 12%|█▎        | 5/40 [01:37<11:19, 19.42s/it]"
     ]
    },
    {
     "name": "stdout",
     "output_type": "stream",
     "text": [
      "19573/19573 [==============================] - 11s 552us/step\n",
      "Run time for eval indexes: 10.81 sec\n",
      "Train on 128 samples, validate on 5157 samples\n",
      "Epoch 6/6\n",
      "128/128 [==============================] - 4s 35ms/step - loss: 2.2376 - acc: 0.3203 - val_loss: 1.6189 - val_acc: 0.2808\n"
     ]
    },
    {
     "name": "stderr",
     "output_type": "stream",
     "text": [
      "\r",
      " 15%|█▌        | 6/40 [01:54<10:48, 19.06s/it]"
     ]
    },
    {
     "name": "stdout",
     "output_type": "stream",
     "text": [
      "19572/19572 [==============================] - 11s 552us/step\n",
      "Run time for eval indexes: 10.81 sec\n",
      "Train on 128 samples, validate on 5157 samples\n",
      "Epoch 7/7\n",
      "128/128 [==============================] - 5s 36ms/step - loss: 2.3360 - acc: 0.2344 - val_loss: 1.5778 - val_acc: 0.3137\n"
     ]
    },
    {
     "name": "stderr",
     "output_type": "stream",
     "text": [
      "\r",
      " 18%|█▊        | 7/40 [02:11<10:18, 18.75s/it]"
     ]
    },
    {
     "name": "stdout",
     "output_type": "stream",
     "text": [
      "19573/19573 [==============================] - 11s 550us/step\n",
      "Run time for eval indexes: 10.77 sec\n",
      "Train on 128 samples, validate on 5157 samples\n",
      "Epoch 8/8\n",
      "128/128 [==============================] - 5s 37ms/step - loss: 2.0028 - acc: 0.3125 - val_loss: 1.5564 - val_acc: 0.3384\n"
     ]
    },
    {
     "name": "stderr",
     "output_type": "stream",
     "text": [
      "\r",
      " 20%|██        | 8/40 [02:28<09:52, 18.53s/it]"
     ]
    },
    {
     "name": "stdout",
     "output_type": "stream",
     "text": [
      "19572/19572 [==============================] - 11s 546us/step\n",
      "Run time for eval indexes: 10.70 sec\n",
      "Train on 128 samples, validate on 5157 samples\n",
      "Epoch 9/9\n",
      "128/128 [==============================] - 5s 36ms/step - loss: 1.8041 - acc: 0.3672 - val_loss: 1.5393 - val_acc: 0.3597\n"
     ]
    },
    {
     "name": "stderr",
     "output_type": "stream",
     "text": [
      "\r",
      " 22%|██▎       | 9/40 [02:45<09:28, 18.34s/it]"
     ]
    },
    {
     "name": "stdout",
     "output_type": "stream",
     "text": [
      "19573/19573 [==============================] - 13s 640us/step\n",
      "Run time for eval indexes: 12.54 sec\n",
      "Train on 128 samples, validate on 5157 samples\n",
      "Epoch 10/10\n",
      "128/128 [==============================] - 6s 45ms/step - loss: 1.8479 - acc: 0.3594 - val_loss: 1.5206 - val_acc: 0.3869\n"
     ]
    },
    {
     "name": "stderr",
     "output_type": "stream",
     "text": [
      "\r",
      " 25%|██▌       | 10/40 [03:05<09:16, 18.54s/it]"
     ]
    },
    {
     "name": "stdout",
     "output_type": "stream",
     "text": [
      "19573/19573 [==============================] - 12s 599us/step\n",
      "Run time for eval indexes: 11.73 sec\n",
      "Train on 128 samples, validate on 5157 samples\n",
      "Epoch 11/11\n",
      "128/128 [==============================] - 7s 54ms/step - loss: 2.1027 - acc: 0.3125 - val_loss: 1.5058 - val_acc: 0.4045\n"
     ]
    },
    {
     "name": "stderr",
     "output_type": "stream",
     "text": [
      "\r",
      " 28%|██▊       | 11/40 [03:25<09:02, 18.71s/it]"
     ]
    },
    {
     "name": "stdout",
     "output_type": "stream",
     "text": [
      "19573/19573 [==============================] - 23s 1ms/step\n",
      "Run time for eval indexes: 22.73 sec\n",
      "Train on 128 samples, validate on 5157 samples\n",
      "Epoch 12/12\n",
      "128/128 [==============================] - 7s 56ms/step - loss: 1.6036 - acc: 0.2969 - val_loss: 1.4910 - val_acc: 0.4171\n"
     ]
    },
    {
     "name": "stderr",
     "output_type": "stream",
     "text": [
      "\r",
      " 30%|███       | 12/40 [03:57<09:14, 19.81s/it]"
     ]
    },
    {
     "name": "stdout",
     "output_type": "stream",
     "text": [
      "19572/19572 [==============================] - 13s 670us/step\n",
      "Run time for eval indexes: 13.13 sec\n",
      "Train on 128 samples, validate on 5157 samples\n",
      "Epoch 13/13\n",
      "128/128 [==============================] - 6s 44ms/step - loss: 1.6609 - acc: 0.3516 - val_loss: 1.4833 - val_acc: 0.4299\n"
     ]
    },
    {
     "name": "stderr",
     "output_type": "stream",
     "text": [
      "\r",
      " 32%|███▎      | 13/40 [04:18<08:56, 19.89s/it]"
     ]
    },
    {
     "name": "stdout",
     "output_type": "stream",
     "text": [
      "19573/19573 [==============================] - 14s 724us/step\n",
      "Run time for eval indexes: 14.17 sec\n",
      "Train on 128 samples, validate on 5157 samples\n",
      "Epoch 14/14\n",
      "128/128 [==============================] - 5s 42ms/step - loss: 1.4394 - acc: 0.4531 - val_loss: 1.4749 - val_acc: 0.4404\n"
     ]
    },
    {
     "name": "stderr",
     "output_type": "stream",
     "text": [
      "\r",
      " 35%|███▌      | 14/40 [04:39<08:39, 19.99s/it]"
     ]
    },
    {
     "name": "stdout",
     "output_type": "stream",
     "text": [
      "19572/19572 [==============================] - 11s 587us/step\n",
      "Run time for eval indexes: 11.50 sec\n",
      "Train on 128 samples, validate on 5157 samples\n",
      "Epoch 15/15\n",
      "128/128 [==============================] - 5s 42ms/step - loss: 1.5353 - acc: 0.4453 - val_loss: 1.4740 - val_acc: 0.4410\n"
     ]
    },
    {
     "name": "stderr",
     "output_type": "stream",
     "text": [
      "\r",
      " 38%|███▊      | 15/40 [04:58<08:17, 19.88s/it]"
     ]
    },
    {
     "name": "stdout",
     "output_type": "stream",
     "text": [
      "19573/19573 [==============================] - 12s 593us/step\n",
      "Run time for eval indexes: 11.62 sec\n",
      "Train on 128 samples, validate on 5157 samples\n",
      "Epoch 16/16\n",
      "128/128 [==============================] - 6s 43ms/step - loss: 1.7732 - acc: 0.3750 - val_loss: 1.4685 - val_acc: 0.4439\n"
     ]
    },
    {
     "name": "stderr",
     "output_type": "stream",
     "text": [
      "\r",
      " 40%|████      | 16/40 [05:16<07:55, 19.81s/it]"
     ]
    },
    {
     "name": "stdout",
     "output_type": "stream",
     "text": [
      "19573/19573 [==============================] - 12s 595us/step\n",
      "Run time for eval indexes: 11.65 sec\n",
      "Train on 128 samples, validate on 5157 samples\n",
      "Epoch 17/17\n",
      "128/128 [==============================] - 6s 44ms/step - loss: 1.4314 - acc: 0.4531 - val_loss: 1.4568 - val_acc: 0.4518\n"
     ]
    },
    {
     "name": "stderr",
     "output_type": "stream",
     "text": [
      "\r",
      " 42%|████▎     | 17/40 [05:35<07:34, 19.75s/it]"
     ]
    },
    {
     "name": "stdout",
     "output_type": "stream",
     "text": [
      "19573/19573 [==============================] - 12s 589us/step\n",
      "Run time for eval indexes: 11.54 sec\n",
      "Train on 128 samples, validate on 5157 samples\n",
      "Epoch 18/18\n",
      "128/128 [==============================] - 6s 43ms/step - loss: 1.5067 - acc: 0.4609 - val_loss: 1.4427 - val_acc: 0.4607\n"
     ]
    },
    {
     "name": "stderr",
     "output_type": "stream",
     "text": [
      "\r",
      " 45%|████▌     | 18/40 [05:54<07:13, 19.69s/it]"
     ]
    },
    {
     "name": "stdout",
     "output_type": "stream",
     "text": [
      "19573/19573 [==============================] - 12s 594us/step\n",
      "Run time for eval indexes: 11.64 sec\n",
      "Train on 128 samples, validate on 5157 samples\n",
      "Epoch 19/19\n",
      "128/128 [==============================] - 5s 42ms/step - loss: 1.5736 - acc: 0.3906 - val_loss: 1.4309 - val_acc: 0.4658\n"
     ]
    },
    {
     "name": "stderr",
     "output_type": "stream",
     "text": [
      "\r",
      " 48%|████▊     | 19/40 [06:13<06:52, 19.63s/it]"
     ]
    },
    {
     "name": "stdout",
     "output_type": "stream",
     "text": [
      "19572/19572 [==============================] - 12s 593us/step\n",
      "Run time for eval indexes: 11.60 sec\n",
      "Train on 128 samples, validate on 5157 samples\n",
      "Epoch 20/20\n",
      "128/128 [==============================] - 5s 43ms/step - loss: 1.2191 - acc: 0.6016 - val_loss: 1.4200 - val_acc: 0.4737\n"
     ]
    },
    {
     "name": "stderr",
     "output_type": "stream",
     "text": [
      "\r",
      " 50%|█████     | 20/40 [06:31<06:31, 19.58s/it]"
     ]
    },
    {
     "name": "stdout",
     "output_type": "stream",
     "text": [
      "19573/19573 [==============================] - 12s 593us/step\n",
      "Run time for eval indexes: 11.62 sec\n",
      "Train on 128 samples, validate on 5157 samples\n",
      "Epoch 21/21\n",
      "128/128 [==============================] - 5s 43ms/step - loss: 1.3055 - acc: 0.4844 - val_loss: 1.4090 - val_acc: 0.4865\n"
     ]
    },
    {
     "name": "stderr",
     "output_type": "stream",
     "text": [
      "\r",
      " 52%|█████▎    | 21/40 [06:50<06:11, 19.53s/it]"
     ]
    },
    {
     "name": "stdout",
     "output_type": "stream",
     "text": [
      "19573/19573 [==============================] - 12s 592us/step\n",
      "Run time for eval indexes: 11.59 sec\n",
      "Train on 128 samples, validate on 5157 samples\n",
      "Epoch 22/22\n",
      "128/128 [==============================] - 5s 43ms/step - loss: 1.2420 - acc: 0.5781 - val_loss: 1.3993 - val_acc: 0.5013\n"
     ]
    },
    {
     "name": "stderr",
     "output_type": "stream",
     "text": [
      "\r",
      " 55%|█████▌    | 22/40 [07:08<05:50, 19.49s/it]"
     ]
    },
    {
     "name": "stdout",
     "output_type": "stream",
     "text": [
      "19573/19573 [==============================] - 12s 593us/step\n",
      "Run time for eval indexes: 11.62 sec\n",
      "Train on 128 samples, validate on 5157 samples\n",
      "Epoch 23/23\n",
      "128/128 [==============================] - 5s 40ms/step - loss: 1.4942 - acc: 0.3906 - val_loss: 1.3930 - val_acc: 0.5106\n"
     ]
    },
    {
     "name": "stderr",
     "output_type": "stream",
     "text": [
      "\r",
      " 57%|█████▊    | 23/40 [07:27<05:30, 19.44s/it]"
     ]
    },
    {
     "name": "stdout",
     "output_type": "stream",
     "text": [
      "19573/19573 [==============================] - 12s 629us/step\n",
      "Run time for eval indexes: 12.32 sec\n",
      "Train on 128 samples, validate on 5157 samples\n",
      "Epoch 24/24\n",
      "128/128 [==============================] - 5s 43ms/step - loss: 1.2727 - acc: 0.5312 - val_loss: 1.3888 - val_acc: 0.5127\n"
     ]
    },
    {
     "name": "stderr",
     "output_type": "stream",
     "text": [
      "\r",
      " 60%|██████    | 24/40 [07:46<05:10, 19.44s/it]"
     ]
    },
    {
     "name": "stdout",
     "output_type": "stream",
     "text": [
      "19573/19573 [==============================] - 12s 620us/step\n",
      "Run time for eval indexes: 12.15 sec\n",
      "Train on 128 samples, validate on 5157 samples\n",
      "Epoch 25/25\n",
      "128/128 [==============================] - 5s 36ms/step - loss: 1.1099 - acc: 0.5781 - val_loss: 1.3881 - val_acc: 0.5137\n"
     ]
    },
    {
     "name": "stderr",
     "output_type": "stream",
     "text": [
      "\r",
      " 62%|██████▎   | 25/40 [08:04<04:50, 19.39s/it]"
     ]
    },
    {
     "name": "stdout",
     "output_type": "stream",
     "text": [
      "19573/19573 [==============================] - 12s 591us/step\n",
      "Run time for eval indexes: 11.58 sec\n",
      "Train on 128 samples, validate on 5157 samples\n",
      "Epoch 26/26\n",
      "128/128 [==============================] - 5s 43ms/step - loss: 1.0870 - acc: 0.5859 - val_loss: 1.3905 - val_acc: 0.5174\n"
     ]
    },
    {
     "name": "stderr",
     "output_type": "stream",
     "text": [
      "\r",
      " 65%|██████▌   | 26/40 [08:23<04:30, 19.35s/it]"
     ]
    },
    {
     "name": "stdout",
     "output_type": "stream",
     "text": [
      "19572/19572 [==============================] - 12s 591us/step\n",
      "Run time for eval indexes: 11.58 sec\n",
      "Train on 128 samples, validate on 5157 samples\n",
      "Epoch 27/27\n",
      "128/128 [==============================] - 5s 41ms/step - loss: 1.3480 - acc: 0.5156 - val_loss: 1.3936 - val_acc: 0.5168\n"
     ]
    },
    {
     "name": "stderr",
     "output_type": "stream",
     "text": [
      "\r",
      " 68%|██████▊   | 27/40 [08:41<04:11, 19.32s/it]"
     ]
    },
    {
     "name": "stdout",
     "output_type": "stream",
     "text": [
      "19572/19572 [==============================] - 12s 603us/step\n",
      "Run time for eval indexes: 11.81 sec\n",
      "Train on 128 samples, validate on 5157 samples\n",
      "Epoch 28/28\n",
      "128/128 [==============================] - 5s 42ms/step - loss: 0.8628 - acc: 0.7734 - val_loss: 1.3913 - val_acc: 0.5168\n"
     ]
    },
    {
     "name": "stderr",
     "output_type": "stream",
     "text": [
      "\r",
      " 70%|███████   | 28/40 [09:00<03:51, 19.30s/it]"
     ]
    },
    {
     "name": "stdout",
     "output_type": "stream",
     "text": [
      "19573/19573 [==============================] - 12s 590us/step\n",
      "Run time for eval indexes: 11.56 sec\n",
      "Train on 128 samples, validate on 5157 samples\n",
      "Epoch 29/29\n",
      "128/128 [==============================] - 5s 43ms/step - loss: 1.1489 - acc: 0.6250 - val_loss: 1.3870 - val_acc: 0.5174\n"
     ]
    },
    {
     "name": "stderr",
     "output_type": "stream",
     "text": [
      "\r",
      " 72%|███████▎  | 29/40 [09:18<03:31, 19.27s/it]"
     ]
    },
    {
     "name": "stdout",
     "output_type": "stream",
     "text": [
      "19572/19572 [==============================] - 12s 593us/step\n",
      "Run time for eval indexes: 11.62 sec\n",
      "Train on 128 samples, validate on 5157 samples\n",
      "Epoch 30/30\n",
      "128/128 [==============================] - 5s 42ms/step - loss: 1.3837 - acc: 0.4844 - val_loss: 1.3820 - val_acc: 0.5154\n"
     ]
    },
    {
     "name": "stderr",
     "output_type": "stream",
     "text": [
      "\r",
      " 75%|███████▌  | 30/40 [09:37<03:12, 19.24s/it]"
     ]
    },
    {
     "name": "stdout",
     "output_type": "stream",
     "text": [
      "19572/19572 [==============================] - 12s 595us/step\n",
      "Run time for eval indexes: 11.65 sec\n",
      "Train on 128 samples, validate on 5157 samples\n",
      "Epoch 31/31\n",
      "128/128 [==============================] - 5s 43ms/step - loss: 1.0199 - acc: 0.6562 - val_loss: 1.3750 - val_acc: 0.5111\n"
     ]
    },
    {
     "name": "stderr",
     "output_type": "stream",
     "text": [
      "\r",
      " 78%|███████▊  | 31/40 [09:55<02:53, 19.22s/it]"
     ]
    },
    {
     "name": "stdout",
     "output_type": "stream",
     "text": [
      "19572/19572 [==============================] - 12s 596us/step\n",
      "Run time for eval indexes: 11.67 sec\n",
      "Train on 128 samples, validate on 5157 samples\n",
      "Epoch 32/32\n",
      "128/128 [==============================] - 6s 44ms/step - loss: 1.2389 - acc: 0.5547 - val_loss: 1.3699 - val_acc: 0.5108\n"
     ]
    },
    {
     "name": "stderr",
     "output_type": "stream",
     "text": [
      "\r",
      " 80%|████████  | 32/40 [10:14<02:33, 19.21s/it]"
     ]
    },
    {
     "name": "stdout",
     "output_type": "stream",
     "text": [
      "19573/19573 [==============================] - 12s 632us/step\n",
      "Run time for eval indexes: 12.38 sec\n",
      "Train on 128 samples, validate on 5157 samples\n",
      "Epoch 33/33\n",
      "128/128 [==============================] - 6s 44ms/step - loss: 1.2861 - acc: 0.5703 - val_loss: 1.3667 - val_acc: 0.5104\n"
     ]
    },
    {
     "name": "stderr",
     "output_type": "stream",
     "text": [
      "\r",
      " 82%|████████▎ | 33/40 [10:34<02:14, 19.22s/it]"
     ]
    },
    {
     "name": "stdout",
     "output_type": "stream",
     "text": [
      "19572/19572 [==============================] - 13s 643us/step\n",
      "Run time for eval indexes: 12.59 sec\n",
      "Train on 128 samples, validate on 5157 samples\n",
      "Epoch 34/34\n",
      "128/128 [==============================] - 5s 42ms/step - loss: 1.2806 - acc: 0.5234 - val_loss: 1.3630 - val_acc: 0.5071\n"
     ]
    },
    {
     "name": "stderr",
     "output_type": "stream",
     "text": [
      "\r",
      " 85%|████████▌ | 34/40 [10:53<01:55, 19.23s/it]"
     ]
    },
    {
     "name": "stdout",
     "output_type": "stream",
     "text": [
      "19573/19573 [==============================] - 12s 591us/step\n",
      "Run time for eval indexes: 11.58 sec\n",
      "Train on 128 samples, validate on 5157 samples\n",
      "Epoch 35/35\n",
      "128/128 [==============================] - 5s 41ms/step - loss: 1.0805 - acc: 0.6250 - val_loss: 1.3591 - val_acc: 0.5080\n"
     ]
    },
    {
     "name": "stderr",
     "output_type": "stream",
     "text": [
      "\r",
      " 88%|████████▊ | 35/40 [11:12<01:36, 19.21s/it]"
     ]
    },
    {
     "name": "stdout",
     "output_type": "stream",
     "text": [
      "19573/19573 [==============================] - 12s 592us/step\n",
      "Run time for eval indexes: 11.61 sec\n",
      "Train on 128 samples, validate on 5157 samples\n",
      "Epoch 36/36\n",
      "128/128 [==============================] - 5s 42ms/step - loss: 1.0733 - acc: 0.6094 - val_loss: 1.3551 - val_acc: 0.5092\n"
     ]
    },
    {
     "name": "stderr",
     "output_type": "stream",
     "text": [
      "\r",
      " 90%|█████████ | 36/40 [11:30<01:16, 19.19s/it]"
     ]
    },
    {
     "name": "stdout",
     "output_type": "stream",
     "text": [
      "19573/19573 [==============================] - 12s 602us/step\n",
      "Run time for eval indexes: 11.79 sec\n",
      "Train on 128 samples, validate on 5157 samples\n",
      "Epoch 37/37\n",
      "128/128 [==============================] - 6s 44ms/step - loss: 1.1920 - acc: 0.5859 - val_loss: 1.3556 - val_acc: 0.5150\n"
     ]
    },
    {
     "name": "stderr",
     "output_type": "stream",
     "text": [
      "\r",
      " 92%|█████████▎| 37/40 [11:49<00:57, 19.18s/it]"
     ]
    },
    {
     "name": "stdout",
     "output_type": "stream",
     "text": [
      "19572/19572 [==============================] - 12s 599us/step\n",
      "Run time for eval indexes: 11.74 sec\n",
      "Train on 128 samples, validate on 5157 samples\n",
      "Epoch 38/38\n",
      "128/128 [==============================] - 6s 43ms/step - loss: 0.9290 - acc: 0.7578 - val_loss: 1.3578 - val_acc: 0.5197\n"
     ]
    },
    {
     "name": "stderr",
     "output_type": "stream",
     "text": [
      "\r",
      " 95%|█████████▌| 38/40 [12:08<00:38, 19.17s/it]"
     ]
    },
    {
     "name": "stdout",
     "output_type": "stream",
     "text": [
      "19572/19572 [==============================] - 12s 594us/step\n",
      "Run time for eval indexes: 11.63 sec\n",
      "Train on 128 samples, validate on 5157 samples\n",
      "Epoch 39/39\n",
      "128/128 [==============================] - 5s 43ms/step - loss: 1.0978 - acc: 0.6484 - val_loss: 1.3567 - val_acc: 0.5197\n"
     ]
    },
    {
     "name": "stderr",
     "output_type": "stream",
     "text": [
      "\r",
      " 98%|█████████▊| 39/40 [12:27<00:19, 19.15s/it]"
     ]
    },
    {
     "name": "stdout",
     "output_type": "stream",
     "text": [
      "19573/19573 [==============================] - 12s 637us/step\n",
      "Run time for eval indexes: 12.47 sec\n",
      "Train on 128 samples, validate on 5157 samples\n",
      "Epoch 40/40\n",
      "128/128 [==============================] - 5s 43ms/step - loss: 1.1183 - acc: 0.6016 - val_loss: 1.3566 - val_acc: 0.5158\n"
     ]
    },
    {
     "name": "stderr",
     "output_type": "stream",
     "text": [
      "\r",
      "100%|██████████| 40/40 [12:46<00:00, 19.16s/it]"
     ]
    },
    {
     "name": "stdout",
     "output_type": "stream",
     "text": [
      "CPU times: user 28min 9s, sys: 2min 17s, total: 30min 26s\n",
      "Wall time: 12min 49s\n"
     ]
    },
    {
     "name": "stderr",
     "output_type": "stream",
     "text": [
      "\n"
     ]
    }
   ],
   "source": [
    "%%time\n",
    "N = 128\n",
    "trainer = ActiveTrainer(model)\n",
    "try:\n",
    "    trainer.train(X_train, y_train, N, n_epoches=40)\n",
    "except:\n",
    "    print('KeyboardInterapt!')"
   ]
  },
  {
   "cell_type": "markdown",
   "metadata": {},
   "source": [
    "Посмотрим на конечное качество"
   ]
  },
  {
   "cell_type": "code",
   "execution_count": 276,
   "metadata": {},
   "outputs": [
    {
     "name": "stdout",
     "output_type": "stream",
     "text": [
      "25786/25786 [==============================] - 27s 1ms/step\n",
      "Loss: 1.369, acc: 50.94%\n",
      "CPU times: user 59.3 s, sys: 6.41 s, total: 1min 5s\n",
      "Wall time: 27.4 s\n"
     ]
    },
    {
     "data": {
      "text/plain": [
       "(1.3694222779766987, 0.5094237183244883)"
      ]
     },
     "execution_count": 276,
     "metadata": {},
     "output_type": "execute_result"
    }
   ],
   "source": [
    "%%time\n",
    "trainer.get_test_acc_and_loss(X_test, y_test)"
   ]
  },
  {
   "cell_type": "markdown",
   "metadata": {},
   "source": [
    "Сохраним модель"
   ]
  },
  {
   "cell_type": "code",
   "execution_count": 284,
   "metadata": {},
   "outputs": [
    {
     "name": "stdout",
     "output_type": "stream",
     "text": [
      "Created:\n",
      "data/models/model_weights_8.h5\n",
      "data/models/model_architecture_8.json\n"
     ]
    }
   ],
   "source": [
    "path_to_folder = 'data/models/'\n",
    "save_model(trainer.model, path_to_folder)"
   ]
  },
  {
   "cell_type": "markdown",
   "metadata": {},
   "source": [
    "Уменьшим lr и попробуем дообучить модель"
   ]
  },
  {
   "cell_type": "code",
   "execution_count": 286,
   "metadata": {
    "collapsed": true
   },
   "outputs": [],
   "source": [
    "n_units = 192\n",
    "lr = 0.0002\n",
    "l2 = 1e-8\n",
    "output_size = 5\n",
    "input_length = max_length\n",
    "model = build_model(vocab_size, embedding_size, embedding_matrix, input_length, n_units, output_size, lr, \n",
    "                    dropout_rate=0.2, l2=l2)"
   ]
  },
  {
   "cell_type": "markdown",
   "metadata": {},
   "source": [
    "Загрузим веса"
   ]
  },
  {
   "cell_type": "code",
   "execution_count": 287,
   "metadata": {
    "collapsed": true
   },
   "outputs": [],
   "source": [
    "model.load_weights('data/models/model_weights_8.h5')"
   ]
  },
  {
   "cell_type": "code",
   "execution_count": 288,
   "metadata": {},
   "outputs": [
    {
     "name": "stdout",
     "output_type": "stream",
     "text": [
      "_________________________________________________________________\n",
      "Layer (type)                 Output Shape              Param #   \n",
      "=================================================================\n",
      "embedding_26 (Embedding)     (None, 867, 50)           51673350  \n",
      "_________________________________________________________________\n",
      "flatten_26 (Flatten)         (None, 43350)             0         \n",
      "_________________________________________________________________\n",
      "dense_50 (Dense)             (None, 192)               8323392   \n",
      "_________________________________________________________________\n",
      "batch_normalization_26 (Batc (None, 192)               768       \n",
      "_________________________________________________________________\n",
      "dropout_26 (Dropout)         (None, 192)               0         \n",
      "_________________________________________________________________\n",
      "dense_51 (Dense)             (None, 5)                 965       \n",
      "=================================================================\n",
      "Total params: 59,998,475\n",
      "Trainable params: 8,324,741\n",
      "Non-trainable params: 51,673,734\n",
      "_________________________________________________________________\n"
     ]
    }
   ],
   "source": [
    "model.summary()"
   ]
  },
  {
   "cell_type": "markdown",
   "metadata": {},
   "source": [
    "Начнем ее \"активно\" обучать"
   ]
  },
  {
   "cell_type": "code",
   "execution_count": 289,
   "metadata": {
    "scrolled": false
   },
   "outputs": [
    {
     "name": "stderr",
     "output_type": "stream",
     "text": [
      "\n",
      "  0%|          | 0/100 [00:00<?, ?it/s]\u001b[A"
     ]
    },
    {
     "name": "stdout",
     "output_type": "stream",
     "text": [
      "16384/20628 [======================>.......] - ETA: 2s"
     ]
    },
    {
     "name": "stderr",
     "output_type": "stream",
     "text": [
      "\n",
      "Exception in thread Thread-432:\n",
      "Traceback (most recent call last):\n",
      "  File \"/Users/maxim/miniconda3/lib/python3.6/threading.py\", line 916, in _bootstrap_inner\n",
      "    self.run()\n",
      "  File \"/Users/maxim/miniconda3/lib/python3.6/site-packages/tqdm/_tqdm.py\", line 148, in run\n",
      "    for instance in self.tqdm_cls._instances:\n",
      "  File \"/Users/maxim/miniconda3/lib/python3.6/_weakrefset.py\", line 60, in __iter__\n",
      "    for itemref in self.data:\n",
      "RuntimeError: Set changed size during iteration\n",
      "\n"
     ]
    },
    {
     "name": "stdout",
     "output_type": "stream",
     "text": [
      "20628/20628 [==============================] - 12s 567us/step\n",
      "Run time for eval indexes: 11.69 sec\n",
      "Train on 128 samples, validate on 5157 samples\n",
      "Epoch 1/1\n",
      "128/128 [==============================] - 5s 43ms/step - loss: 0.7211 - acc: 0.7656 - val_loss: 1.3554 - val_acc: 0.5220\n"
     ]
    },
    {
     "name": "stderr",
     "output_type": "stream",
     "text": [
      "\r",
      "  1%|          | 1/100 [00:19<31:54, 19.33s/it]"
     ]
    },
    {
     "name": "stdout",
     "output_type": "stream",
     "text": [
      "19573/19573 [==============================] - 11s 546us/step\n",
      "Run time for eval indexes: 10.69 sec\n",
      "Train on 128 samples, validate on 5157 samples\n",
      "Epoch 2/2\n",
      "128/128 [==============================] - 3s 27ms/step - loss: 0.8721 - acc: 0.7109 - val_loss: 1.3559 - val_acc: 0.5234\n"
     ]
    },
    {
     "name": "stderr",
     "output_type": "stream",
     "text": [
      "\r",
      "  2%|▏         | 2/100 [00:34<28:30, 17.45s/it]"
     ]
    },
    {
     "name": "stdout",
     "output_type": "stream",
     "text": [
      "19572/19572 [==============================] - 12s 600us/step\n",
      "Run time for eval indexes: 11.75 sec\n",
      "Train on 128 samples, validate on 5157 samples\n",
      "Epoch 3/3\n",
      "128/128 [==============================] - 3s 24ms/step - loss: 1.1642 - acc: 0.6250 - val_loss: 1.3566 - val_acc: 0.5239\n"
     ]
    },
    {
     "name": "stderr",
     "output_type": "stream",
     "text": [
      "\r",
      "  3%|▎         | 3/100 [00:51<27:34, 17.05s/it]"
     ]
    },
    {
     "name": "stdout",
     "output_type": "stream",
     "text": [
      "19573/19573 [==============================] - 12s 622us/step\n",
      "Run time for eval indexes: 12.18 sec\n",
      "Train on 128 samples, validate on 5157 samples\n",
      "Epoch 4/4\n",
      "128/128 [==============================] - 4s 29ms/step - loss: 1.2001 - acc: 0.5859 - val_loss: 1.3564 - val_acc: 0.5251\n"
     ]
    },
    {
     "name": "stderr",
     "output_type": "stream",
     "text": [
      "\r",
      "  4%|▍         | 4/100 [01:08<27:22, 17.11s/it]"
     ]
    },
    {
     "name": "stdout",
     "output_type": "stream",
     "text": [
      "19573/19573 [==============================] - 11s 569us/step\n",
      "Run time for eval indexes: 11.13 sec\n",
      "Train on 128 samples, validate on 5157 samples\n",
      "Epoch 5/5\n",
      "128/128 [==============================] - 3s 24ms/step - loss: 0.8779 - acc: 0.7188 - val_loss: 1.3561 - val_acc: 0.5255\n"
     ]
    },
    {
     "name": "stderr",
     "output_type": "stream",
     "text": [
      "\r",
      "  5%|▌         | 5/100 [01:24<26:36, 16.81s/it]"
     ]
    },
    {
     "name": "stdout",
     "output_type": "stream",
     "text": [
      "19573/19573 [==============================] - 11s 550us/step\n",
      "Run time for eval indexes: 10.77 sec\n",
      "Train on 128 samples, validate on 5157 samples\n",
      "Epoch 6/6\n",
      "128/128 [==============================] - 3s 25ms/step - loss: 1.0098 - acc: 0.6719 - val_loss: 1.3564 - val_acc: 0.5251\n"
     ]
    },
    {
     "name": "stderr",
     "output_type": "stream",
     "text": [
      "\r",
      "  6%|▌         | 6/100 [01:39<25:56, 16.56s/it]"
     ]
    },
    {
     "name": "stdout",
     "output_type": "stream",
     "text": [
      "19573/19573 [==============================] - 11s 549us/step\n",
      "Run time for eval indexes: 10.75 sec\n",
      "Train on 128 samples, validate on 5157 samples\n",
      "Epoch 7/7\n",
      "128/128 [==============================] - 3s 25ms/step - loss: 0.8210 - acc: 0.7188 - val_loss: 1.3567 - val_acc: 0.5249\n"
     ]
    },
    {
     "name": "stderr",
     "output_type": "stream",
     "text": [
      "\r",
      "  7%|▋         | 7/100 [01:54<25:22, 16.37s/it]"
     ]
    },
    {
     "name": "stdout",
     "output_type": "stream",
     "text": [
      "19573/19573 [==============================] - 11s 547us/step\n",
      "Run time for eval indexes: 10.72 sec\n",
      "Train on 128 samples, validate on 5157 samples\n",
      "Epoch 8/8\n",
      "128/128 [==============================] - 3s 24ms/step - loss: 0.8125 - acc: 0.7500 - val_loss: 1.3568 - val_acc: 0.5238\n"
     ]
    },
    {
     "name": "stderr",
     "output_type": "stream",
     "text": [
      "\r",
      "  8%|▊         | 8/100 [02:09<24:52, 16.22s/it]"
     ]
    },
    {
     "name": "stdout",
     "output_type": "stream",
     "text": [
      "19572/19572 [==============================] - 11s 573us/step\n",
      "Run time for eval indexes: 11.22 sec\n",
      "Train on 128 samples, validate on 5157 samples\n",
      "Epoch 9/9\n",
      "128/128 [==============================] - 3s 24ms/step - loss: 1.0244 - acc: 0.6562 - val_loss: 1.3572 - val_acc: 0.5238\n"
     ]
    },
    {
     "name": "stderr",
     "output_type": "stream",
     "text": [
      "\r",
      "  9%|▉         | 9/100 [02:25<24:30, 16.16s/it]"
     ]
    },
    {
     "name": "stdout",
     "output_type": "stream",
     "text": [
      "19572/19572 [==============================] - 11s 547us/step\n",
      "Run time for eval indexes: 10.71 sec\n",
      "Train on 128 samples, validate on 5157 samples\n",
      "Epoch 10/10\n",
      "128/128 [==============================] - 3s 24ms/step - loss: 0.6544 - acc: 0.7812 - val_loss: 1.3575 - val_acc: 0.5239\n"
     ]
    },
    {
     "name": "stderr",
     "output_type": "stream",
     "text": [
      "\r",
      " 10%|█         | 10/100 [02:40<24:05, 16.06s/it]"
     ]
    },
    {
     "name": "stdout",
     "output_type": "stream",
     "text": [
      "19572/19572 [==============================] - 11s 551us/step\n",
      "Run time for eval indexes: 10.80 sec\n",
      "Train on 128 samples, validate on 5157 samples\n",
      "Epoch 11/11\n",
      "128/128 [==============================] - 3s 24ms/step - loss: 0.8359 - acc: 0.7500 - val_loss: 1.3573 - val_acc: 0.5236\n"
     ]
    },
    {
     "name": "stderr",
     "output_type": "stream",
     "text": [
      "\r",
      " 11%|█         | 11/100 [02:55<23:43, 15.99s/it]"
     ]
    },
    {
     "name": "stdout",
     "output_type": "stream",
     "text": [
      "19572/19572 [==============================] - 11s 543us/step\n",
      "Run time for eval indexes: 10.64 sec\n",
      "Train on 128 samples, validate on 5157 samples\n",
      "Epoch 12/12\n",
      "128/128 [==============================] - 3s 24ms/step - loss: 0.9707 - acc: 0.6875 - val_loss: 1.3572 - val_acc: 0.5232\n"
     ]
    },
    {
     "name": "stderr",
     "output_type": "stream",
     "text": [
      "\r",
      " 12%|█▏        | 12/100 [03:11<23:20, 15.92s/it]"
     ]
    },
    {
     "name": "stdout",
     "output_type": "stream",
     "text": [
      "19572/19572 [==============================] - 11s 544us/step\n",
      "Run time for eval indexes: 10.65 sec\n",
      "Train on 128 samples, validate on 5157 samples\n",
      "Epoch 13/13\n",
      "128/128 [==============================] - 3s 24ms/step - loss: 0.9039 - acc: 0.7031 - val_loss: 1.3569 - val_acc: 0.5222\n"
     ]
    },
    {
     "name": "stderr",
     "output_type": "stream",
     "text": [
      "\r",
      " 13%|█▎        | 13/100 [03:26<22:59, 15.85s/it]"
     ]
    },
    {
     "name": "stdout",
     "output_type": "stream",
     "text": [
      "19573/19573 [==============================] - 11s 547us/step\n",
      "Run time for eval indexes: 10.71 sec\n",
      "Train on 128 samples, validate on 5157 samples\n",
      "Epoch 14/14\n",
      "128/128 [==============================] - 3s 24ms/step - loss: 1.0197 - acc: 0.6484 - val_loss: 1.3569 - val_acc: 0.5222\n"
     ]
    },
    {
     "name": "stderr",
     "output_type": "stream",
     "text": [
      "\r",
      " 14%|█▍        | 14/100 [03:41<22:39, 15.80s/it]"
     ]
    },
    {
     "name": "stdout",
     "output_type": "stream",
     "text": [
      "19573/19573 [==============================] - 11s 548us/step\n",
      "Run time for eval indexes: 10.72 sec\n",
      "Train on 128 samples, validate on 5157 samples\n",
      "Epoch 15/15\n",
      "128/128 [==============================] - 3s 24ms/step - loss: 0.9110 - acc: 0.6797 - val_loss: 1.3567 - val_acc: 0.5232\n"
     ]
    },
    {
     "name": "stderr",
     "output_type": "stream",
     "text": [
      "\r",
      " 15%|█▌        | 15/100 [03:56<22:19, 15.76s/it]"
     ]
    },
    {
     "name": "stdout",
     "output_type": "stream",
     "text": [
      "19572/19572 [==============================] - 11s 562us/step\n",
      "Run time for eval indexes: 11.00 sec\n",
      "Train on 128 samples, validate on 5157 samples\n",
      "Epoch 16/16\n",
      "128/128 [==============================] - 3s 24ms/step - loss: 0.7993 - acc: 0.7344 - val_loss: 1.3566 - val_acc: 0.5228\n"
     ]
    },
    {
     "name": "stderr",
     "output_type": "stream",
     "text": [
      "\r",
      " 16%|█▌        | 16/100 [04:11<22:02, 15.74s/it]"
     ]
    },
    {
     "name": "stdout",
     "output_type": "stream",
     "text": [
      "19572/19572 [==============================] - 11s 544us/step\n",
      "Run time for eval indexes: 10.65 sec\n",
      "Train on 128 samples, validate on 5157 samples\n",
      "Epoch 17/17\n",
      "128/128 [==============================] - 3s 24ms/step - loss: 1.1610 - acc: 0.5781 - val_loss: 1.3567 - val_acc: 0.5236\n"
     ]
    },
    {
     "name": "stderr",
     "output_type": "stream",
     "text": [
      "\r",
      " 17%|█▋        | 17/100 [04:27<21:43, 15.71s/it]"
     ]
    },
    {
     "name": "stdout",
     "output_type": "stream",
     "text": [
      "19572/19572 [==============================] - 11s 548us/step\n",
      "Run time for eval indexes: 10.73 sec\n",
      "Train on 128 samples, validate on 5157 samples\n",
      "Epoch 18/18\n",
      "128/128 [==============================] - 3s 24ms/step - loss: 0.8184 - acc: 0.7266 - val_loss: 1.3565 - val_acc: 0.5234\n"
     ]
    },
    {
     "name": "stderr",
     "output_type": "stream",
     "text": [
      "\r",
      " 18%|█▊        | 18/100 [04:42<21:25, 15.68s/it]"
     ]
    },
    {
     "name": "stdout",
     "output_type": "stream",
     "text": [
      "19572/19572 [==============================] - 11s 549us/step\n",
      "Run time for eval indexes: 10.75 sec\n",
      "Train on 128 samples, validate on 5157 samples\n",
      "Epoch 19/19\n",
      "128/128 [==============================] - 3s 24ms/step - loss: 0.9624 - acc: 0.6875 - val_loss: 1.3564 - val_acc: 0.5239\n"
     ]
    },
    {
     "name": "stderr",
     "output_type": "stream",
     "text": [
      "\r",
      " 19%|█▉        | 19/100 [04:57<21:07, 15.65s/it]"
     ]
    },
    {
     "name": "stdout",
     "output_type": "stream",
     "text": [
      "19573/19573 [==============================] - 11s 547us/step\n",
      "Run time for eval indexes: 10.71 sec\n",
      "Train on 128 samples, validate on 5157 samples\n",
      "Epoch 20/20\n",
      "128/128 [==============================] - 3s 24ms/step - loss: 0.7103 - acc: 0.7734 - val_loss: 1.3564 - val_acc: 0.5241\n"
     ]
    },
    {
     "name": "stderr",
     "output_type": "stream",
     "text": [
      "\r",
      " 20%|██        | 20/100 [05:12<20:50, 15.63s/it]"
     ]
    },
    {
     "name": "stdout",
     "output_type": "stream",
     "text": [
      "19573/19573 [==============================] - 11s 563us/step\n",
      "Run time for eval indexes: 11.02 sec\n",
      "Train on 128 samples, validate on 5157 samples\n",
      "Epoch 21/21\n",
      "128/128 [==============================] - 3s 24ms/step - loss: 0.8587 - acc: 0.6875 - val_loss: 1.3568 - val_acc: 0.5243\n"
     ]
    },
    {
     "name": "stderr",
     "output_type": "stream",
     "text": [
      "\r",
      " 21%|██        | 21/100 [05:28<20:33, 15.62s/it]"
     ]
    },
    {
     "name": "stdout",
     "output_type": "stream",
     "text": [
      "19573/19573 [==============================] - 11s 551us/step\n",
      "Run time for eval indexes: 10.79 sec\n",
      "Train on 128 samples, validate on 5157 samples\n",
      "Epoch 22/22\n",
      "128/128 [==============================] - 3s 24ms/step - loss: 0.8861 - acc: 0.6953 - val_loss: 1.3574 - val_acc: 0.5243\n"
     ]
    },
    {
     "name": "stderr",
     "output_type": "stream",
     "text": [
      "\r",
      " 22%|██▏       | 22/100 [05:43<20:17, 15.60s/it]"
     ]
    },
    {
     "name": "stdout",
     "output_type": "stream",
     "text": [
      "19572/19572 [==============================] - 11s 549us/step\n",
      "Run time for eval indexes: 10.75 sec\n",
      "Train on 128 samples, validate on 5157 samples\n",
      "Epoch 23/23\n",
      "128/128 [==============================] - 4s 31ms/step - loss: 0.7784 - acc: 0.7656 - val_loss: 1.3579 - val_acc: 0.5251\n"
     ]
    },
    {
     "name": "stderr",
     "output_type": "stream",
     "text": [
      "\r",
      " 23%|██▎       | 23/100 [05:59<20:03, 15.63s/it]"
     ]
    },
    {
     "name": "stdout",
     "output_type": "stream",
     "text": [
      "19572/19572 [==============================] - 11s 586us/step\n",
      "Run time for eval indexes: 11.46 sec\n",
      "Train on 128 samples, validate on 5157 samples\n",
      "Epoch 24/24\n",
      "128/128 [==============================] - 3s 24ms/step - loss: 0.7144 - acc: 0.8203 - val_loss: 1.3583 - val_acc: 0.5253\n"
     ]
    },
    {
     "name": "stderr",
     "output_type": "stream",
     "text": [
      "\r",
      " 24%|██▍       | 24/100 [06:15<19:48, 15.64s/it]"
     ]
    },
    {
     "name": "stdout",
     "output_type": "stream",
     "text": [
      "19573/19573 [==============================] - 11s 543us/step\n",
      "Run time for eval indexes: 10.63 sec\n",
      "Train on 128 samples, validate on 5157 samples\n",
      "Epoch 25/25\n",
      "128/128 [==============================] - 3s 24ms/step - loss: 1.0412 - acc: 0.6484 - val_loss: 1.3590 - val_acc: 0.5253\n"
     ]
    },
    {
     "name": "stderr",
     "output_type": "stream",
     "text": [
      "\r",
      " 25%|██▌       | 25/100 [06:30<19:31, 15.62s/it]"
     ]
    },
    {
     "name": "stdout",
     "output_type": "stream",
     "text": [
      "19573/19573 [==============================] - 11s 559us/step\n",
      "Run time for eval indexes: 10.95 sec\n",
      "Train on 128 samples, validate on 5157 samples\n",
      "Epoch 26/26\n",
      "128/128 [==============================] - 3s 25ms/step - loss: 0.7911 - acc: 0.7266 - val_loss: 1.3600 - val_acc: 0.5259\n"
     ]
    },
    {
     "name": "stderr",
     "output_type": "stream",
     "text": [
      "\r",
      " 26%|██▌       | 26/100 [06:45<19:15, 15.61s/it]"
     ]
    },
    {
     "name": "stdout",
     "output_type": "stream",
     "text": [
      "19572/19572 [==============================] - 11s 542us/step\n",
      "Run time for eval indexes: 10.60 sec\n",
      "Train on 128 samples, validate on 5157 samples\n",
      "Epoch 27/27\n",
      "128/128 [==============================] - 3s 24ms/step - loss: 0.7849 - acc: 0.7734 - val_loss: 1.3609 - val_acc: 0.5272\n"
     ]
    },
    {
     "name": "stderr",
     "output_type": "stream",
     "text": [
      "\r",
      " 27%|██▋       | 27/100 [07:00<18:57, 15.59s/it]"
     ]
    },
    {
     "name": "stdout",
     "output_type": "stream",
     "text": [
      "19573/19573 [==============================] - 11s 545us/step\n",
      "Run time for eval indexes: 10.67 sec\n",
      "Train on 128 samples, validate on 5157 samples\n",
      "Epoch 28/28\n",
      "128/128 [==============================] - 3s 25ms/step - loss: 0.7891 - acc: 0.7578 - val_loss: 1.3618 - val_acc: 0.5274\n"
     ]
    },
    {
     "name": "stderr",
     "output_type": "stream",
     "text": [
      "\r",
      " 28%|██▊       | 28/100 [07:16<18:41, 15.57s/it]"
     ]
    },
    {
     "name": "stdout",
     "output_type": "stream",
     "text": [
      "19573/19573 [==============================] - 11s 544us/step\n",
      "Run time for eval indexes: 10.66 sec\n",
      "Train on 128 samples, validate on 5157 samples\n",
      "Epoch 29/29\n",
      "128/128 [==============================] - 3s 25ms/step - loss: 1.0041 - acc: 0.6406 - val_loss: 1.3628 - val_acc: 0.5280\n"
     ]
    },
    {
     "name": "stderr",
     "output_type": "stream",
     "text": [
      "\r",
      " 29%|██▉       | 29/100 [07:31<18:24, 15.56s/it]"
     ]
    },
    {
     "name": "stdout",
     "output_type": "stream",
     "text": [
      "19572/19572 [==============================] - 11s 542us/step\n",
      "Run time for eval indexes: 10.62 sec\n",
      "Train on 128 samples, validate on 5157 samples\n",
      "Epoch 30/30\n",
      "128/128 [==============================] - 3s 25ms/step - loss: 1.0146 - acc: 0.6328 - val_loss: 1.3638 - val_acc: 0.5288\n"
     ]
    },
    {
     "name": "stderr",
     "output_type": "stream",
     "text": [
      "\r",
      " 30%|███       | 30/100 [07:46<18:08, 15.54s/it]"
     ]
    },
    {
     "name": "stdout",
     "output_type": "stream",
     "text": [
      "19573/19573 [==============================] - 11s 543us/step\n",
      "Run time for eval indexes: 10.64 sec\n",
      "Train on 128 samples, validate on 5157 samples\n",
      "Epoch 31/31\n",
      "128/128 [==============================] - 3s 25ms/step - loss: 0.8004 - acc: 0.7266 - val_loss: 1.3646 - val_acc: 0.5290\n"
     ]
    },
    {
     "name": "stderr",
     "output_type": "stream",
     "text": [
      "\r",
      " 31%|███       | 31/100 [08:01<17:51, 15.53s/it]"
     ]
    },
    {
     "name": "stdout",
     "output_type": "stream",
     "text": [
      "19573/19573 [==============================] - 11s 545us/step\n",
      "Run time for eval indexes: 10.67 sec\n",
      "Train on 128 samples, validate on 5157 samples\n",
      "Epoch 32/32\n",
      "128/128 [==============================] - 3s 25ms/step - loss: 0.6567 - acc: 0.8047 - val_loss: 1.3650 - val_acc: 0.5294\n"
     ]
    },
    {
     "name": "stderr",
     "output_type": "stream",
     "text": [
      "\r",
      " 32%|███▏      | 32/100 [08:16<17:35, 15.52s/it]"
     ]
    },
    {
     "name": "stdout",
     "output_type": "stream",
     "text": [
      "19573/19573 [==============================] - 11s 576us/step\n",
      "Run time for eval indexes: 11.29 sec\n",
      "Train on 128 samples, validate on 5157 samples\n",
      "Epoch 33/33\n",
      "128/128 [==============================] - 3s 25ms/step - loss: 0.9356 - acc: 0.7266 - val_loss: 1.3655 - val_acc: 0.5294\n"
     ]
    },
    {
     "name": "stderr",
     "output_type": "stream",
     "text": [
      "\r",
      " 33%|███▎      | 33/100 [08:32<17:20, 15.53s/it]"
     ]
    },
    {
     "name": "stdout",
     "output_type": "stream",
     "text": [
      "19573/19573 [==============================] - 11s 544us/step\n",
      "Run time for eval indexes: 10.66 sec\n",
      "Train on 128 samples, validate on 5157 samples\n",
      "Epoch 34/34\n",
      "128/128 [==============================] - 3s 25ms/step - loss: 0.8131 - acc: 0.7500 - val_loss: 1.3655 - val_acc: 0.5300\n"
     ]
    },
    {
     "name": "stderr",
     "output_type": "stream",
     "text": [
      "\r",
      " 34%|███▍      | 34/100 [08:47<17:04, 15.52s/it]"
     ]
    },
    {
     "name": "stdout",
     "output_type": "stream",
     "text": [
      "19573/19573 [==============================] - 11s 542us/step\n",
      "Run time for eval indexes: 10.62 sec\n",
      "Train on 128 samples, validate on 5157 samples\n",
      "Epoch 35/35\n",
      "128/128 [==============================] - 3s 25ms/step - loss: 0.7176 - acc: 0.7422 - val_loss: 1.3656 - val_acc: 0.5298\n"
     ]
    },
    {
     "name": "stderr",
     "output_type": "stream",
     "text": [
      "\r",
      " 35%|███▌      | 35/100 [09:02<16:48, 15.51s/it]"
     ]
    },
    {
     "name": "stdout",
     "output_type": "stream",
     "text": [
      "19572/19572 [==============================] - 11s 543us/step\n",
      "Run time for eval indexes: 10.64 sec\n",
      "Train on 128 samples, validate on 5157 samples\n",
      "Epoch 36/36\n",
      "128/128 [==============================] - 3s 25ms/step - loss: 0.6980 - acc: 0.7734 - val_loss: 1.3658 - val_acc: 0.5290\n"
     ]
    },
    {
     "name": "stderr",
     "output_type": "stream",
     "text": [
      "\r",
      " 36%|███▌      | 36/100 [09:17<16:31, 15.50s/it]"
     ]
    },
    {
     "name": "stdout",
     "output_type": "stream",
     "text": [
      "19573/19573 [==============================] - 11s 544us/step\n",
      "Run time for eval indexes: 10.65 sec\n",
      "Train on 128 samples, validate on 5157 samples\n",
      "Epoch 37/37\n",
      "128/128 [==============================] - 3s 25ms/step - loss: 0.8953 - acc: 0.6875 - val_loss: 1.3663 - val_acc: 0.5292\n"
     ]
    },
    {
     "name": "stderr",
     "output_type": "stream",
     "text": [
      "\r",
      " 37%|███▋      | 37/100 [09:33<16:15, 15.49s/it]"
     ]
    },
    {
     "name": "stdout",
     "output_type": "stream",
     "text": [
      "19572/19572 [==============================] - 11s 541us/step\n",
      "Run time for eval indexes: 10.59 sec\n",
      "Train on 128 samples, validate on 5157 samples\n",
      "Epoch 38/38\n",
      "128/128 [==============================] - 3s 25ms/step - loss: 0.7034 - acc: 0.7969 - val_loss: 1.3666 - val_acc: 0.5292\n"
     ]
    },
    {
     "name": "stderr",
     "output_type": "stream",
     "text": [
      "\r",
      " 38%|███▊      | 38/100 [09:48<15:59, 15.48s/it]"
     ]
    },
    {
     "name": "stdout",
     "output_type": "stream",
     "text": [
      "19572/19572 [==============================] - 11s 545us/step\n",
      "Run time for eval indexes: 10.67 sec\n",
      "Train on 128 samples, validate on 5157 samples\n",
      "Epoch 39/39\n",
      "128/128 [==============================] - 3s 25ms/step - loss: 0.8825 - acc: 0.6875 - val_loss: 1.3672 - val_acc: 0.5298\n"
     ]
    },
    {
     "name": "stderr",
     "output_type": "stream",
     "text": [
      "\r",
      " 39%|███▉      | 39/100 [10:03<15:43, 15.47s/it]"
     ]
    },
    {
     "name": "stdout",
     "output_type": "stream",
     "text": [
      "19572/19572 [==============================] - 11s 542us/step\n",
      "Run time for eval indexes: 10.62 sec\n",
      "Train on 128 samples, validate on 5157 samples\n",
      "Epoch 40/40\n",
      "128/128 [==============================] - 3s 25ms/step - loss: 0.7754 - acc: 0.7422 - val_loss: 1.3671 - val_acc: 0.5309\n"
     ]
    },
    {
     "name": "stderr",
     "output_type": "stream",
     "text": [
      "\r",
      " 40%|████      | 40/100 [10:18<15:27, 15.47s/it]"
     ]
    },
    {
     "name": "stdout",
     "output_type": "stream",
     "text": [
      "19572/19572 [==============================] - 11s 543us/step\n",
      "Run time for eval indexes: 10.63 sec\n",
      "Train on 128 samples, validate on 5157 samples\n",
      "Epoch 41/41\n",
      "128/128 [==============================] - 3s 25ms/step - loss: 1.1528 - acc: 0.5859 - val_loss: 1.3676 - val_acc: 0.5309\n"
     ]
    },
    {
     "name": "stderr",
     "output_type": "stream",
     "text": [
      "\r",
      " 41%|████      | 41/100 [10:33<15:12, 15.46s/it]"
     ]
    },
    {
     "name": "stdout",
     "output_type": "stream",
     "text": [
      "19572/19572 [==============================] - 11s 567us/step\n",
      "Run time for eval indexes: 11.10 sec\n",
      "Train on 128 samples, validate on 5157 samples\n",
      "Epoch 42/42\n",
      "128/128 [==============================] - 3s 24ms/step - loss: 0.7894 - acc: 0.7578 - val_loss: 1.3684 - val_acc: 0.5305\n"
     ]
    },
    {
     "name": "stderr",
     "output_type": "stream",
     "text": [
      "\r",
      " 42%|████▏     | 42/100 [10:49<14:56, 15.46s/it]"
     ]
    },
    {
     "name": "stdout",
     "output_type": "stream",
     "text": [
      "19573/19573 [==============================] - 11s 550us/step\n",
      "Run time for eval indexes: 10.76 sec\n",
      "Train on 128 samples, validate on 5157 samples\n",
      "Epoch 43/43\n",
      "128/128 [==============================] - 3s 24ms/step - loss: 1.0078 - acc: 0.6562 - val_loss: 1.3692 - val_acc: 0.5307\n"
     ]
    },
    {
     "name": "stderr",
     "output_type": "stream",
     "text": [
      "\r",
      " 43%|████▎     | 43/100 [11:04<14:41, 15.46s/it]"
     ]
    },
    {
     "name": "stdout",
     "output_type": "stream",
     "text": [
      "19573/19573 [==============================] - 11s 542us/step\n",
      "Run time for eval indexes: 10.60 sec\n",
      "Train on 128 samples, validate on 5157 samples\n",
      "Epoch 44/44\n",
      "128/128 [==============================] - 3s 24ms/step - loss: 1.0931 - acc: 0.6094 - val_loss: 1.3702 - val_acc: 0.5305\n"
     ]
    },
    {
     "name": "stderr",
     "output_type": "stream",
     "text": [
      "\r",
      " 44%|████▍     | 44/100 [11:19<14:25, 15.45s/it]"
     ]
    },
    {
     "name": "stdout",
     "output_type": "stream",
     "text": [
      "19572/19572 [==============================] - 11s 544us/step\n",
      "Run time for eval indexes: 10.65 sec\n",
      "Train on 128 samples, validate on 5157 samples\n",
      "Epoch 45/45\n",
      "128/128 [==============================] - 3s 24ms/step - loss: 0.7939 - acc: 0.7500 - val_loss: 1.3713 - val_acc: 0.5307\n"
     ]
    },
    {
     "name": "stderr",
     "output_type": "stream",
     "text": [
      "\r",
      " 45%|████▌     | 45/100 [11:34<14:09, 15.44s/it]"
     ]
    },
    {
     "name": "stdout",
     "output_type": "stream",
     "text": [
      "19572/19572 [==============================] - 11s 543us/step\n",
      "Run time for eval indexes: 10.64 sec\n",
      "Train on 128 samples, validate on 5157 samples\n",
      "Epoch 46/46\n",
      "128/128 [==============================] - 3s 24ms/step - loss: 0.9864 - acc: 0.6406 - val_loss: 1.3719 - val_acc: 0.5307\n"
     ]
    },
    {
     "name": "stderr",
     "output_type": "stream",
     "text": [
      "\r",
      " 46%|████▌     | 46/100 [11:49<13:53, 15.43s/it]"
     ]
    },
    {
     "name": "stdout",
     "output_type": "stream",
     "text": [
      "19572/19572 [==============================] - 11s 545us/step\n",
      "Run time for eval indexes: 10.67 sec\n",
      "Train on 128 samples, validate on 5157 samples\n",
      "Epoch 47/47\n",
      "128/128 [==============================] - 3s 25ms/step - loss: 0.7204 - acc: 0.7500 - val_loss: 1.3726 - val_acc: 0.5311\n"
     ]
    },
    {
     "name": "stderr",
     "output_type": "stream",
     "text": [
      "\r",
      " 47%|████▋     | 47/100 [12:05<13:37, 15.43s/it]"
     ]
    },
    {
     "name": "stdout",
     "output_type": "stream",
     "text": [
      "19572/19572 [==============================] - 11s 543us/step\n",
      "Run time for eval indexes: 10.64 sec\n",
      "Train on 128 samples, validate on 5157 samples\n",
      "Epoch 48/48\n",
      "128/128 [==============================] - 3s 24ms/step - loss: 0.8129 - acc: 0.7578 - val_loss: 1.3728 - val_acc: 0.5313\n"
     ]
    },
    {
     "name": "stderr",
     "output_type": "stream",
     "text": [
      "\r",
      " 48%|████▊     | 48/100 [12:20<13:21, 15.42s/it]"
     ]
    },
    {
     "name": "stdout",
     "output_type": "stream",
     "text": [
      "19572/19572 [==============================] - 11s 544us/step\n",
      "Run time for eval indexes: 10.66 sec\n",
      "Train on 128 samples, validate on 5157 samples\n",
      "Epoch 49/49\n",
      "128/128 [==============================] - 3s 24ms/step - loss: 1.2120 - acc: 0.5859 - val_loss: 1.3730 - val_acc: 0.5311\n"
     ]
    },
    {
     "name": "stderr",
     "output_type": "stream",
     "text": [
      "\r",
      " 49%|████▉     | 49/100 [12:35<13:06, 15.41s/it]"
     ]
    },
    {
     "name": "stdout",
     "output_type": "stream",
     "text": [
      "19573/19573 [==============================] - 11s 546us/step\n",
      "Run time for eval indexes: 10.69 sec\n",
      "Train on 128 samples, validate on 5157 samples\n",
      "Epoch 50/50\n",
      "128/128 [==============================] - 3s 24ms/step - loss: 0.7391 - acc: 0.7812 - val_loss: 1.3724 - val_acc: 0.5309\n"
     ]
    },
    {
     "name": "stderr",
     "output_type": "stream",
     "text": [
      "\r",
      " 50%|█████     | 50/100 [12:50<12:50, 15.41s/it]"
     ]
    },
    {
     "name": "stdout",
     "output_type": "stream",
     "text": [
      "19573/19573 [==============================] - 11s 545us/step\n",
      "Run time for eval indexes: 10.68 sec\n",
      "Train on 128 samples, validate on 5157 samples\n",
      "Epoch 51/51\n",
      "128/128 [==============================] - 3s 24ms/step - loss: 0.7019 - acc: 0.7812 - val_loss: 1.3725 - val_acc: 0.5309\n"
     ]
    },
    {
     "name": "stderr",
     "output_type": "stream",
     "text": [
      "\r",
      " 51%|█████     | 51/100 [13:05<12:34, 15.40s/it]"
     ]
    },
    {
     "name": "stdout",
     "output_type": "stream",
     "text": [
      "19573/19573 [==============================] - 11s 570us/step\n",
      "Run time for eval indexes: 11.16 sec\n",
      "Train on 128 samples, validate on 5157 samples\n",
      "Epoch 52/52\n",
      "128/128 [==============================] - 3s 24ms/step - loss: 0.8598 - acc: 0.7188 - val_loss: 1.3726 - val_acc: 0.5313\n"
     ]
    },
    {
     "name": "stderr",
     "output_type": "stream",
     "text": [
      "\r",
      " 52%|█████▏    | 52/100 [13:21<12:19, 15.41s/it]"
     ]
    },
    {
     "name": "stdout",
     "output_type": "stream",
     "text": [
      "19572/19572 [==============================] - 11s 549us/step\n",
      "Run time for eval indexes: 10.74 sec\n",
      "Train on 128 samples, validate on 5157 samples\n",
      "Epoch 53/53\n",
      "128/128 [==============================] - 3s 24ms/step - loss: 0.6284 - acc: 0.8203 - val_loss: 1.3728 - val_acc: 0.5315\n"
     ]
    },
    {
     "name": "stderr",
     "output_type": "stream",
     "text": [
      "\r",
      " 53%|█████▎    | 53/100 [13:36<12:03, 15.40s/it]"
     ]
    },
    {
     "name": "stdout",
     "output_type": "stream",
     "text": [
      "19573/19573 [==============================] - 11s 545us/step\n",
      "Run time for eval indexes: 10.67 sec\n",
      "Train on 128 samples, validate on 5157 samples\n",
      "Epoch 54/54\n",
      "128/128 [==============================] - 3s 24ms/step - loss: 1.1225 - acc: 0.6250 - val_loss: 1.3724 - val_acc: 0.5319\n"
     ]
    },
    {
     "name": "stderr",
     "output_type": "stream",
     "text": [
      "\r",
      " 54%|█████▍    | 54/100 [13:51<11:48, 15.40s/it]"
     ]
    },
    {
     "name": "stdout",
     "output_type": "stream",
     "text": [
      "19572/19572 [==============================] - 11s 544us/step\n",
      "Run time for eval indexes: 10.64 sec\n",
      "Train on 128 samples, validate on 5157 samples\n",
      "Epoch 55/55\n",
      "128/128 [==============================] - 3s 24ms/step - loss: 0.5768 - acc: 0.8125 - val_loss: 1.3723 - val_acc: 0.5317\n"
     ]
    },
    {
     "name": "stderr",
     "output_type": "stream",
     "text": [
      "\r",
      " 55%|█████▌    | 55/100 [14:06<11:32, 15.39s/it]"
     ]
    },
    {
     "name": "stdout",
     "output_type": "stream",
     "text": [
      "19572/19572 [==============================] - 11s 542us/step\n",
      "Run time for eval indexes: 10.61 sec\n",
      "Train on 128 samples, validate on 5157 samples\n",
      "Epoch 56/56\n",
      "128/128 [==============================] - 3s 24ms/step - loss: 0.6384 - acc: 0.8125 - val_loss: 1.3723 - val_acc: 0.5317\n"
     ]
    },
    {
     "name": "stderr",
     "output_type": "stream",
     "text": [
      "\r",
      " 56%|█████▌    | 56/100 [14:21<11:16, 15.38s/it]"
     ]
    },
    {
     "name": "stdout",
     "output_type": "stream",
     "text": [
      "19573/19573 [==============================] - 11s 548us/step\n",
      "Run time for eval indexes: 10.74 sec\n",
      "Train on 128 samples, validate on 5157 samples\n",
      "Epoch 57/57\n",
      "128/128 [==============================] - 3s 25ms/step - loss: 0.7242 - acc: 0.7734 - val_loss: 1.3721 - val_acc: 0.5317\n"
     ]
    },
    {
     "name": "stderr",
     "output_type": "stream",
     "text": [
      "\r",
      " 57%|█████▋    | 57/100 [14:36<11:01, 15.38s/it]"
     ]
    },
    {
     "name": "stdout",
     "output_type": "stream",
     "text": [
      "19572/19572 [==============================] - 11s 561us/step\n",
      "Run time for eval indexes: 10.99 sec\n",
      "Train on 128 samples, validate on 5157 samples\n",
      "Epoch 58/58\n",
      "128/128 [==============================] - 3s 24ms/step - loss: 0.6346 - acc: 0.7891 - val_loss: 1.3720 - val_acc: 0.5315\n"
     ]
    },
    {
     "name": "stderr",
     "output_type": "stream",
     "text": [
      "\r",
      " 58%|█████▊    | 58/100 [14:52<10:45, 15.38s/it]"
     ]
    },
    {
     "name": "stdout",
     "output_type": "stream",
     "text": [
      "19573/19573 [==============================] - 11s 548us/step\n",
      "Run time for eval indexes: 10.72 sec\n",
      "Train on 128 samples, validate on 5157 samples\n",
      "Epoch 59/59\n",
      "128/128 [==============================] - 3s 24ms/step - loss: 1.0123 - acc: 0.6875 - val_loss: 1.3721 - val_acc: 0.5315\n"
     ]
    },
    {
     "name": "stderr",
     "output_type": "stream",
     "text": [
      "\r",
      " 59%|█████▉    | 59/100 [15:07<10:30, 15.38s/it]"
     ]
    },
    {
     "name": "stdout",
     "output_type": "stream",
     "text": [
      "19573/19573 [==============================] - 11s 542us/step\n",
      "Run time for eval indexes: 10.61 sec\n",
      "Train on 128 samples, validate on 5157 samples\n",
      "Epoch 60/60\n",
      "128/128 [==============================] - 3s 24ms/step - loss: 0.6672 - acc: 0.7969 - val_loss: 1.3725 - val_acc: 0.5315\n"
     ]
    },
    {
     "name": "stderr",
     "output_type": "stream",
     "text": [
      "\r",
      " 60%|██████    | 60/100 [15:22<10:14, 15.37s/it]"
     ]
    },
    {
     "name": "stdout",
     "output_type": "stream",
     "text": [
      "19573/19573 [==============================] - 11s 546us/step\n",
      "Run time for eval indexes: 10.69 sec\n",
      "Train on 128 samples, validate on 5157 samples\n",
      "Epoch 61/61\n",
      "128/128 [==============================] - 3s 24ms/step - loss: 0.8904 - acc: 0.6953 - val_loss: 1.3726 - val_acc: 0.5313\n"
     ]
    },
    {
     "name": "stderr",
     "output_type": "stream",
     "text": [
      "\r",
      " 61%|██████    | 61/100 [15:37<09:59, 15.37s/it]"
     ]
    },
    {
     "name": "stdout",
     "output_type": "stream",
     "text": [
      "19572/19572 [==============================] - 11s 545us/step\n",
      "Run time for eval indexes: 10.67 sec\n",
      "Train on 128 samples, validate on 5157 samples\n",
      "Epoch 62/62\n",
      "128/128 [==============================] - 3s 24ms/step - loss: 0.8287 - acc: 0.7344 - val_loss: 1.3729 - val_acc: 0.5315\n"
     ]
    },
    {
     "name": "stderr",
     "output_type": "stream",
     "text": [
      "\r",
      " 62%|██████▏   | 62/100 [15:52<09:43, 15.36s/it]"
     ]
    },
    {
     "name": "stdout",
     "output_type": "stream",
     "text": [
      "19571/19571 [==============================] - 11s 565us/step\n",
      "Run time for eval indexes: 11.07 sec\n",
      "Train on 128 samples, validate on 5157 samples\n",
      "Epoch 63/63\n",
      "128/128 [==============================] - 3s 24ms/step - loss: 1.1020 - acc: 0.6250 - val_loss: 1.3731 - val_acc: 0.5315\n"
     ]
    },
    {
     "name": "stderr",
     "output_type": "stream",
     "text": [
      "\r",
      " 63%|██████▎   | 63/100 [16:07<09:28, 15.36s/it]"
     ]
    },
    {
     "name": "stdout",
     "output_type": "stream",
     "text": [
      "19573/19573 [==============================] - 11s 549us/step\n",
      "Run time for eval indexes: 10.74 sec\n",
      "Train on 128 samples, validate on 5157 samples\n",
      "Epoch 64/64\n",
      "128/128 [==============================] - 3s 24ms/step - loss: 0.5690 - acc: 0.8438 - val_loss: 1.3733 - val_acc: 0.5313\n"
     ]
    },
    {
     "name": "stderr",
     "output_type": "stream",
     "text": [
      "\r",
      " 64%|██████▍   | 64/100 [16:23<09:12, 15.36s/it]"
     ]
    },
    {
     "name": "stdout",
     "output_type": "stream",
     "text": [
      "19573/19573 [==============================] - 11s 546us/step\n",
      "Run time for eval indexes: 10.69 sec\n",
      "Train on 128 samples, validate on 5157 samples\n",
      "Epoch 65/65\n",
      "128/128 [==============================] - 3s 24ms/step - loss: 0.6589 - acc: 0.7969 - val_loss: 1.3740 - val_acc: 0.5315\n"
     ]
    },
    {
     "name": "stderr",
     "output_type": "stream",
     "text": [
      "\r",
      " 65%|██████▌   | 65/100 [16:38<08:57, 15.36s/it]"
     ]
    },
    {
     "name": "stdout",
     "output_type": "stream",
     "text": [
      "19573/19573 [==============================] - 11s 544us/step\n",
      "Run time for eval indexes: 10.65 sec\n",
      "Train on 128 samples, validate on 5157 samples\n",
      "Epoch 66/66\n",
      "128/128 [==============================] - 3s 24ms/step - loss: 1.0373 - acc: 0.6875 - val_loss: 1.3742 - val_acc: 0.5311\n"
     ]
    },
    {
     "name": "stderr",
     "output_type": "stream",
     "text": [
      "\r",
      " 66%|██████▌   | 66/100 [16:53<08:41, 15.35s/it]"
     ]
    },
    {
     "name": "stdout",
     "output_type": "stream",
     "text": [
      "19573/19573 [==============================] - 11s 548us/step\n",
      "Run time for eval indexes: 10.73 sec\n",
      "Train on 128 samples, validate on 5157 samples\n",
      "Epoch 67/67\n",
      "128/128 [==============================] - 3s 24ms/step - loss: 0.6699 - acc: 0.8125 - val_loss: 1.3742 - val_acc: 0.5311\n"
     ]
    },
    {
     "name": "stderr",
     "output_type": "stream",
     "text": [
      "\r",
      " 67%|██████▋   | 67/100 [17:08<08:26, 15.35s/it]"
     ]
    },
    {
     "name": "stdout",
     "output_type": "stream",
     "text": [
      "19574/19574 [==============================] - 11s 548us/step\n",
      "Run time for eval indexes: 10.73 sec\n",
      "Train on 128 samples, validate on 5157 samples\n",
      "Epoch 68/68\n",
      "128/128 [==============================] - 3s 24ms/step - loss: 1.2060 - acc: 0.6094 - val_loss: 1.3744 - val_acc: 0.5315\n"
     ]
    },
    {
     "name": "stderr",
     "output_type": "stream",
     "text": [
      "\r",
      " 68%|██████▊   | 68/100 [17:23<08:11, 15.35s/it]"
     ]
    },
    {
     "name": "stdout",
     "output_type": "stream",
     "text": [
      "19572/19572 [==============================] - 11s 547us/step\n",
      "Run time for eval indexes: 10.72 sec\n",
      "Train on 128 samples, validate on 5157 samples\n",
      "Epoch 69/69\n",
      "128/128 [==============================] - 3s 24ms/step - loss: 0.5928 - acc: 0.8203 - val_loss: 1.3740 - val_acc: 0.5317\n"
     ]
    },
    {
     "name": "stderr",
     "output_type": "stream",
     "text": [
      "\r",
      " 69%|██████▉   | 69/100 [17:38<07:55, 15.35s/it]"
     ]
    },
    {
     "name": "stdout",
     "output_type": "stream",
     "text": [
      "19572/19572 [==============================] - 11s 546us/step\n",
      "Run time for eval indexes: 10.69 sec\n",
      "Train on 128 samples, validate on 5157 samples\n",
      "Epoch 70/70\n",
      "128/128 [==============================] - 3s 24ms/step - loss: 0.8836 - acc: 0.7109 - val_loss: 1.3742 - val_acc: 0.5319\n"
     ]
    },
    {
     "name": "stderr",
     "output_type": "stream",
     "text": [
      "\r",
      " 70%|███████   | 70/100 [17:54<07:40, 15.34s/it]"
     ]
    },
    {
     "name": "stdout",
     "output_type": "stream",
     "text": [
      "19573/19573 [==============================] - 11s 550us/step\n",
      "Run time for eval indexes: 10.77 sec\n",
      "Train on 128 samples, validate on 5157 samples\n",
      "Epoch 71/71\n",
      "128/128 [==============================] - 3s 24ms/step - loss: 0.7491 - acc: 0.7422 - val_loss: 1.3744 - val_acc: 0.5323\n"
     ]
    },
    {
     "name": "stderr",
     "output_type": "stream",
     "text": [
      "\r",
      " 71%|███████   | 71/100 [18:09<07:24, 15.34s/it]"
     ]
    },
    {
     "name": "stdout",
     "output_type": "stream",
     "text": [
      "19572/19572 [==============================] - 11s 547us/step\n",
      "Run time for eval indexes: 10.71 sec\n",
      "Train on 128 samples, validate on 5157 samples\n",
      "Epoch 72/72\n",
      "128/128 [==============================] - 3s 24ms/step - loss: 0.6198 - acc: 0.7812 - val_loss: 1.3753 - val_acc: 0.5323\n"
     ]
    },
    {
     "name": "stderr",
     "output_type": "stream",
     "text": [
      "\r",
      " 72%|███████▏  | 72/100 [18:24<07:09, 15.34s/it]"
     ]
    },
    {
     "name": "stdout",
     "output_type": "stream",
     "text": [
      "19572/19572 [==============================] - 11s 545us/step\n",
      "Run time for eval indexes: 10.68 sec\n",
      "Train on 128 samples, validate on 5157 samples\n",
      "Epoch 73/73\n",
      "128/128 [==============================] - 3s 24ms/step - loss: 1.0144 - acc: 0.6719 - val_loss: 1.3759 - val_acc: 0.5321\n"
     ]
    },
    {
     "name": "stderr",
     "output_type": "stream",
     "text": [
      "\r",
      " 73%|███████▎  | 73/100 [18:39<06:54, 15.34s/it]"
     ]
    },
    {
     "name": "stdout",
     "output_type": "stream",
     "text": [
      "19572/19572 [==============================] - 11s 545us/step\n",
      "Run time for eval indexes: 10.68 sec\n",
      "Train on 128 samples, validate on 5157 samples\n",
      "Epoch 74/74\n",
      "128/128 [==============================] - 3s 24ms/step - loss: 1.1103 - acc: 0.6406 - val_loss: 1.3762 - val_acc: 0.5323\n"
     ]
    },
    {
     "name": "stderr",
     "output_type": "stream",
     "text": [
      "\r",
      " 74%|███████▍  | 74/100 [18:54<06:38, 15.33s/it]"
     ]
    },
    {
     "name": "stdout",
     "output_type": "stream",
     "text": [
      "19574/19574 [==============================] - 11s 549us/step\n",
      "Run time for eval indexes: 10.74 sec\n",
      "Train on 128 samples, validate on 5157 samples\n",
      "Epoch 75/75\n",
      "128/128 [==============================] - 3s 24ms/step - loss: 1.2619 - acc: 0.6016 - val_loss: 1.3763 - val_acc: 0.5319\n"
     ]
    },
    {
     "name": "stderr",
     "output_type": "stream",
     "text": [
      "\r",
      " 75%|███████▌  | 75/100 [19:09<06:23, 15.33s/it]"
     ]
    },
    {
     "name": "stdout",
     "output_type": "stream",
     "text": [
      "19573/19573 [==============================] - 11s 546us/step\n",
      "Run time for eval indexes: 10.68 sec\n",
      "Train on 128 samples, validate on 5157 samples\n",
      "Epoch 76/76\n",
      "128/128 [==============================] - 3s 24ms/step - loss: 0.6139 - acc: 0.7734 - val_loss: 1.3759 - val_acc: 0.5323\n"
     ]
    },
    {
     "name": "stderr",
     "output_type": "stream",
     "text": [
      "\r",
      " 76%|███████▌  | 76/100 [19:24<06:07, 15.33s/it]"
     ]
    },
    {
     "name": "stdout",
     "output_type": "stream",
     "text": [
      "19572/19572 [==============================] - 11s 546us/step\n",
      "Run time for eval indexes: 10.70 sec\n",
      "Train on 128 samples, validate on 5157 samples\n",
      "Epoch 77/77\n",
      "128/128 [==============================] - 3s 24ms/step - loss: 0.7021 - acc: 0.8047 - val_loss: 1.3751 - val_acc: 0.5327\n"
     ]
    },
    {
     "name": "stderr",
     "output_type": "stream",
     "text": [
      "\r",
      " 77%|███████▋  | 77/100 [19:40<05:52, 15.33s/it]"
     ]
    },
    {
     "name": "stdout",
     "output_type": "stream",
     "text": [
      "19573/19573 [==============================] - 11s 547us/step\n",
      "Run time for eval indexes: 10.72 sec\n",
      "Train on 128 samples, validate on 5157 samples\n",
      "Epoch 78/78\n",
      "128/128 [==============================] - 3s 24ms/step - loss: 0.7169 - acc: 0.7734 - val_loss: 1.3744 - val_acc: 0.5325\n"
     ]
    },
    {
     "name": "stderr",
     "output_type": "stream",
     "text": [
      "\r",
      " 78%|███████▊  | 78/100 [19:55<05:37, 15.32s/it]"
     ]
    },
    {
     "name": "stdout",
     "output_type": "stream",
     "text": [
      "19573/19573 [==============================] - 11s 567us/step\n",
      "Run time for eval indexes: 11.10 sec\n",
      "Train on 128 samples, validate on 5157 samples\n",
      "Epoch 79/79\n",
      "128/128 [==============================] - 3s 24ms/step - loss: 0.8291 - acc: 0.7266 - val_loss: 1.3741 - val_acc: 0.5325\n"
     ]
    },
    {
     "name": "stderr",
     "output_type": "stream",
     "text": [
      "\r",
      " 79%|███████▉  | 79/100 [20:10<05:21, 15.33s/it]"
     ]
    },
    {
     "name": "stdout",
     "output_type": "stream",
     "text": [
      "19573/19573 [==============================] - 11s 546us/step\n",
      "Run time for eval indexes: 10.68 sec\n",
      "Train on 128 samples, validate on 5157 samples\n",
      "Epoch 80/80\n",
      "128/128 [==============================] - 3s 24ms/step - loss: 0.5583 - acc: 0.8516 - val_loss: 1.3739 - val_acc: 0.5325\n"
     ]
    },
    {
     "name": "stderr",
     "output_type": "stream",
     "text": [
      "\r",
      " 80%|████████  | 80/100 [20:25<05:06, 15.32s/it]"
     ]
    },
    {
     "name": "stdout",
     "output_type": "stream",
     "text": [
      "19573/19573 [==============================] - 11s 544us/step\n",
      "Run time for eval indexes: 10.65 sec\n",
      "Train on 128 samples, validate on 5157 samples\n",
      "Epoch 81/81\n",
      "128/128 [==============================] - 3s 24ms/step - loss: 0.7490 - acc: 0.7500 - val_loss: 1.3742 - val_acc: 0.5325\n"
     ]
    },
    {
     "name": "stderr",
     "output_type": "stream",
     "text": [
      "\r",
      " 81%|████████  | 81/100 [20:40<04:51, 15.32s/it]"
     ]
    },
    {
     "name": "stdout",
     "output_type": "stream",
     "text": [
      "19573/19573 [==============================] - 11s 545us/step\n",
      "Run time for eval indexes: 10.68 sec\n",
      "Train on 128 samples, validate on 5157 samples\n",
      "Epoch 82/82\n",
      "128/128 [==============================] - 3s 24ms/step - loss: 0.6244 - acc: 0.8203 - val_loss: 1.3740 - val_acc: 0.5325\n"
     ]
    },
    {
     "name": "stderr",
     "output_type": "stream",
     "text": [
      "\r",
      " 82%|████████▏ | 82/100 [20:55<04:35, 15.32s/it]"
     ]
    },
    {
     "name": "stdout",
     "output_type": "stream",
     "text": [
      "19572/19572 [==============================] - 11s 581us/step\n",
      "Run time for eval indexes: 11.38 sec\n",
      "Train on 128 samples, validate on 5157 samples\n",
      "Epoch 83/83\n",
      "128/128 [==============================] - 4s 30ms/step - loss: 0.7447 - acc: 0.7734 - val_loss: 1.3741 - val_acc: 0.5331\n"
     ]
    },
    {
     "name": "stderr",
     "output_type": "stream",
     "text": [
      "\r",
      " 83%|████████▎ | 83/100 [21:12<04:20, 15.33s/it]"
     ]
    },
    {
     "name": "stdout",
     "output_type": "stream",
     "text": [
      "19571/19571 [==============================] - 14s 724us/step\n",
      "Run time for eval indexes: 14.18 sec\n",
      "Train on 128 samples, validate on 5157 samples\n",
      "Epoch 84/84\n",
      "128/128 [==============================] - 4s 30ms/step - loss: 1.3112 - acc: 0.5469 - val_loss: 1.3751 - val_acc: 0.5331\n"
     ]
    },
    {
     "name": "stderr",
     "output_type": "stream",
     "text": [
      "\r",
      " 84%|████████▍ | 84/100 [21:32<04:06, 15.38s/it]"
     ]
    },
    {
     "name": "stdout",
     "output_type": "stream",
     "text": [
      "19573/19573 [==============================] - 12s 632us/step\n",
      "Run time for eval indexes: 12.37 sec\n",
      "Train on 128 samples, validate on 5157 samples\n",
      "Epoch 85/85\n",
      "128/128 [==============================] - 4s 30ms/step - loss: 0.8804 - acc: 0.7109 - val_loss: 1.3752 - val_acc: 0.5327\n"
     ]
    },
    {
     "name": "stderr",
     "output_type": "stream",
     "text": [
      "\r",
      " 85%|████████▌ | 85/100 [21:49<03:51, 15.41s/it]"
     ]
    },
    {
     "name": "stdout",
     "output_type": "stream",
     "text": [
      "19573/19573 [==============================] - 13s 646us/step\n",
      "Run time for eval indexes: 12.66 sec\n"
     ]
    },
    {
     "name": "stderr",
     "output_type": "stream",
     "text": [
      "/Users/maxim/miniconda3/lib/python3.6/site-packages/ipykernel_launcher.py:32: RuntimeWarning: divide by zero encountered in log\n"
     ]
    },
    {
     "name": "stdout",
     "output_type": "stream",
     "text": [
      "Train on 128 samples, validate on 5157 samples\n",
      "Epoch 86/86\n",
      "128/128 [==============================] - 4s 29ms/step - loss: 0.6486 - acc: 0.7969 - val_loss: 1.3752 - val_acc: 0.5329\n"
     ]
    },
    {
     "name": "stderr",
     "output_type": "stream",
     "text": [
      "\r",
      " 86%|████████▌ | 86/100 [22:08<03:36, 15.44s/it]"
     ]
    },
    {
     "name": "stdout",
     "output_type": "stream",
     "text": [
      "19573/19573 [==============================] - 13s 644us/step\n",
      "Run time for eval indexes: 12.62 sec\n",
      "Train on 128 samples, validate on 5157 samples\n",
      "Epoch 87/87\n",
      "128/128 [==============================] - 4s 29ms/step - loss: 0.7432 - acc: 0.7578 - val_loss: 1.3752 - val_acc: 0.5327\n"
     ]
    },
    {
     "name": "stderr",
     "output_type": "stream",
     "text": [
      "\r",
      " 87%|████████▋ | 87/100 [22:26<03:21, 15.47s/it]"
     ]
    },
    {
     "name": "stdout",
     "output_type": "stream",
     "text": [
      "19572/19572 [==============================] - 13s 651us/step\n",
      "Run time for eval indexes: 12.74 sec\n",
      "Train on 128 samples, validate on 5157 samples\n",
      "Epoch 88/88\n",
      "128/128 [==============================] - 4s 29ms/step - loss: 0.4767 - acc: 0.8438 - val_loss: 1.3750 - val_acc: 0.5325\n"
     ]
    },
    {
     "name": "stderr",
     "output_type": "stream",
     "text": [
      "\r",
      " 88%|████████▊ | 88/100 [22:44<03:06, 15.50s/it]"
     ]
    },
    {
     "name": "stdout",
     "output_type": "stream",
     "text": [
      "19572/19572 [==============================] - 13s 657us/step\n",
      "Run time for eval indexes: 12.88 sec\n",
      "Train on 128 samples, validate on 5157 samples\n",
      "Epoch 89/89\n",
      "128/128 [==============================] - 4s 30ms/step - loss: 0.5733 - acc: 0.8281 - val_loss: 1.3749 - val_acc: 0.5325\n"
     ]
    },
    {
     "name": "stderr",
     "output_type": "stream",
     "text": [
      "\r",
      " 89%|████████▉ | 89/100 [23:02<02:50, 15.54s/it]"
     ]
    },
    {
     "name": "stdout",
     "output_type": "stream",
     "text": [
      "19573/19573 [==============================] - 13s 643us/step\n",
      "Run time for eval indexes: 12.60 sec\n",
      "Train on 128 samples, validate on 5157 samples\n",
      "Epoch 90/90\n",
      "128/128 [==============================] - 4s 30ms/step - loss: 0.9233 - acc: 0.6641 - val_loss: 1.3753 - val_acc: 0.5327\n"
     ]
    },
    {
     "name": "stderr",
     "output_type": "stream",
     "text": [
      "\r",
      " 90%|█████████ | 90/100 [23:20<02:35, 15.57s/it]"
     ]
    },
    {
     "name": "stdout",
     "output_type": "stream",
     "text": [
      "19573/19573 [==============================] - 13s 654us/step\n",
      "Run time for eval indexes: 12.81 sec\n",
      "Train on 128 samples, validate on 5157 samples\n",
      "Epoch 91/91\n",
      "128/128 [==============================] - 4s 29ms/step - loss: 0.5132 - acc: 0.8516 - val_loss: 1.3759 - val_acc: 0.5325\n"
     ]
    },
    {
     "name": "stderr",
     "output_type": "stream",
     "text": [
      "\r",
      " 91%|█████████ | 91/100 [23:39<02:20, 15.59s/it]"
     ]
    },
    {
     "name": "stdout",
     "output_type": "stream",
     "text": [
      "19572/19572 [==============================] - 13s 640us/step\n",
      "Run time for eval indexes: 12.53 sec\n",
      "Train on 128 samples, validate on 5157 samples\n",
      "Epoch 92/92\n",
      "128/128 [==============================] - 4s 29ms/step - loss: 0.7979 - acc: 0.7422 - val_loss: 1.3769 - val_acc: 0.5331\n"
     ]
    },
    {
     "name": "stderr",
     "output_type": "stream",
     "text": [
      "\r",
      " 92%|█████████▏| 92/100 [23:57<02:04, 15.62s/it]"
     ]
    },
    {
     "name": "stdout",
     "output_type": "stream",
     "text": [
      "19573/19573 [==============================] - 13s 647us/step\n",
      "Run time for eval indexes: 12.68 sec\n",
      "Train on 128 samples, validate on 5157 samples\n",
      "Epoch 93/93\n",
      "128/128 [==============================] - 4s 29ms/step - loss: 0.6540 - acc: 0.7969 - val_loss: 1.3776 - val_acc: 0.5333\n"
     ]
    },
    {
     "name": "stderr",
     "output_type": "stream",
     "text": [
      "\r",
      " 93%|█████████▎| 93/100 [24:15<01:49, 15.65s/it]"
     ]
    },
    {
     "name": "stdout",
     "output_type": "stream",
     "text": [
      "19574/19574 [==============================] - 13s 643us/step\n",
      "Run time for eval indexes: 12.60 sec\n",
      "Train on 128 samples, validate on 5157 samples\n",
      "Epoch 94/94\n",
      "128/128 [==============================] - 4s 30ms/step - loss: 1.1088 - acc: 0.5938 - val_loss: 1.3792 - val_acc: 0.5336\n"
     ]
    },
    {
     "name": "stderr",
     "output_type": "stream",
     "text": [
      "\r",
      " 94%|█████████▍| 94/100 [24:33<01:34, 15.67s/it]"
     ]
    },
    {
     "name": "stdout",
     "output_type": "stream",
     "text": [
      "19572/19572 [==============================] - 12s 634us/step\n",
      "Run time for eval indexes: 12.42 sec\n",
      "Train on 128 samples, validate on 5157 samples\n",
      "Epoch 95/95\n",
      "128/128 [==============================] - 4s 30ms/step - loss: 0.5589 - acc: 0.8203 - val_loss: 1.3809 - val_acc: 0.5338\n"
     ]
    },
    {
     "name": "stderr",
     "output_type": "stream",
     "text": [
      "\r",
      " 95%|█████████▌| 95/100 [24:51<01:18, 15.70s/it]"
     ]
    },
    {
     "name": "stdout",
     "output_type": "stream",
     "text": [
      "19572/19572 [==============================] - 12s 637us/step\n",
      "Run time for eval indexes: 12.46 sec\n",
      "Train on 128 samples, validate on 5157 samples\n",
      "Epoch 96/96\n",
      "128/128 [==============================] - 4s 29ms/step - loss: 0.8685 - acc: 0.7344 - val_loss: 1.3823 - val_acc: 0.5344\n"
     ]
    },
    {
     "name": "stderr",
     "output_type": "stream",
     "text": [
      "\r",
      " 96%|█████████▌| 96/100 [25:09<01:02, 15.72s/it]"
     ]
    },
    {
     "name": "stdout",
     "output_type": "stream",
     "text": [
      "19573/19573 [==============================] - 13s 656us/step\n",
      "Run time for eval indexes: 12.85 sec\n",
      "Train on 128 samples, validate on 5157 samples\n",
      "Epoch 97/97\n",
      "128/128 [==============================] - 4s 29ms/step - loss: 0.5740 - acc: 0.8125 - val_loss: 1.3833 - val_acc: 0.5348\n"
     ]
    },
    {
     "name": "stderr",
     "output_type": "stream",
     "text": [
      "\r",
      " 97%|█████████▋| 97/100 [25:27<00:47, 15.75s/it]"
     ]
    },
    {
     "name": "stdout",
     "output_type": "stream",
     "text": [
      "19573/19573 [==============================] - 13s 654us/step\n",
      "Run time for eval indexes: 12.81 sec\n",
      "Train on 128 samples, validate on 5157 samples\n",
      "Epoch 98/98\n",
      "128/128 [==============================] - 4s 32ms/step - loss: 0.5763 - acc: 0.8125 - val_loss: 1.3846 - val_acc: 0.5352\n"
     ]
    },
    {
     "name": "stderr",
     "output_type": "stream",
     "text": [
      "\r",
      " 98%|█████████▊| 98/100 [25:46<00:31, 15.78s/it]"
     ]
    },
    {
     "name": "stdout",
     "output_type": "stream",
     "text": [
      "19573/19573 [==============================] - 13s 646us/step\n",
      "Run time for eval indexes: 12.64 sec\n",
      "Train on 128 samples, validate on 5157 samples\n",
      "Epoch 99/99\n",
      "128/128 [==============================] - 4s 29ms/step - loss: 0.5246 - acc: 0.8359 - val_loss: 1.3861 - val_acc: 0.5352\n"
     ]
    },
    {
     "name": "stderr",
     "output_type": "stream",
     "text": [
      "\r",
      " 99%|█████████▉| 99/100 [26:04<00:15, 15.80s/it]"
     ]
    },
    {
     "name": "stdout",
     "output_type": "stream",
     "text": [
      "19572/19572 [==============================] - 13s 668us/step\n",
      "Run time for eval indexes: 13.08 sec\n",
      "Train on 128 samples, validate on 5157 samples\n",
      "Epoch 100/100\n",
      "128/128 [==============================] - 4s 29ms/step - loss: 0.5021 - acc: 0.8438 - val_loss: 1.3873 - val_acc: 0.5354\n"
     ]
    },
    {
     "name": "stderr",
     "output_type": "stream",
     "text": [
      "\r",
      "100%|██████████| 100/100 [26:22<00:00, 15.83s/it]"
     ]
    },
    {
     "name": "stdout",
     "output_type": "stream",
     "text": [
      "CPU times: user 1h 3min 26s, sys: 3min 51s, total: 1h 7min 18s\n",
      "Wall time: 26min 22s\n"
     ]
    },
    {
     "name": "stderr",
     "output_type": "stream",
     "text": [
      "\n"
     ]
    }
   ],
   "source": [
    "%%time\n",
    "N = 128\n",
    "trainer = ActiveTrainer(model)\n",
    "try:\n",
    "    trainer.train(X_train, y_train, N, n_epoches=100)\n",
    "except:\n",
    "    print('KeyboardInterapt!')"
   ]
  },
  {
   "cell_type": "markdown",
   "metadata": {},
   "source": [
    "Посмотрим на конечное качество"
   ]
  },
  {
   "cell_type": "code",
   "execution_count": 290,
   "metadata": {},
   "outputs": [
    {
     "name": "stdout",
     "output_type": "stream",
     "text": [
      "25786/25786 [==============================] - 33s 1ms/step\n",
      "Loss: 1.424, acc: 52.66%\n",
      "CPU times: user 1min 8s, sys: 9.89 s, total: 1min 18s\n",
      "Wall time: 32.6 s\n"
     ]
    },
    {
     "data": {
      "text/plain": [
       "(1.4243495480505535, 0.5266035833675349)"
      ]
     },
     "execution_count": 290,
     "metadata": {},
     "output_type": "execute_result"
    }
   ],
   "source": [
    "%%time\n",
    "trainer.get_test_acc_and_loss(X_test, y_test)"
   ]
  },
  {
   "cell_type": "markdown",
   "metadata": {},
   "source": [
    "Сохраним модель"
   ]
  },
  {
   "cell_type": "code",
   "execution_count": 283,
   "metadata": {},
   "outputs": [
    {
     "name": "stdout",
     "output_type": "stream",
     "text": [
      "Created:\n",
      "data/models/model_weights_7.h5\n",
      "data/models/model_architecture_7.json\n"
     ]
    }
   ],
   "source": [
    "path_to_folder = 'data/models/'\n",
    "save_model(trainer.model, path_to_folder)"
   ]
  },
  {
   "cell_type": "code",
   "execution_count": null,
   "metadata": {
    "collapsed": true
   },
   "outputs": [],
   "source": []
  },
  {
   "cell_type": "code",
   "execution_count": null,
   "metadata": {
    "collapsed": true
   },
   "outputs": [],
   "source": []
  },
  {
   "cell_type": "code",
   "execution_count": null,
   "metadata": {
    "collapsed": true
   },
   "outputs": [],
   "source": []
  },
  {
   "cell_type": "code",
   "execution_count": null,
   "metadata": {
    "collapsed": true
   },
   "outputs": [],
   "source": []
  },
  {
   "cell_type": "code",
   "execution_count": null,
   "metadata": {
    "collapsed": true
   },
   "outputs": [],
   "source": []
  },
  {
   "cell_type": "code",
   "execution_count": null,
   "metadata": {
    "collapsed": true
   },
   "outputs": [],
   "source": []
  },
  {
   "cell_type": "code",
   "execution_count": null,
   "metadata": {
    "collapsed": true
   },
   "outputs": [],
   "source": []
  },
  {
   "cell_type": "code",
   "execution_count": null,
   "metadata": {
    "collapsed": true
   },
   "outputs": [],
   "source": []
  },
  {
   "cell_type": "code",
   "execution_count": null,
   "metadata": {
    "collapsed": true
   },
   "outputs": [],
   "source": []
  },
  {
   "cell_type": "code",
   "execution_count": null,
   "metadata": {
    "collapsed": true
   },
   "outputs": [],
   "source": []
  },
  {
   "cell_type": "code",
   "execution_count": null,
   "metadata": {
    "collapsed": true
   },
   "outputs": [],
   "source": []
  },
  {
   "cell_type": "code",
   "execution_count": null,
   "metadata": {
    "collapsed": true
   },
   "outputs": [],
   "source": []
  },
  {
   "cell_type": "code",
   "execution_count": null,
   "metadata": {
    "collapsed": true
   },
   "outputs": [],
   "source": []
  },
  {
   "cell_type": "code",
   "execution_count": null,
   "metadata": {
    "collapsed": true
   },
   "outputs": [],
   "source": []
  },
  {
   "cell_type": "code",
   "execution_count": null,
   "metadata": {
    "collapsed": true
   },
   "outputs": [],
   "source": []
  },
  {
   "cell_type": "code",
   "execution_count": null,
   "metadata": {
    "collapsed": true
   },
   "outputs": [],
   "source": []
  },
  {
   "cell_type": "code",
   "execution_count": null,
   "metadata": {
    "collapsed": true
   },
   "outputs": [],
   "source": []
  },
  {
   "cell_type": "code",
   "execution_count": null,
   "metadata": {
    "collapsed": true
   },
   "outputs": [],
   "source": []
  }
 ],
 "metadata": {
  "kernelspec": {
   "display_name": "Python 3",
   "language": "python",
   "name": "python3"
  },
  "language_info": {
   "codemirror_mode": {
    "name": "ipython",
    "version": 3
   },
   "file_extension": ".py",
   "mimetype": "text/x-python",
   "name": "python",
   "nbconvert_exporter": "python",
   "pygments_lexer": "ipython3",
   "version": "3.6.3"
  }
 },
 "nbformat": 4,
 "nbformat_minor": 2
}
