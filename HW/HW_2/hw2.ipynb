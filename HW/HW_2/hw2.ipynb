{
 "cells": [
  {
   "cell_type": "markdown",
   "metadata": {},
   "source": [
    "# Домашнее задание 3 [10 баллов] \n",
    "# До 30.04.18 23:59\n",
    "\n",
    "Задание выполняется в группе (1-4 человека). В случае использования какого-либо строннего источника информации обязательно дайте на него ссылку (поскольку другие тоже могут на него наткнуться). Плагиат наказывается нулём баллов за задание и предвзятым отношением в будущем.\n",
    "\n",
    "Не все части обязательны для выполнения, однако вы можете быть дополнительно оштрафованы за небрежное за выполнение одной или двух частей вместо четырех.\n",
    "\n",
    "При возниконовении проблем с выполнением задания обращайтесь с вопросами к преподавателю. Поэтому настоятельно рекомендуется выполнять задание заранее, оставив запас времени на всевозможные технические проблемы. Если вы начали читать условие в последний вечер и не успели из-за проблем с установкой какой-либо библиотеки — это ваши проблемы.\n",
    "\n",
    "\n",
    "Результат выполнения задания — это отчёт в формате html на основе Jupyter Notebook. Нормальный отчёт должен включать в себя:\n",
    "* Краткую постановку задачи и формулировку задания\n",
    "* Описание **минимума** необходимой теории и/или описание используемых инструментов - не стоит переписывать лекции или Википедию\n",
    "* Подробный пошаговый рассказ о проделанной работе\n",
    "* Аккуратно оформленные результаты\n",
    "* **Внятные выводы** – не стоит относится к домашнему заданию как к последовательности сугубо технических шагов, а стоит относится скорее как к небольшому практическому исследованию, у которого есть своя цель и свое назначение.\n",
    "\n",
    "Небрежное его оформление отчета существенно отразится на итоговой оценке. Весь код из отчёта должен быть воспроизводимым, если для этого нужны какие-то дополнительные действия, установленные модули и т.п. — всё это должно быть прописано в тексте в явном виде.\n",
    "\n",
    "Сдача отчетов осуществляется через систему AnyTask.\n"
   ]
  },
  {
   "cell_type": "markdown",
   "metadata": {},
   "source": [
    "## Использование архитектуры SENNA для определения части речи\n",
    "\n",
    "Домашнее задание написано по мотивам работы R. Collobert:\n",
    "\n",
    "**Collobert, Ronan, Jason Weston, Léon Bottou, Michael Karlen, Koray Kavukcuoglu, and Pavel Kuksa. \"Natural language processing (almost) from scratch.\" Journal of Machine Learning Research 12, no. Aug (2011): 2493-2537.**\n",
    "\n",
    "В этом домашнем задании вам предстоит самостоятельно разработать архитектуру SENNA для определения части речи. \n",
    "SENNA – это простая архитектура нейронной сети, позволяющая достигнуть state-of-the-art результатов в нескольких задачах обработки текстов.  \n",
    "\n",
    "Использование SENNA для определения части речи предполагает, что задача определения части речи для данного слова формулируется как задача классификации: пусть в размеченном корпусе всего $|T|$ (= tagset) различных тегов частей речи, тогда каждое слово $w$ относится к одному из $T$ классов. Для каждого слова из обучающих данных формируется собственный вектор признаков. Нейронная сеть обучается по всем векторам признаков для слов из обучающего множества. \n",
    "\n",
    "Подход к решению задачи классификации представлен в оригинальной статье на рис. 1 (Figure 1: Window approach network). Он состоит из следующих шагов (раздел 3.3.1):\n",
    "1. Каждое слово представляется эмбеддингом: $w_i \\rightarrow LT_{w^i}$, размерность эмбеддинга - $d$;\n",
    "2. Для каждого слова формируется окно длины $k$ из $(k-1)/2$ соседних слов слева от данного слова  и $(k-1)/2$ соседних слов справа от данного слова, $k$ – нечетное. \n",
    "3. Для каждого слова формируется вектор признаков, состоящий из конкатенированных эмбеддингов слов из левого окна, данного слова и слов из правого окна. Итоговая размерность вектора признаков – $d \\times k$. Именно этот вектор подается на вход нейронной сети;\n",
    "4. Обучается нейронная сеть, имеющая один скрытый слой с $n_h$ нейроннами и нелинейной функцией активации $\\theta$;\n",
    "5. На выходном слое нейронной сети решается задача классификации на |T| классов, то есть, определяется часть речи для каждого слова. \n",
    "\n",
    "Если для слова невозможно найти $(k-1)/2$ соседних слов слева от данного слова  и $(k-1)/2$ соседних слов справа от данного слова – используется padding.\n"
   ]
  },
  {
   "cell_type": "markdown",
   "metadata": {},
   "source": [
    "### Данные\n",
    "1. Открытый корпус: https://github.com/dialogue-evaluation/morphoRuEval-2017/blob/master/OpenCorpora_Texts.rar\n",
    "2. Предобученные эмбеддинги Facebook: https://s3-us-west-1.amazonaws.com/fasttext-vectors/wiki.ru.vec"
   ]
  },
  {
   "cell_type": "markdown",
   "metadata": {},
   "source": [
    "### Часть 1 [2 балла] Подготовка данных\n",
    "1. Прочитайте размеченные данные Открытого корпуса, используя nltk.corpus.reader.conll.ConllCorpusReader\n",
    "2. Посчитайте количество предложений и число тегов частей речи;\n",
    "3. Сформируйте тестовое и обучающее множество: первые 3/4 данных – обучающее множество;\n",
    "\n",
    "Для каждого слова:\n",
    "1. Определите его окно (слова слева и справа) размера $k$;\n",
    "2. Сформируйте его вектор признаков."
   ]
  },
  {
   "cell_type": "code",
   "execution_count": 93,
   "metadata": {
    "collapsed": true
   },
   "outputs": [],
   "source": [
    "import os\n",
    "import numpy as np\n",
    "import pandas as pd\n",
    "import matplotlib.pyplot as plt\n",
    "\n",
    "import nltk\n",
    "from nltk.corpus.reader.conll import ConllCorpusReader\n",
    "from sklearn.preprocessing import LabelEncoder, OneHotEncoder\n",
    "from IPython import display\n",
    "from tqdm import tqdm\n",
    "\n",
    "%matplotlib inline"
   ]
  },
  {
   "cell_type": "markdown",
   "metadata": {},
   "source": [
    "Читаем данные"
   ]
  },
  {
   "cell_type": "code",
   "execution_count": 2,
   "metadata": {
    "collapsed": true
   },
   "outputs": [],
   "source": [
    "root = './data/'\n",
    "fileids = ['unamb_sent_14_6.conllu']\n",
    "columntypes = ['ignore', 'words', 'ignore', 'pos', 'chunk']\n",
    "pos_corpus = ConllCorpusReader(root, fileids, columntypes)"
   ]
  },
  {
   "cell_type": "markdown",
   "metadata": {},
   "source": [
    "Считаем количество предложений и тегов частей речи"
   ]
  },
  {
   "cell_type": "code",
   "execution_count": 3,
   "metadata": {
    "collapsed": true
   },
   "outputs": [],
   "source": [
    "corpus = list(pos_corpus.iob_sents())"
   ]
  },
  {
   "cell_type": "code",
   "execution_count": 4,
   "metadata": {
    "collapsed": true
   },
   "outputs": [],
   "source": [
    "pos_tags = [pos for text in corpus for word, pos, chunk in text]"
   ]
  },
  {
   "cell_type": "code",
   "execution_count": 5,
   "metadata": {
    "collapsed": true
   },
   "outputs": [],
   "source": [
    "sentenses = [[word for word, pos, chunk in text] for text in corpus]"
   ]
  },
  {
   "cell_type": "code",
   "execution_count": 6,
   "metadata": {},
   "outputs": [
    {
     "name": "stdout",
     "output_type": "stream",
     "text": [
      "38508 457583\n"
     ]
    }
   ],
   "source": [
    "print(len(sentenses), len(pos_tags))"
   ]
  },
  {
   "cell_type": "markdown",
   "metadata": {},
   "source": [
    "Формируем тестовое и обучающее множество"
   ]
  },
  {
   "cell_type": "code",
   "execution_count": 7,
   "metadata": {
    "collapsed": true
   },
   "outputs": [],
   "source": [
    "train_sent, test_sent = sentenses[:int(len(sentenses) * 0.75)], sentenses[int(len(sentenses) * 0.75):]\n",
    "train_pos_tags, test_pos_tags = pos_tags[:int(len(pos_tags) * 0.75)], pos_tags[int(len(pos_tags) * 0.75):]"
   ]
  },
  {
   "cell_type": "code",
   "execution_count": 8,
   "metadata": {
    "scrolled": true
   },
   "outputs": [
    {
     "name": "stdout",
     "output_type": "stream",
     "text": [
      "38508 28881 9627\n",
      "457583 343187 114396\n"
     ]
    }
   ],
   "source": [
    "print(len(sentenses), len(train_sent), len(test_sent))\n",
    "print(len(pos_tags), len(train_pos_tags), len(test_pos_tags))"
   ]
  },
  {
   "cell_type": "markdown",
   "metadata": {},
   "source": [
    "Создадим словарь используемых слов в предложениях"
   ]
  },
  {
   "cell_type": "code",
   "execution_count": 9,
   "metadata": {
    "collapsed": true
   },
   "outputs": [],
   "source": [
    "vocab = {word.lower() for sent in sentenses for word in sent}"
   ]
  },
  {
   "cell_type": "code",
   "execution_count": 10,
   "metadata": {},
   "outputs": [
    {
     "data": {
      "text/plain": [
       "79791"
      ]
     },
     "execution_count": 10,
     "metadata": {},
     "output_type": "execute_result"
    }
   ],
   "source": [
    "len(vocab)"
   ]
  },
  {
   "cell_type": "markdown",
   "metadata": {},
   "source": [
    "Переведем метки частей речи в индексы"
   ]
  },
  {
   "cell_type": "code",
   "execution_count": 11,
   "metadata": {
    "collapsed": true
   },
   "outputs": [],
   "source": [
    "label_encoder = LabelEncoder()\n",
    "integer_encoded = label_encoder.fit_transform(pos_tags)"
   ]
  },
  {
   "cell_type": "code",
   "execution_count": 12,
   "metadata": {
    "collapsed": true
   },
   "outputs": [],
   "source": [
    "y = integer_encoded"
   ]
  },
  {
   "cell_type": "markdown",
   "metadata": {
    "collapsed": true
   },
   "source": [
    "onehot_encoder = OneHotEncoder(sparse=True)\n",
    "integer_encoded = integer_encoded.reshape(len(integer_encoded), 1)\n",
    "onehot_encoded = onehot_encoder.fit_transform(integer_encoded)"
   ]
  },
  {
   "cell_type": "markdown",
   "metadata": {},
   "source": [
    "Закодируем все слова в индексы"
   ]
  },
  {
   "cell_type": "code",
   "execution_count": 13,
   "metadata": {},
   "outputs": [
    {
     "name": "stderr",
     "output_type": "stream",
     "text": [
      "/Users/maxim/miniconda3/lib/python3.6/site-packages/h5py/__init__.py:36: FutureWarning: Conversion of the second argument of issubdtype from `float` to `np.floating` is deprecated. In future, it will be treated as `np.float64 == np.dtype(float).type`.\n",
      "  from ._conv import register_converters as _register_converters\n",
      "Using TensorFlow backend.\n",
      "/Users/maxim/miniconda3/lib/python3.6/importlib/_bootstrap.py:219: RuntimeWarning: compiletime version 3.5 of module 'tensorflow.python.framework.fast_tensor_util' does not match runtime version 3.6\n",
      "  return f(*args, **kwds)\n"
     ]
    }
   ],
   "source": [
    "# Полагаю не надо объяснять как я установил keras и tf\n",
    "from keras.preprocessing.text import Tokenizer\n",
    "from keras.preprocessing.sequence import pad_sequences"
   ]
  },
  {
   "cell_type": "code",
   "execution_count": 14,
   "metadata": {
    "collapsed": true
   },
   "outputs": [],
   "source": [
    "# prepare tokenizer\n",
    "t = Tokenizer(filters='')\n",
    "t.fit_on_texts([' '.join(sent) for sent in sentenses])\n",
    "vocab_size = len(t.word_index) + 1"
   ]
  },
  {
   "cell_type": "code",
   "execution_count": 15,
   "metadata": {},
   "outputs": [
    {
     "data": {
      "text/plain": [
       "79792"
      ]
     },
     "execution_count": 15,
     "metadata": {},
     "output_type": "execute_result"
    }
   ],
   "source": [
    "vocab_size"
   ]
  },
  {
   "cell_type": "code",
   "execution_count": 16,
   "metadata": {
    "collapsed": true
   },
   "outputs": [],
   "source": [
    "# integer encode the documents\n",
    "encoded_sentences = t.texts_to_sequences([' '.join(sent) for sent in sentenses])"
   ]
  },
  {
   "cell_type": "code",
   "execution_count": 17,
   "metadata": {},
   "outputs": [
    {
     "data": {
      "text/plain": [
       "['« Школа злословия » учит прикусить язык',\n",
       " 'Сохранится ли градус дискуссии в новом сезоне ?',\n",
       " 'Великолепная « Школа злословия » вернулась в эфир после летних каникул в новом формате .']"
      ]
     },
     "execution_count": 17,
     "metadata": {},
     "output_type": "execute_result"
    }
   ],
   "source": [
    "[' '.join(sent) for sent in sentenses[:3]]"
   ]
  },
  {
   "cell_type": "code",
   "execution_count": 18,
   "metadata": {},
   "outputs": [
    {
     "data": {
      "text/plain": [
       "[[7, 972, 7657, 8, 11067, 31989, 1116],\n",
       " [19860, 31990, 14203, 5074, 3, 1117, 1879, 26],\n",
       " [14204, 7, 972, 7657, 8, 3758, 3, 2425, 56, 9042, 31991, 3, 1117, 2426, 1]]"
      ]
     },
     "execution_count": 18,
     "metadata": {},
     "output_type": "execute_result"
    }
   ],
   "source": [
    "encoded_sentences[:3]"
   ]
  },
  {
   "cell_type": "markdown",
   "metadata": {},
   "source": [
    "Построим для каждого слова его контекст(окно размером k)"
   ]
  },
  {
   "cell_type": "code",
   "execution_count": 19,
   "metadata": {
    "collapsed": true
   },
   "outputs": [],
   "source": [
    "def get_window(i, sent, k):\n",
    "    window = []\n",
    "    j = int(i - (k-1)/2)\n",
    "    while j <= i + (k-1)/2:\n",
    "        if j < 0 or j >= len(sent):\n",
    "            window.append(0)\n",
    "        else:\n",
    "            window.append(sent[j])\n",
    "        j += 1\n",
    "    return window"
   ]
  },
  {
   "cell_type": "code",
   "execution_count": 20,
   "metadata": {},
   "outputs": [
    {
     "name": "stdout",
     "output_type": "stream",
     "text": [
      "CPU times: user 1.81 s, sys: 46.6 ms, total: 1.85 s\n",
      "Wall time: 1.87 s\n"
     ]
    }
   ],
   "source": [
    "%%time\n",
    "k = 5\n",
    "X = np.asarray([get_window(i, sent, k) \n",
    "                for sent in encoded_sentences for i, word in enumerate(sent)], dtype=np.int32)"
   ]
  },
  {
   "cell_type": "markdown",
   "metadata": {},
   "source": [
    "Проверим, что X и y созданы верно"
   ]
  },
  {
   "cell_type": "code",
   "execution_count": 21,
   "metadata": {},
   "outputs": [
    {
     "data": {
      "text/plain": [
       "array([[    0,     0,     7,   972,  7657],\n",
       "       [    0,     7,   972,  7657,     8],\n",
       "       [    7,   972,  7657,     8, 11067],\n",
       "       [  972,  7657,     8, 11067, 31989],\n",
       "       [ 7657,     8, 11067, 31989,  1116],\n",
       "       [    8, 11067, 31989,  1116,     0],\n",
       "       [11067, 31989,  1116,     0,     0],\n",
       "       [    0,     0, 19860, 31990, 14203]], dtype=int32)"
      ]
     },
     "execution_count": 21,
     "metadata": {},
     "output_type": "execute_result"
    }
   ],
   "source": [
    "X[:8]"
   ]
  },
  {
   "cell_type": "code",
   "execution_count": 23,
   "metadata": {},
   "outputs": [
    {
     "name": "stdout",
     "output_type": "stream",
     "text": [
      "(457583, 5) (457583,)\n"
     ]
    }
   ],
   "source": [
    "print(X.shape, y.shape)"
   ]
  },
  {
   "cell_type": "markdown",
   "metadata": {},
   "source": [
    "Разобьем X и y на train и test(а не то что попросили в задании), но, в угоду составителю, не при помощи train_test_split"
   ]
  },
  {
   "cell_type": "code",
   "execution_count": 24,
   "metadata": {
    "collapsed": true
   },
   "outputs": [],
   "source": [
    "X_train, X_test = X[:int(X.shape[0] * 0.75)], X[int(X.shape[0] * 0.75):]\n",
    "y_train, y_test = y[:int(y.shape[0] * 0.75)], y[int(y.shape[0] * 0.75):]"
   ]
  },
  {
   "cell_type": "code",
   "execution_count": 25,
   "metadata": {},
   "outputs": [
    {
     "name": "stdout",
     "output_type": "stream",
     "text": [
      "(457583, 5) (343187, 5) (114396, 5)\n",
      "(457583,) (343187,) (114396,)\n"
     ]
    }
   ],
   "source": [
    "print(X.shape, X_train.shape, X_test.shape)\n",
    "print(y.shape, y_train.shape, y_test.shape)"
   ]
  },
  {
   "cell_type": "markdown",
   "metadata": {},
   "source": [
    "Загрузим embedding в память"
   ]
  },
  {
   "cell_type": "code",
   "execution_count": 26,
   "metadata": {
    "scrolled": false
   },
   "outputs": [
    {
     "name": "stdout",
     "output_type": "stream",
     "text": [
      "Loaded 1862490 word vectors.\n",
      "CPU times: user 2min 25s, sys: 8.05 s, total: 2min 33s\n",
      "Wall time: 2min 41s\n"
     ]
    }
   ],
   "source": [
    "%%time\n",
    "file_name = 'data/wiki.ru.vec'\n",
    "embeddings_index = dict()\n",
    "with open(file_name) as f:\n",
    "    line = f.readline()\n",
    "    n_words, embedding_size = map(int, line.split())\n",
    "    for line in f:\n",
    "        values = line.strip().split(' ')\n",
    "        word = values[0]\n",
    "        coefs = np.asarray(values[1:], dtype='float32')\n",
    "        embeddings_index[word] = coefs\n",
    "print('Loaded %s word vectors.' % len(embeddings_index))"
   ]
  },
  {
   "cell_type": "markdown",
   "metadata": {},
   "source": [
    "Создадим матирцу embedding"
   ]
  },
  {
   "cell_type": "code",
   "execution_count": 27,
   "metadata": {},
   "outputs": [
    {
     "name": "stdout",
     "output_type": "stream",
     "text": [
      "CPU times: user 489 ms, sys: 664 ms, total: 1.15 s\n",
      "Wall time: 1.5 s\n"
     ]
    }
   ],
   "source": [
    "%%time\n",
    "embedding_matrix = np.zeros((vocab_size, embedding_size))\n",
    "for word, i in t.word_index.items():\n",
    "    embedding_vector = embeddings_index.get(word)\n",
    "    if embedding_vector is not None:\n",
    "        embedding_matrix[i] = embedding_vector"
   ]
  },
  {
   "cell_type": "code",
   "execution_count": 28,
   "metadata": {
    "collapsed": true
   },
   "outputs": [],
   "source": [
    "del embeddings_index"
   ]
  },
  {
   "cell_type": "markdown",
   "metadata": {},
   "source": [
    "### Часть 2 [4 баллов] Архитектура нейронной сети\n",
    "\n",
    "Архитектура нейронной сети состоит из следующих слов:\n",
    "1. Входной слой: нейронная сеть получает на вход вектор признаков, состоящий из $k$ конкатенированных эмбеддингов;/\n",
    "2. Скрытый слой: $n_h$ нейронов и нелинейная функция активации $\\theta$;\n",
    "3. Выходной слой:  $|T|$ нейронов для итоговой классификации.\n",
    "\n",
    "Обучите нейронную сеть на обучающих данных."
   ]
  },
  {
   "cell_type": "code",
   "execution_count": 125,
   "metadata": {
    "collapsed": true
   },
   "outputs": [],
   "source": [
    "from keras.models import Sequential\n",
    "from keras.layers import Embedding, Flatten, LSTM, Dense, LeakyReLU, BatchNormalization, Dropout\n",
    "from keras.optimizers import Adam\n",
    "from keras.callbacks import EarlyStopping, TensorBoard\n",
    "from keras import regularizers"
   ]
  },
  {
   "cell_type": "markdown",
   "metadata": {},
   "source": [
    "Построим модель"
   ]
  },
  {
   "cell_type": "code",
   "execution_count": 132,
   "metadata": {
    "collapsed": true
   },
   "outputs": [],
   "source": [
    "def build_model(vocab_size, embedding_size, embedding_matrix, k, n_units, output_size, lr=0.001, \n",
    "                dense_activation='relu', dropout_rate=0.2, l2=0., **kwargs):\n",
    "    model = Sequential()\n",
    "    model.add(\n",
    "        Embedding(vocab_size, embedding_size, weights=[embedding_matrix], input_length=k, trainable=False)\n",
    "    )\n",
    "#     model.add(Flatten())\n",
    "    model.add(Dense(n_units, activation=dense_activation, kernel_regularizer=regularizers.l2(l2)))\n",
    "    model.add(BatchNormalization())\n",
    "    model.add(Flatten())\n",
    "    model.add(Dropout(rate=dropout_rate))\n",
    "    model.add(Dense(output_size, activation='softmax'))\n",
    "    # compile the model\n",
    "    optimizer = Adam(lr=lr)\n",
    "    model.compile(optimizer=optimizer, loss='sparse_categorical_crossentropy', metrics=['acc'])\n",
    "    return model"
   ]
  },
  {
   "cell_type": "markdown",
   "metadata": {},
   "source": [
    "Обучим"
   ]
  },
  {
   "cell_type": "code",
   "execution_count": 86,
   "metadata": {
    "collapsed": true
   },
   "outputs": [],
   "source": [
    "def train_model(model, X, y, n_epoches, n_initial_epoch=0, batch_size=128, callbacks=[], **kwargs):\n",
    "    return model.fit(X, y, batch_size=batch_size, epochs=n_epoches, initial_epoch=n_initial_epoch, \n",
    "                     validation_split=0.1, callbacks=callbacks)"
   ]
  },
  {
   "cell_type": "markdown",
   "metadata": {},
   "source": [
    "Изобразим процесс обучения на графике"
   ]
  },
  {
   "cell_type": "code",
   "execution_count": 51,
   "metadata": {
    "collapsed": true
   },
   "outputs": [],
   "source": [
    "def history_plot(hist):\n",
    "    plt.plot(hist.history['loss'])\n",
    "    plt.plot(hist.history['val_loss'])\n",
    "    plt.title('model loss')\n",
    "    plt.ylabel('loss')\n",
    "    plt.xlabel('epoch')\n",
    "    plt.legend(['train', 'val'], loc='lower left')\n",
    "    plt.show()"
   ]
  },
  {
   "cell_type": "markdown",
   "metadata": {},
   "source": [
    "Сохраним"
   ]
  },
  {
   "cell_type": "code",
   "execution_count": 52,
   "metadata": {
    "collapsed": true
   },
   "outputs": [],
   "source": [
    "def get_last_n(path_to_folder):\n",
    "    try:\n",
    "        last_model_n = max(list(map(lambda name: int(name.replace('.h5', '').replace('.json', '').split('_')[-1]), \n",
    "                                     filter(lambda name: (name.startswith('model_weights_') or \n",
    "                                            name.startswith('model_weights_')), \n",
    "                                            os.listdir(path_to_folder)))))\n",
    "    except:\n",
    "        last_model_n = 0\n",
    "    return last_model_n\n",
    "\n",
    "def save_model(model, path_to_folder):\n",
    "    last_n = get_last_n(path_to_folder)\n",
    "    new_n = last_n + 1\n",
    "    model.save_weights(os.path.join(path_to_folder, 'model_weights_' + str(new_n) + '.h5'))\n",
    "    with open(os.path.join(path_to_folder, 'model_architecture_' + str(new_n) + '.json'), 'w') as f:\n",
    "        f.write(model.to_json())\n",
    "    print('Created:')\n",
    "    print(os.path.join(path_to_folder, 'model_weights_' + str(new_n) + '.h5'))\n",
    "    print(os.path.join(path_to_folder, 'model_architecture_' + str(new_n) + '.json'))"
   ]
  },
  {
   "cell_type": "markdown",
   "metadata": {},
   "source": [
    "Посчитаем значение метрик на тесте"
   ]
  },
  {
   "cell_type": "code",
   "execution_count": 77,
   "metadata": {
    "collapsed": true
   },
   "outputs": [],
   "source": [
    "def eval_test_score(model, X_test, y_test):\n",
    "    loss, acc = model.evaluate(X_test, y_test)\n",
    "    print(\"Loss: {:.3f}, acc: {:.2f}%\".format(loss, acc*100))\n",
    "    return loss, acc"
   ]
  },
  {
   "cell_type": "markdown",
   "metadata": {},
   "source": [
    "Теперь это все запустим"
   ]
  },
  {
   "cell_type": "code",
   "execution_count": 127,
   "metadata": {
    "collapsed": true,
    "scrolled": false
   },
   "outputs": [],
   "source": [
    "n_units = 128\n",
    "lr = 0.001\n",
    "output_size = len(label_encoder.classes_)\n",
    "model = build_model(vocab_size, embedding_size, embedding_matrix, k, n_units, output_size, lr, \n",
    "                    dropout_rate=0.4, l2=0.001)"
   ]
  },
  {
   "cell_type": "code",
   "execution_count": 128,
   "metadata": {},
   "outputs": [
    {
     "name": "stdout",
     "output_type": "stream",
     "text": [
      "_________________________________________________________________\n",
      "Layer (type)                 Output Shape              Param #   \n",
      "=================================================================\n",
      "embedding_20 (Embedding)     (None, 5, 300)            23937600  \n",
      "_________________________________________________________________\n",
      "dense_39 (Dense)             (None, 5, 128)            38528     \n",
      "_________________________________________________________________\n",
      "batch_normalization_17 (Batc (None, 5, 128)            512       \n",
      "_________________________________________________________________\n",
      "flatten_20 (Flatten)         (None, 640)               0         \n",
      "_________________________________________________________________\n",
      "dropout_17 (Dropout)         (None, 640)               0         \n",
      "_________________________________________________________________\n",
      "dense_40 (Dense)             (None, 14)                8974      \n",
      "=================================================================\n",
      "Total params: 23,985,614\n",
      "Trainable params: 47,758\n",
      "Non-trainable params: 23,937,856\n",
      "_________________________________________________________________\n"
     ]
    }
   ],
   "source": [
    "model.summary()"
   ]
  },
  {
   "cell_type": "code",
   "execution_count": 129,
   "metadata": {
    "scrolled": false
   },
   "outputs": [
    {
     "name": "stdout",
     "output_type": "stream",
     "text": [
      "Train on 308868 samples, validate on 34319 samples\n",
      "Epoch 1/10\n",
      "308868/308868 [==============================] - 42s 135us/step - loss: 0.4871 - acc: 0.8876 - val_loss: 0.3342 - val_acc: 0.9190\n",
      "Epoch 2/10\n",
      "308868/308868 [==============================] - 32s 103us/step - loss: 0.2754 - acc: 0.9347 - val_loss: 0.3018 - val_acc: 0.9248\n",
      "Epoch 3/10\n",
      "308868/308868 [==============================] - 32s 105us/step - loss: 0.2600 - acc: 0.9381 - val_loss: 0.3041 - val_acc: 0.9256\n",
      "CPU times: user 3min 26s, sys: 10.9 s, total: 3min 37s\n",
      "Wall time: 1min 46s\n"
     ]
    }
   ],
   "source": [
    "%%time\n",
    "n_epoches = 10\n",
    "batch_size = 128\n",
    "callbacks = [\n",
    "    EarlyStopping(monitor='val_loss', min_delta=0.005, patience=1, verbose=0, mode='auto'),\n",
    "#     TensorBoard(log_dir='./data/logs', histogram_freq=3, batch_size=batch_size, write_graph=True, write_grads=True)\n",
    "]\n",
    "\n",
    "history = train_model(model, X_train, y_train, n_epoches, n_initial_epoch=0, \n",
    "                      batch_size=batch_size, callbacks=callbacks)"
   ]
  },
  {
   "cell_type": "code",
   "execution_count": 130,
   "metadata": {},
   "outputs": [
    {
     "data": {
      "image/png": "[encoded data removed]",
      "text/plain": [
       "<matplotlib.figure.Figure at 0x13cc8a198>"
      ]
     },
     "metadata": {},
     "output_type": "display_data"
    }
   ],
   "source": [
    "history_plot(history)"
   ]
  },
  {
   "cell_type": "code",
   "execution_count": 59,
   "metadata": {
    "scrolled": false
   },
   "outputs": [
    {
     "name": "stdout",
     "output_type": "stream",
     "text": [
      "Train on 308868 samples, validate on 34319 samples\n",
      "Epoch 1/10\n",
      "308868/308868 [==============================] - 28s 91us/step - loss: 0.3110 - acc: 0.9057 - val_loss: 0.2510 - val_acc: 0.9230\n",
      "Epoch 2/10\n",
      "308868/308868 [==============================] - 27s 88us/step - loss: 0.1622 - acc: 0.9495 - val_loss: 0.2332 - val_acc: 0.9289\n",
      "Epoch 3/10\n",
      "308868/308868 [==============================] - 27s 88us/step - loss: 0.1425 - acc: 0.9549 - val_loss: 0.2278 - val_acc: 0.9299\n",
      "Epoch 4/10\n",
      "308868/308868 [==============================] - 27s 88us/step - loss: 0.1303 - acc: 0.9582 - val_loss: 0.2238 - val_acc: 0.9349\n",
      "CPU times: user 4min 29s, sys: 14.1 s, total: 4min 43s\n",
      "Wall time: 1min 50s\n"
     ]
    }
   ],
   "source": [
    "%%time\n",
    "n_epoches = 10\n",
    "batch_size = 128\n",
    "callbacks = [\n",
    "    EarlyStopping(monitor='val_loss', min_delta=0.005, patience=1, verbose=0, mode='auto'),\n",
    "#     TensorBoard(log_dir='./data/logs', histogram_freq=3, batch_size=batch_size, write_graph=True, write_grads=True)\n",
    "]\n",
    "\n",
    "history = train_model(model, X_train, y_train, n_epoches, n_initial_epoch=0, \n",
    "                      batch_size=batch_size, callbacks=callbacks)"
   ]
  },
  {
   "cell_type": "code",
   "execution_count": 60,
   "metadata": {},
   "outputs": [
    {
     "data": {
      "image/png": "[encoded data removed]",
      "text/plain": [
       "<matplotlib.figure.Figure at 0x12578ccf8>"
      ]
     },
     "metadata": {},
     "output_type": "display_data"
    }
   ],
   "source": [
    "history_plot(history)"
   ]
  },
  {
   "cell_type": "code",
   "execution_count": 61,
   "metadata": {},
   "outputs": [
    {
     "name": "stdout",
     "output_type": "stream",
     "text": [
      "Created:\n",
      "data/models/model_weights_1.h5\n",
      "data/models/model_architecture_1.json\n"
     ]
    }
   ],
   "source": [
    "path_to_folder = 'data/models/'\n",
    "save_model(model, path_to_folder)"
   ]
  },
  {
   "cell_type": "markdown",
   "metadata": {},
   "source": [
    "### Часть 3 [1 балл] Оценка качества\n",
    "\n",
    "Протестируйте нейронную сеть на тестовых данных. Используйте accuracy для оценки качества модели."
   ]
  },
  {
   "cell_type": "code",
   "execution_count": 131,
   "metadata": {},
   "outputs": [
    {
     "name": "stdout",
     "output_type": "stream",
     "text": [
      "114396/114396 [==============================] - 9s 78us/step\n",
      "Loss: 0.243, acc: 94.38%\n"
     ]
    },
    {
     "data": {
      "text/plain": [
       "(0.24323817995354122, 0.9438354487981683)"
      ]
     },
     "execution_count": 131,
     "metadata": {},
     "output_type": "execute_result"
    }
   ],
   "source": [
    "eval_test_score(model, X_test, y_test)"
   ]
  },
  {
   "cell_type": "code",
   "execution_count": 78,
   "metadata": {
    "scrolled": true
   },
   "outputs": [
    {
     "name": "stdout",
     "output_type": "stream",
     "text": [
      "114396/114396 [==============================] - 8s 66us/step\n",
      "Loss: 0.166, acc: 95.00%\n"
     ]
    },
    {
     "data": {
      "text/plain": [
       "(0.16644488316607142, 0.9499895101185633)"
      ]
     },
     "execution_count": 78,
     "metadata": {},
     "output_type": "execute_result"
    }
   ],
   "source": [
    "eval_test_score(model, X_test, y_test)"
   ]
  },
  {
   "cell_type": "markdown",
   "metadata": {},
   "source": [
    "### Часть 4 [1 балл] Оптимизация гиперпарметров\n",
    "\n",
    "В эксперименте участвуют следующие гиперпараметры:\n",
    "* $k$ – размер окна;\n",
    "* $n_h$ – число нейронов на скрытом слое;\n",
    "* $\\theta$ – вид функции активации.\n",
    "\n",
    "Оцените их влияние на качество модели. Как увеличение окна или числа нейронов влияет на итоговый показатель качества? Зависит ли итоговый показатель качества от функции активации на скрытом слое? "
   ]
  },
  {
   "cell_type": "markdown",
   "metadata": {},
   "source": [
    "Функция, которая считает итоговые результаты при варьировании исследуемого параметра"
   ]
  },
  {
   "cell_type": "code",
   "execution_count": 116,
   "metadata": {
    "collapsed": true
   },
   "outputs": [],
   "source": [
    "def test_param(param_name, param_values, **kwargs):\n",
    "    param_res = {}\n",
    "    # если не k, то подгодовим X один раз в начале\n",
    "    if param_name is not 'k':\n",
    "        X = np.asarray([get_window(i, sent, kwargs['k']) \n",
    "                            for sent in encoded_sentences for i, word in enumerate(sent)], dtype=np.int32)\n",
    "        X_train, X_test = X[:int(X.shape[0] * 0.75)], X[int(X.shape[0] * 0.75):]\n",
    "    for param in tqdm(param_values):\n",
    "        print('Param_name: {}, current value: {}'.format(param_name, param))\n",
    "        # подготовка данных\n",
    "        cur_kwargs = kwargs.copy()\n",
    "        if param_name is 'k':\n",
    "            k = param\n",
    "            cur_kwargs['k'] = k\n",
    "            X = np.asarray([get_window(i, sent, k) \n",
    "                            for sent in encoded_sentences for i, word in enumerate(sent)], dtype=np.int32)\n",
    "            X_train, X_test = X[:int(X.shape[0] * 0.75)], X[int(X.shape[0] * 0.75):]\n",
    "        if param_name is 'n_units':\n",
    "            n_units = param\n",
    "            cur_kwargs['n_units'] = n_units\n",
    "        if param_name is 'dense_activation':\n",
    "            dense_activation = param\n",
    "            cur_kwargs['dense_activation'] = dense_activation\n",
    "        # создание модели и ее обучение\n",
    "        model = build_model(**cur_kwargs)\n",
    "        history = train_model(model, X_train, y_train, **cur_kwargs)\n",
    "        # получение результатов\n",
    "#         display.clear_output(wait=True)\n",
    "        history_plot(history)\n",
    "        loss, acc = eval_test_score(model, X_test, y_test)\n",
    "        param_res[param] = loss, acc, history\n",
    "    return param_res"
   ]
  },
  {
   "cell_type": "markdown",
   "metadata": {},
   "source": [
    "Строит итоговые графики ошибки и точности в зависимости от значения изменяемого параметра"
   ]
  },
  {
   "cell_type": "code",
   "execution_count": 109,
   "metadata": {
    "collapsed": true
   },
   "outputs": [],
   "source": [
    "def plot_res(param_name, param_res):\n",
    "    x, loss, acc = list(map(list, zip(*[(param, v[0], v[1]) for param, v in param_res.items()])))\n",
    "    plt.figure(figsize=(15, 7))\n",
    "    \n",
    "    plt.subplot(1, 2, 1)\n",
    "    plt.plot(x, loss)\n",
    "    plt.xlabel(param_name + \" values\")\n",
    "    plt.ylabel('loss')\n",
    "    plt.grid(True)\n",
    "    plt.title(param_name + ' (loss)')\n",
    "    \n",
    "    plt.subplot(1, 2, 2)\n",
    "    plt.plot(x, acc)\n",
    "    plt.xlabel(param_name + \" values\")\n",
    "    plt.ylabel('acc')\n",
    "    plt.grid(True)\n",
    "    plt.title(param_name + ' (acc)')"
   ]
  },
  {
   "cell_type": "markdown",
   "metadata": {},
   "source": [
    "Начальное значение всех параметров"
   ]
  },
  {
   "cell_type": "code",
   "execution_count": 95,
   "metadata": {
    "collapsed": true
   },
   "outputs": [],
   "source": [
    "k = 5\n",
    "n_units = 128\n",
    "dense_activation = 'relu'\n",
    "\n",
    "output_size = len(label_encoder.classes_)\n",
    "lr = 0.001\n",
    "n_epoches = 10\n",
    "n_initial_epoch = 0\n",
    "batch_size = 128\n",
    "callbacks = [\n",
    "    EarlyStopping(monitor='val_loss', min_delta=0.005, patience=1, verbose=0, mode='auto')\n",
    "]\n",
    "\n",
    "kwargs = {\n",
    "    'k': k, \n",
    "    'n_units': n_units, \n",
    "    'dense_activation': dense_activation,\n",
    "    \n",
    "    'vocab_size': vocab_size, \n",
    "    'embedding_size': embedding_size, \n",
    "    'embedding_matrix': embedding_matrix, \n",
    "    'output_size': output_size, \n",
    "    'lr': lr,\n",
    "    'n_epoches': n_epoches,\n",
    "    'n_initial_epoch': n_initial_epoch, \n",
    "    'batch_size': batch_size,\n",
    "    'callbacks': callbacks,\n",
    "}"
   ]
  },
  {
   "cell_type": "markdown",
   "metadata": {},
   "source": [
    "## Исследуем зависимость от размера окна k"
   ]
  },
  {
   "cell_type": "code",
   "execution_count": 96,
   "metadata": {},
   "outputs": [
    {
     "data": {
      "image/png": "[encoded data removed]",
      "text/plain": [
       "<matplotlib.figure.Figure at 0x12fdbb630>"
      ]
     },
     "metadata": {},
     "output_type": "display_data"
    },
    {
     "name": "stdout",
     "output_type": "stream",
     "text": [
      "114396/114396 [==============================] - 12s 103us/step\n"
     ]
    },
    {
     "name": "stderr",
     "output_type": "stream",
     "text": [
      "\r",
      "100%|██████████| 6/6 [13:19<00:00, 133.27s/it]"
     ]
    },
    {
     "name": "stdout",
     "output_type": "stream",
     "text": [
      "Loss: 0.178, acc: 94.57%\n",
      "CPU times: user 30min 50s, sys: 1min 40s, total: 32min 30s\n",
      "Wall time: 13min 19s\n"
     ]
    },
    {
     "name": "stderr",
     "output_type": "stream",
     "text": [
      "\n"
     ]
    }
   ],
   "source": [
    "%%time\n",
    "param_name = 'k'\n",
    "param_values = np.arange(1, 12, 2)\n",
    "\n",
    "param_res = test_param(param_name, param_values, **kwargs)"
   ]
  },
  {
   "cell_type": "code",
   "execution_count": 110,
   "metadata": {},
   "outputs": [
    {
     "data": {
      "image/png": "[encoded data removed]",
      "text/plain": [
       "<matplotlib.figure.Figure at 0x131cbe588>"
      ]
     },
     "metadata": {},
     "output_type": "display_data"
    }
   ],
   "source": [
    "plot_res(param_name, param_res)"
   ]
  },
  {
   "cell_type": "markdown",
   "metadata": {},
   "source": [
    "Видно, что заметная разница только при увеличении размера окна с 1 до 3. Поскольку некоторые слова не были найдены в embedding'е, то при k=1 иногда возникает ситуация, что по одному нулевому вектору надо предсказать часть речи, что весьма затруднительно. Когда же k >= 3, то менее вероятно что все три слова - нулевые векторы, а имея хоть какой-то контекст, уже можно предсказать часть речи.\n",
    "\n",
    "При дальнейшем увеличении размера окна, в теории, качество должно немного расти, поскольку мы знаем больше о контексте слова, однако флуктуации при одном запуске процесса обучения заметней чем этот планируемый рост точности.\n",
    "\n",
    "Брать совсем большие размеры окна не имеет смысла, ибо средняя длина предложения равна:"
   ]
  },
  {
   "cell_type": "code",
   "execution_count": 119,
   "metadata": {},
   "outputs": [
    {
     "data": {
      "text/plain": [
       "11.882803573283473"
      ]
     },
     "execution_count": 119,
     "metadata": {},
     "output_type": "execute_result"
    }
   ],
   "source": [
    "np.mean([len(sent) fosentensesent in sentenses])"
   ]
  },
  {
   "cell_type": "markdown",
   "metadata": {},
   "source": [
    "Однако, судя по графикам, наилучшая точность достигается при k=9, поэтому в дальнейших экспериментах будем брать такой размер окна."
   ]
  },
  {
   "cell_type": "code",
   "execution_count": 112,
   "metadata": {
    "collapsed": true
   },
   "outputs": [],
   "source": [
    "kwargs['k'] = 9"
   ]
  },
  {
   "cell_type": "markdown",
   "metadata": {},
   "source": [
    "## Исследуем зависимость от количества нейронов в скрытом слое n_units"
   ]
  },
  {
   "cell_type": "code",
   "execution_count": 117,
   "metadata": {
    "scrolled": false
   },
   "outputs": [
    {
     "name": "stderr",
     "output_type": "stream",
     "text": [
      "\r",
      "  0%|          | 0/6 [00:00<?, ?it/s]"
     ]
    },
    {
     "name": "stdout",
     "output_type": "stream",
     "text": [
      "Param_name: n_units, current value: 64\n",
      "Train on 308868 samples, validate on 34319 samples\n",
      "Epoch 1/10\n",
      "308868/308868 [==============================] - 29s 93us/step - loss: 0.3821 - acc: 0.8841 - val_loss: 0.2683 - val_acc: 0.9183\n",
      "Epoch 2/10\n",
      "308868/308868 [==============================] - 27s 86us/step - loss: 0.1895 - acc: 0.9408 - val_loss: 0.2468 - val_acc: 0.9236\n",
      "Epoch 3/10\n",
      "308868/308868 [==============================] - 27s 88us/step - loss: 0.1669 - acc: 0.9471 - val_loss: 0.2384 - val_acc: 0.9264\n",
      "Epoch 4/10\n",
      "308868/308868 [==============================] - 27s 87us/step - loss: 0.1559 - acc: 0.9507 - val_loss: 0.2324 - val_acc: 0.9295\n",
      "Epoch 5/10\n",
      "308868/308868 [==============================] - 27s 88us/step - loss: 0.1487 - acc: 0.9523 - val_loss: 0.2234 - val_acc: 0.9312\n",
      "Epoch 6/10\n",
      "308868/308868 [==============================] - 27s 87us/step - loss: 0.1427 - acc: 0.9542 - val_loss: 0.2319 - val_acc: 0.9300\n"
     ]
    },
    {
     "data": {
      "image/png": "[encoded data removed]",
      "text/plain": [
       "<matplotlib.figure.Figure at 0x10a4069e8>"
      ]
     },
     "metadata": {},
     "output_type": "display_data"
    },
    {
     "name": "stdout",
     "output_type": "stream",
     "text": [
      "114396/114396 [==============================] - 8s 70us/step\n"
     ]
    },
    {
     "name": "stderr",
     "output_type": "stream",
     "text": [
      "\r",
      " 17%|█▋        | 1/6 [02:53<14:29, 173.84s/it]"
     ]
    },
    {
     "name": "stdout",
     "output_type": "stream",
     "text": [
      "Loss: 0.172, acc: 94.68%\n",
      "Param_name: n_units, current value: 128\n",
      "Train on 308868 samples, validate on 34319 samples\n",
      "Epoch 1/10\n",
      "308868/308868 [==============================] - 48s 155us/step - loss: 0.3245 - acc: 0.9010 - val_loss: 0.2587 - val_acc: 0.9221\n",
      "Epoch 2/10\n",
      "308868/308868 [==============================] - 45s 146us/step - loss: 0.1642 - acc: 0.9486 - val_loss: 0.2387 - val_acc: 0.9282\n",
      "Epoch 3/10\n",
      "308868/308868 [==============================] - 44s 143us/step - loss: 0.1439 - acc: 0.9545 - val_loss: 0.2279 - val_acc: 0.9311\n",
      "Epoch 4/10\n",
      "308868/308868 [==============================] - 45s 145us/step - loss: 0.1310 - acc: 0.9587 - val_loss: 0.2249 - val_acc: 0.9337\n"
     ]
    },
    {
     "data": {
      "image/png": "[encoded data removed]",
      "text/plain": [
       "<matplotlib.figure.Figure at 0x1333cef60>"
      ]
     },
     "metadata": {},
     "output_type": "display_data"
    },
    {
     "name": "stdout",
     "output_type": "stream",
     "text": [
      "114396/114396 [==============================] - 11s 96us/step\n"
     ]
    },
    {
     "name": "stderr",
     "output_type": "stream",
     "text": [
      "\r",
      " 33%|███▎      | 2/6 [06:09<12:18, 184.68s/it]"
     ]
    },
    {
     "name": "stdout",
     "output_type": "stream",
     "text": [
      "Loss: 0.167, acc: 94.97%\n",
      "Param_name: n_units, current value: 192\n",
      "Train on 308868 samples, validate on 34319 samples\n",
      "Epoch 1/10\n",
      "308868/308868 [==============================] - 62s 201us/step - loss: 0.3012 - acc: 0.9085 - val_loss: 0.2505 - val_acc: 0.9230\n",
      "Epoch 2/10\n",
      "308868/308868 [==============================] - 62s 199us/step - loss: 0.1590 - acc: 0.9503 - val_loss: 0.2375 - val_acc: 0.9299\n",
      "Epoch 3/10\n",
      "308868/308868 [==============================] - 61s 198us/step - loss: 0.1355 - acc: 0.9568 - val_loss: 0.2322 - val_acc: 0.9318\n",
      "Epoch 4/10\n",
      "308868/308868 [==============================] - 62s 201us/step - loss: 0.1211 - acc: 0.9610 - val_loss: 0.2268 - val_acc: 0.9350\n",
      "Epoch 5/10\n",
      "308868/308868 [==============================] - 61s 199us/step - loss: 0.1102 - acc: 0.9641 - val_loss: 0.2308 - val_acc: 0.9341\n"
     ]
    },
    {
     "data": {
      "image/png": "[encoded data removed]",
      "text/plain": [
       "<matplotlib.figure.Figure at 0x134326400>"
      ]
     },
     "metadata": {},
     "output_type": "display_data"
    },
    {
     "name": "stdout",
     "output_type": "stream",
     "text": [
      "114396/114396 [==============================] - 14s 121us/step\n"
     ]
    },
    {
     "name": "stderr",
     "output_type": "stream",
     "text": [
      "\r",
      " 50%|█████     | 3/6 [11:34<11:34, 231.46s/it]"
     ]
    },
    {
     "name": "stdout",
     "output_type": "stream",
     "text": [
      "Loss: 0.169, acc: 94.99%\n",
      "Param_name: n_units, current value: 256\n",
      "Train on 308868 samples, validate on 34319 samples\n",
      "Epoch 1/10\n",
      "308868/308868 [==============================] - 82s 264us/step - loss: 0.2868 - acc: 0.9134 - val_loss: 0.2560 - val_acc: 0.9245\n",
      "Epoch 2/10\n",
      "308868/308868 [==============================] - 88s 284us/step - loss: 0.1549 - acc: 0.9520 - val_loss: 0.2478 - val_acc: 0.9300\n",
      "Epoch 3/10\n",
      "308868/308868 [==============================] - 83s 269us/step - loss: 0.1322 - acc: 0.9584 - val_loss: 0.2303 - val_acc: 0.9335\n",
      "Epoch 4/10\n",
      "308868/308868 [==============================] - 79s 254us/step - loss: 0.1142 - acc: 0.9635 - val_loss: 0.2306 - val_acc: 0.9349\n"
     ]
    },
    {
     "data": {
      "image/png": "[encoded data removed]",
      "text/plain": [
       "<matplotlib.figure.Figure at 0x1360c7908>"
      ]
     },
     "metadata": {},
     "output_type": "display_data"
    },
    {
     "name": "stdout",
     "output_type": "stream",
     "text": [
      "114396/114396 [==============================] - 17s 147us/step\n"
     ]
    },
    {
     "name": "stderr",
     "output_type": "stream",
     "text": [
      "\r",
      " 67%|██████▋   | 4/6 [17:24<08:42, 261.18s/it]"
     ]
    },
    {
     "name": "stdout",
     "output_type": "stream",
     "text": [
      "Loss: 0.173, acc: 94.97%\n",
      "Param_name: n_units, current value: 512\n",
      "Train on 308868 samples, validate on 34319 samples\n",
      "Epoch 1/10\n",
      "308868/308868 [==============================] - 159s 516us/step - loss: 0.2781 - acc: 0.9191 - val_loss: 0.2808 - val_acc: 0.9216\n",
      "Epoch 2/10\n",
      "308868/308868 [==============================] - 153s 497us/step - loss: 0.1583 - acc: 0.9530 - val_loss: 0.2531 - val_acc: 0.9290\n",
      "Epoch 3/10\n",
      "308868/308868 [==============================] - 153s 496us/step - loss: 0.1261 - acc: 0.9611 - val_loss: 0.2563 - val_acc: 0.9322\n"
     ]
    },
    {
     "data": {
      "image/png": "[encoded data removed]",
      "text/plain": [
       "<matplotlib.figure.Figure at 0x1383ef4e0>"
      ]
     },
     "metadata": {},
     "output_type": "display_data"
    },
    {
     "name": "stdout",
     "output_type": "stream",
     "text": [
      "114396/114396 [==============================] - 28s 247us/step\n"
     ]
    },
    {
     "name": "stderr",
     "output_type": "stream",
     "text": [
      "\r",
      " 83%|████████▎ | 5/6 [25:41<05:08, 308.32s/it]"
     ]
    },
    {
     "name": "stdout",
     "output_type": "stream",
     "text": [
      "Loss: 0.185, acc: 94.85%\n",
      "Param_name: n_units, current value: 1024\n",
      "Train on 308868 samples, validate on 34319 samples\n",
      "Epoch 1/10\n",
      "308868/308868 [==============================] - 291s 943us/step - loss: 0.3067 - acc: 0.9183 - val_loss: 0.3230 - val_acc: 0.9180\n",
      "Epoch 2/10\n",
      "308868/308868 [==============================] - 290s 940us/step - loss: 0.1766 - acc: 0.9516 - val_loss: 0.3267 - val_acc: 0.9193\n"
     ]
    },
    {
     "data": {
      "image/png": "[encoded data removed]",
      "text/plain": [
       "<matplotlib.figure.Figure at 0x13a60b860>"
      ]
     },
     "metadata": {},
     "output_type": "display_data"
    },
    {
     "name": "stdout",
     "output_type": "stream",
     "text": [
      "114396/114396 [==============================] - 53s 461us/step\n"
     ]
    },
    {
     "name": "stderr",
     "output_type": "stream",
     "text": [
      "\r",
      "100%|██████████| 6/6 [36:18<00:00, 363.06s/it]"
     ]
    },
    {
     "name": "stdout",
     "output_type": "stream",
     "text": [
      "Loss: 0.233, acc: 93.96%\n",
      "CPU times: user 1h 32min 25s, sys: 5min 6s, total: 1h 37min 31s\n",
      "Wall time: 36min 22s\n"
     ]
    },
    {
     "name": "stderr",
     "output_type": "stream",
     "text": [
      "\n"
     ]
    }
   ],
   "source": [
    "%%time\n",
    "param_name = 'n_units'\n",
    "param_values = [64, 128, 192, 256, 512, 1024]\n",
    "\n",
    "param_res = test_param(param_name, param_values, **kwargs)"
   ]
  },
  {
   "cell_type": "code",
   "execution_count": 118,
   "metadata": {},
   "outputs": [
    {
     "data": {
      "image/png": "[encoded data removed]",
      "text/plain": [
       "<matplotlib.figure.Figure at 0x13202fcc0>"
      ]
     },
     "metadata": {},
     "output_type": "display_data"
    }
   ],
   "source": [
    "plot_res(param_name, param_res)"
   ]
  },
  {
   "cell_type": "code",
   "execution_count": 133,
   "metadata": {
    "collapsed": true
   },
   "outputs": [],
   "source": [
    "kwargs['n_units'] = 192"
   ]
  },
  {
   "cell_type": "markdown",
   "metadata": {},
   "source": [
    "## Исследуем зависимость от количества нейронов в скрытом слое n_units"
   ]
  },
  {
   "cell_type": "code",
   "execution_count": 140,
   "metadata": {
    "scrolled": false
   },
   "outputs": [
    {
     "name": "stderr",
     "output_type": "stream",
     "text": [
      "\n",
      "  0%|          | 0/7 [00:00<?, ?it/s]\u001b[A"
     ]
    },
    {
     "name": "stdout",
     "output_type": "stream",
     "text": [
      "Param_name: dense_activation, current value: elu\n",
      "Train on 308868 samples, validate on 34319 samples\n",
      "Epoch 1/10\n",
      "  8832/308868 [..............................] - ETA: 1:58 - loss: 1.6098 - acc: 0.5262"
     ]
    },
    {
     "name": "stderr",
     "output_type": "stream",
     "text": [
      "\n",
      "Exception in thread Thread-10:\n",
      "Traceback (most recent call last):\n",
      "  File \"/Users/maxim/miniconda3/lib/python3.6/threading.py\", line 916, in _bootstrap_inner\n",
      "    self.run()\n",
      "  File \"/Users/maxim/miniconda3/lib/python3.6/site-packages/tqdm/_tqdm.py\", line 148, in run\n",
      "    for instance in self.tqdm_cls._instances:\n",
      "  File \"/Users/maxim/miniconda3/lib/python3.6/_weakrefset.py\", line 60, in __iter__\n",
      "    for itemref in self.data:\n",
      "RuntimeError: Set changed size during iteration\n",
      "\n"
     ]
    },
    {
     "name": "stdout",
     "output_type": "stream",
     "text": [
      "308868/308868 [==============================] - 81s 263us/step - loss: 0.3258 - acc: 0.9009 - val_loss: 0.3095 - val_acc: 0.9118\n",
      "Epoch 2/10\n",
      "308868/308868 [==============================] - 81s 262us/step - loss: 0.2079 - acc: 0.9361 - val_loss: 0.2888 - val_acc: 0.9135\n",
      "Epoch 3/10\n",
      "308868/308868 [==============================] - 70s 225us/step - loss: 0.1845 - acc: 0.9427 - val_loss: 0.2660 - val_acc: 0.9194\n",
      "Epoch 4/10\n",
      "308868/308868 [==============================] - 69s 225us/step - loss: 0.1646 - acc: 0.9483 - val_loss: 0.2512 - val_acc: 0.9257\n",
      "Epoch 5/10\n",
      "308868/308868 [==============================] - 71s 230us/step - loss: 0.1499 - acc: 0.9526 - val_loss: 0.2440 - val_acc: 0.9278\n",
      "Epoch 6/10\n",
      "308868/308868 [==============================] - 68s 219us/step - loss: 0.1380 - acc: 0.9559 - val_loss: 0.2329 - val_acc: 0.9311\n",
      "Epoch 7/10\n",
      "308868/308868 [==============================] - 75s 243us/step - loss: 0.1285 - acc: 0.9585 - val_loss: 0.2292 - val_acc: 0.9307\n"
     ]
    },
    {
     "data": {
      "image/png": "[encoded data removed]",
      "text/plain": [
       "<matplotlib.figure.Figure at 0x13a0f7fd0>"
      ]
     },
     "metadata": {},
     "output_type": "display_data"
    },
    {
     "name": "stdout",
     "output_type": "stream",
     "text": [
      "114396/114396 [==============================] - 19s 164us/step\n"
     ]
    },
    {
     "name": "stderr",
     "output_type": "stream",
     "text": [
      "\r",
      " 14%|█▍        | 1/7 [08:56<53:40, 536.73s/it]"
     ]
    },
    {
     "name": "stdout",
     "output_type": "stream",
     "text": [
      "Loss: 0.170, acc: 94.80%\n",
      "Param_name: dense_activation, current value: selu\n",
      "Train on 308868 samples, validate on 34319 samples\n",
      "Epoch 1/10\n",
      "308868/308868 [==============================] - 94s 305us/step - loss: 0.3282 - acc: 0.9005 - val_loss: 0.3084 - val_acc: 0.9075\n",
      "Epoch 2/10\n",
      "308868/308868 [==============================] - 98s 318us/step - loss: 0.2130 - acc: 0.9345 - val_loss: 0.2864 - val_acc: 0.9149\n",
      "Epoch 3/10\n",
      "308868/308868 [==============================] - 120s 387us/step - loss: 0.1926 - acc: 0.9401 - val_loss: 0.2751 - val_acc: 0.9192\n",
      "Epoch 4/10\n",
      "308868/308868 [==============================] - 110s 355us/step - loss: 0.1782 - acc: 0.9442 - val_loss: 0.2638 - val_acc: 0.9218\n",
      "Epoch 5/10\n",
      "308868/308868 [==============================] - 92s 299us/step - loss: 0.1666 - acc: 0.9474 - val_loss: 0.2546 - val_acc: 0.9251\n",
      "Epoch 6/10\n",
      "308868/308868 [==============================] - 87s 282us/step - loss: 0.1569 - acc: 0.9505 - val_loss: 0.2500 - val_acc: 0.9249\n"
     ]
    },
    {
     "data": {
      "image/png": "[encoded data removed]",
      "text/plain": [
       "<matplotlib.figure.Figure at 0x13d5adc88>"
      ]
     },
     "metadata": {},
     "output_type": "display_data"
    },
    {
     "name": "stdout",
     "output_type": "stream",
     "text": [
      "114396/114396 [==============================] - 16s 142us/step\n"
     ]
    },
    {
     "name": "stderr",
     "output_type": "stream",
     "text": [
      "\r",
      " 29%|██▊       | 2/7 [19:17<48:12, 578.58s/it]"
     ]
    },
    {
     "name": "stdout",
     "output_type": "stream",
     "text": [
      "Loss: 0.191, acc: 94.10%\n",
      "Param_name: dense_activation, current value: relu\n",
      "Train on 308868 samples, validate on 34319 samples\n",
      "Epoch 1/10\n",
      "308868/308868 [==============================] - 67s 218us/step - loss: 0.3005 - acc: 0.9087 - val_loss: 0.2564 - val_acc: 0.9206\n",
      "Epoch 2/10\n",
      "308868/308868 [==============================] - 76s 247us/step - loss: 0.1587 - acc: 0.9507 - val_loss: 0.2461 - val_acc: 0.9267\n",
      "Epoch 3/10\n",
      "308868/308868 [==============================] - 79s 256us/step - loss: 0.1360 - acc: 0.9572 - val_loss: 0.2394 - val_acc: 0.9293\n",
      "Epoch 4/10\n",
      "308868/308868 [==============================] - 72s 232us/step - loss: 0.1205 - acc: 0.9611 - val_loss: 0.2297 - val_acc: 0.9326\n",
      "Epoch 5/10\n",
      "308868/308868 [==============================] - 96s 311us/step - loss: 0.1100 - acc: 0.9645 - val_loss: 0.2294 - val_acc: 0.9354\n"
     ]
    },
    {
     "data": {
      "image/png": "[encoded data removed]",
      "text/plain": [
       "<matplotlib.figure.Figure at 0x13de1d588>"
      ]
     },
     "metadata": {},
     "output_type": "display_data"
    },
    {
     "name": "stdout",
     "output_type": "stream",
     "text": [
      "114396/114396 [==============================] - 24s 212us/step\n"
     ]
    },
    {
     "name": "stderr",
     "output_type": "stream",
     "text": [
      "\r",
      " 43%|████▎     | 3/7 [26:15<35:01, 525.31s/it]"
     ]
    },
    {
     "name": "stdout",
     "output_type": "stream",
     "text": [
      "Loss: 0.169, acc: 94.99%\n",
      "Param_name: dense_activation, current value: tanh\n",
      "Train on 308868 samples, validate on 34319 samples\n",
      "Epoch 1/10\n",
      "308868/308868 [==============================] - 78s 252us/step - loss: 0.3265 - acc: 0.9006 - val_loss: 0.3051 - val_acc: 0.9084\n",
      "Epoch 2/10\n",
      "308868/308868 [==============================] - 67s 218us/step - loss: 0.2091 - acc: 0.9352 - val_loss: 0.2808 - val_acc: 0.9156\n",
      "Epoch 3/10\n",
      "308868/308868 [==============================] - 65s 212us/step - loss: 0.1824 - acc: 0.9433 - val_loss: 0.2636 - val_acc: 0.9214\n",
      "Epoch 4/10\n",
      "308868/308868 [==============================] - 65s 212us/step - loss: 0.1636 - acc: 0.9487 - val_loss: 0.2440 - val_acc: 0.9274\n",
      "Epoch 5/10\n",
      "308868/308868 [==============================] - 68s 219us/step - loss: 0.1472 - acc: 0.9535 - val_loss: 0.2373 - val_acc: 0.9280\n",
      "Epoch 6/10\n",
      "308868/308868 [==============================] - 70s 228us/step - loss: 0.1352 - acc: 0.9572 - val_loss: 0.2330 - val_acc: 0.9308\n"
     ]
    },
    {
     "data": {
      "image/png": "[encoded data removed]",
      "text/plain": [
       "<matplotlib.figure.Figure at 0x13f6c2ac8>"
      ]
     },
     "metadata": {},
     "output_type": "display_data"
    },
    {
     "name": "stdout",
     "output_type": "stream",
     "text": [
      "114396/114396 [==============================] - 17s 146us/step\n"
     ]
    },
    {
     "name": "stderr",
     "output_type": "stream",
     "text": [
      "\r",
      " 57%|█████▋    | 4/7 [33:32<25:09, 503.13s/it]"
     ]
    },
    {
     "name": "stdout",
     "output_type": "stream",
     "text": [
      "Loss: 0.173, acc: 94.70%\n",
      "Param_name: dense_activation, current value: sigmoid\n",
      "Train on 308868 samples, validate on 34319 samples\n",
      "Epoch 1/10\n",
      "308868/308868 [==============================] - 83s 270us/step - loss: 0.3263 - acc: 0.9008 - val_loss: 0.3118 - val_acc: 0.9066\n",
      "Epoch 2/10\n",
      "308868/308868 [==============================] - 82s 264us/step - loss: 0.2181 - acc: 0.9328 - val_loss: 0.2971 - val_acc: 0.9119\n",
      "Epoch 3/10\n",
      "308868/308868 [==============================] - 81s 262us/step - loss: 0.2016 - acc: 0.9375 - val_loss: 0.3007 - val_acc: 0.9129 1s - loss: 0.2019 - acc: 0. - ETA: 1s -\n"
     ]
    },
    {
     "data": {
      "image/png": "[encoded data removed]",
      "text/plain": [
       "<matplotlib.figure.Figure at 0x13ec98c50>"
      ]
     },
     "metadata": {},
     "output_type": "display_data"
    },
    {
     "name": "stdout",
     "output_type": "stream",
     "text": [
      "114396/114396 [==============================] - 19s 168us/step\n"
     ]
    },
    {
     "name": "stderr",
     "output_type": "stream",
     "text": [
      "\r",
      " 71%|███████▏  | 5/7 [38:00<15:12, 456.18s/it]"
     ]
    },
    {
     "name": "stdout",
     "output_type": "stream",
     "text": [
      "Loss: 0.223, acc: 93.26%\n",
      "Param_name: dense_activation, current value: hard_sigmoid\n",
      "Train on 308868 samples, validate on 34319 samples\n",
      "Epoch 1/10\n",
      "308868/308868 [==============================] - 61s 197us/step - loss: 0.3248 - acc: 0.9012 - val_loss: 0.3271 - val_acc: 0.9063\n",
      "Epoch 2/10\n",
      "308868/308868 [==============================] - 62s 199us/step - loss: 0.2198 - acc: 0.9327 - val_loss: 0.3067 - val_acc: 0.9090\n",
      "Epoch 3/10\n",
      "308868/308868 [==============================] - 63s 205us/step - loss: 0.2046 - acc: 0.9365 - val_loss: 0.3024 - val_acc: 0.9115\n"
     ]
    },
    {
     "data": {
      "image/png": "[encoded data removed]",
      "text/plain": [
       "<matplotlib.figure.Figure at 0x187e9ba90>"
      ]
     },
     "metadata": {},
     "output_type": "display_data"
    },
    {
     "name": "stdout",
     "output_type": "stream",
     "text": [
      "114396/114396 [==============================] - 15s 131us/step\n"
     ]
    },
    {
     "name": "stderr",
     "output_type": "stream",
     "text": [
      "\r",
      " 86%|████████▌ | 6/7 [41:26<06:54, 414.38s/it]"
     ]
    },
    {
     "name": "stdout",
     "output_type": "stream",
     "text": [
      "Loss: 0.225, acc: 93.28%\n",
      "Param_name: dense_activation, current value: softmax\n",
      "Train on 308868 samples, validate on 34319 samples\n",
      "Epoch 1/10\n",
      "308868/308868 [==============================] - 141s 457us/step - loss: 0.3634 - acc: 0.8901 - val_loss: 0.2653 - val_acc: 0.9184\n",
      "Epoch 2/10\n",
      "308868/308868 [==============================] - 137s 445us/step - loss: 0.1764 - acc: 0.9447 - val_loss: 0.2334 - val_acc: 0.9278\n",
      "Epoch 3/10\n",
      "308868/308868 [==============================] - 138s 445us/step - loss: 0.1508 - acc: 0.9526 - val_loss: 0.2248 - val_acc: 0.9312\n",
      "Epoch 4/10\n",
      "308868/308868 [==============================] - 138s 446us/step - loss: 0.1346 - acc: 0.9572 - val_loss: 0.2186 - val_acc: 0.9332\n",
      "Epoch 5/10\n",
      "308868/308868 [==============================] - 138s 446us/step - loss: 0.1230 - acc: 0.9606 - val_loss: 0.2210 - val_acc: 0.9331\n"
     ]
    },
    {
     "data": {
      "image/png": "[encoded data removed]",
      "text/plain": [
       "<matplotlib.figure.Figure at 0x18946bd30>"
      ]
     },
     "metadata": {},
     "output_type": "display_data"
    },
    {
     "name": "stdout",
     "output_type": "stream",
     "text": [
      "114396/114396 [==============================] - 18s 159us/step\n"
     ]
    },
    {
     "name": "stderr",
     "output_type": "stream",
     "text": [
      "\r",
      "100%|██████████| 7/7 [53:19<00:00, 457.05s/it]"
     ]
    },
    {
     "name": "stdout",
     "output_type": "stream",
     "text": [
      "Loss: 0.163, acc: 95.01%\n",
      "CPU times: user 2h 4min 30s, sys: 5min 50s, total: 2h 10min 21s\n",
      "Wall time: 53min 22s\n"
     ]
    },
    {
     "name": "stderr",
     "output_type": "stream",
     "text": [
      "\n"
     ]
    }
   ],
   "source": [
    "%%time\n",
    "param_name = 'dense_activation'\n",
    "param_values = ['elu', 'selu','relu', 'tanh', 'sigmoid', 'hard_sigmoid', 'softmax']\n",
    "\n",
    "param_res = test_param(param_name, param_values, **kwargs)"
   ]
  },
  {
   "cell_type": "code",
   "execution_count": 141,
   "metadata": {
    "collapsed": true
   },
   "outputs": [],
   "source": [
    "def plot_res_categorical_data(param_name, param_res):\n",
    "    x, loss, acc = list(map(list, zip(*[(param, v[0], v[1]) for param, v in param_res.items()])))\n",
    "    plt.figure(figsize=(15, 7))\n",
    "    \n",
    "    plt.subplot(1, 2, 1)\n",
    "    plt.scatter(x, loss)\n",
    "    plt.xlabel(param_name + \" values\")\n",
    "    plt.ylabel('loss')\n",
    "    plt.grid(True)\n",
    "    plt.title(param_name + ' (loss)')\n",
    "    \n",
    "    plt.subplot(1, 2, 2)\n",
    "    plt.scatter(x, acc)\n",
    "    plt.xlabel(param_name + \" values\")\n",
    "    plt.ylabel('acc')\n",
    "    plt.grid(True)\n",
    "    plt.title(param_name + ' (acc)')"
   ]
  },
  {
   "cell_type": "code",
   "execution_count": 142,
   "metadata": {},
   "outputs": [
    {
     "data": {
      "image/png": "[encoded data removed]",
      "text/plain": [
       "<matplotlib.figure.Figure at 0x13f0b56a0>"
      ]
     },
     "metadata": {},
     "output_type": "display_data"
    }
   ],
   "source": [
    "plot_res_categorical_data(param_name, param_res)"
   ]
  },
  {
   "cell_type": "markdown",
   "metadata": {},
   "source": [
    "### Часть 5 [2 балла] Анализ ошибок\n",
    "1. Привидите примеры из тестового множества, на которых нейронная сеть ошибается. Объясните, почему возникают ошибки.\n",
    "2. Протестируйте нейронную сеть на произвольном предложении (не из тестовых данных). Возникают ли ошибки? Почему?"
   ]
  },
  {
   "cell_type": "markdown",
   "metadata": {},
   "source": [
    "Выберем и обучим лучшую модель"
   ]
  },
  {
   "cell_type": "code",
   "execution_count": 144,
   "metadata": {},
   "outputs": [
    {
     "data": {
      "text/plain": [
       "{'batch_size': 128,\n",
       " 'callbacks': [<keras.callbacks.EarlyStopping at 0x12a52a828>],\n",
       " 'dense_activation': 'relu',\n",
       " 'embedding_matrix': array([[ 0.        ,  0.        ,  0.        , ...,  0.        ,\n",
       "          0.        ,  0.        ],\n",
       "        [-0.12242   ,  0.0037909 ,  0.010159  , ..., -0.017005  ,\n",
       "          0.030068  ,  0.21763   ],\n",
       "        [-0.28093001,  0.19175   , -0.15895   , ..., -0.030691  ,\n",
       "          0.12292   , -0.0039144 ],\n",
       "        ...,\n",
       "        [ 0.        ,  0.        ,  0.        , ...,  0.        ,\n",
       "          0.        ,  0.        ],\n",
       "        [ 0.        ,  0.        ,  0.        , ...,  0.        ,\n",
       "          0.        ,  0.        ],\n",
       "        [ 0.        ,  0.        ,  0.        , ...,  0.        ,\n",
       "          0.        ,  0.        ]]),\n",
       " 'embedding_size': 300,\n",
       " 'k': 9,\n",
       " 'lr': 0.001,\n",
       " 'n_epoches': 10,\n",
       " 'n_initial_epoch': 0,\n",
       " 'n_units': 192,\n",
       " 'output_size': 14,\n",
       " 'vocab_size': 79792}"
      ]
     },
     "execution_count": 144,
     "metadata": {},
     "output_type": "execute_result"
    }
   ],
   "source": [
    "kwargs"
   ]
  },
  {
   "cell_type": "code",
   "execution_count": 145,
   "metadata": {
    "collapsed": true,
    "scrolled": false
   },
   "outputs": [],
   "source": [
    "model = build_model(**kwargs)"
   ]
  },
  {
   "cell_type": "code",
   "execution_count": 146,
   "metadata": {},
   "outputs": [
    {
     "name": "stdout",
     "output_type": "stream",
     "text": [
      "_________________________________________________________________\n",
      "Layer (type)                 Output Shape              Param #   \n",
      "=================================================================\n",
      "embedding_35 (Embedding)     (None, 9, 300)            23937600  \n",
      "_________________________________________________________________\n",
      "dense_65 (Dense)             (None, 9, 192)            57792     \n",
      "_________________________________________________________________\n",
      "batch_normalization_29 (Batc (None, 9, 192)            768       \n",
      "_________________________________________________________________\n",
      "flatten_32 (Flatten)         (None, 1728)              0         \n",
      "_________________________________________________________________\n",
      "dropout_29 (Dropout)         (None, 1728)              0         \n",
      "_________________________________________________________________\n",
      "dense_66 (Dense)             (None, 14)                24206     \n",
      "=================================================================\n",
      "Total params: 24,020,366\n",
      "Trainable params: 82,382\n",
      "Non-trainable params: 23,937,984\n",
      "_________________________________________________________________\n"
     ]
    }
   ],
   "source": [
    "model.summary()"
   ]
  },
  {
   "cell_type": "code",
   "execution_count": 148,
   "metadata": {
    "scrolled": false
   },
   "outputs": [
    {
     "name": "stdout",
     "output_type": "stream",
     "text": [
      "Train on 308868 samples, validate on 34319 samples\n",
      "Epoch 1/10\n",
      "308868/308868 [==============================] - 63s 204us/step - loss: 0.3011 - acc: 0.9088 - val_loss: 0.2579 - val_acc: 0.9240\n",
      "Epoch 2/10\n",
      "308868/308868 [==============================] - 58s 189us/step - loss: 0.1585 - acc: 0.9506 - val_loss: 0.2458 - val_acc: 0.9260\n",
      "Epoch 3/10\n",
      "308868/308868 [==============================] - 56s 181us/step - loss: 0.1353 - acc: 0.9574 - val_loss: 0.2352 - val_acc: 0.9308\n",
      "Epoch 4/10\n",
      "308868/308868 [==============================] - 58s 186us/step - loss: 0.1212 - acc: 0.9611 - val_loss: 0.2272 - val_acc: 0.9344\n",
      "Epoch 5/10\n",
      "308868/308868 [==============================] - 57s 186us/step - loss: 0.1103 - acc: 0.9642 - val_loss: 0.2268 - val_acc: 0.9348\n",
      "CPU times: user 13min 47s, sys: 34 s, total: 14min 21s\n",
      "Wall time: 4min 54s\n"
     ]
    }
   ],
   "source": [
    "%%time\n",
    "X = np.asarray([get_window(i, sent, kwargs['k']) \n",
    "                            for sent in encoded_sentences for i, word in enumerate(sent)], dtype=np.int32)\n",
    "X_train, X_test = X[:int(X.shape[0] * 0.75)], X[int(X.shape[0] * 0.75):]\n",
    "\n",
    "history = train_model(model, X_train, y_train, **kwargs)"
   ]
  },
  {
   "cell_type": "code",
   "execution_count": 149,
   "metadata": {},
   "outputs": [
    {
     "data": {
      "image/png": "[encoded data removed]",
      "text/plain": [
       "<matplotlib.figure.Figure at 0x132306978>"
      ]
     },
     "metadata": {},
     "output_type": "display_data"
    }
   ],
   "source": [
    "history_plot(history)"
   ]
  },
  {
   "cell_type": "code",
   "execution_count": 150,
   "metadata": {},
   "outputs": [
    {
     "name": "stdout",
     "output_type": "stream",
     "text": [
      "Created:\n",
      "data/models/model_weights_2.h5\n",
      "data/models/model_architecture_2.json\n"
     ]
    }
   ],
   "source": [
    "path_to_folder = 'data/models/'\n",
    "save_model(model, path_to_folder)"
   ]
  },
  {
   "cell_type": "code",
   "execution_count": 151,
   "metadata": {
    "scrolled": true
   },
   "outputs": [
    {
     "name": "stdout",
     "output_type": "stream",
     "text": [
      "114396/114396 [==============================] - 14s 124us/step\n",
      "Loss: 0.168, acc: 95.12%\n"
     ]
    },
    {
     "data": {
      "text/plain": [
       "(0.16750970244376523, 0.951169621321683)"
      ]
     },
     "execution_count": 151,
     "metadata": {},
     "output_type": "execute_result"
    }
   ],
   "source": [
    "eval_test_score(model, X_test, y_test)"
   ]
  },
  {
   "cell_type": "markdown",
   "metadata": {},
   "source": [
    "Посмотрим на ошибки классификации"
   ]
  },
  {
   "cell_type": "code",
   "execution_count": 155,
   "metadata": {},
   "outputs": [
    {
     "name": "stdout",
     "output_type": "stream",
     "text": [
      "114396/114396 [==============================] - 13s 117us/step\n"
     ]
    }
   ],
   "source": [
    "y_pred = model.predict_classes(X_test)"
   ]
  },
  {
   "cell_type": "code",
   "execution_count": 156,
   "metadata": {},
   "outputs": [
    {
     "data": {
      "text/plain": [
       "array([ 6, 11,  1, ..., 13, 11, 11])"
      ]
     },
     "execution_count": 156,
     "metadata": {},
     "output_type": "execute_result"
    }
   ],
   "source": [
    "y_pred"
   ]
  },
  {
   "cell_type": "markdown",
   "metadata": {},
   "source": [
    "Индексы косячных слов"
   ]
  },
  {
   "cell_type": "code",
   "execution_count": 160,
   "metadata": {},
   "outputs": [],
   "source": [
    "wrong_idx = np.where(y_pred != y_test)[0] + y_train.shape[0]"
   ]
  },
  {
   "cell_type": "code",
   "execution_count": 164,
   "metadata": {},
   "outputs": [
    {
     "name": "stdout",
     "output_type": "stream",
     "text": [
      "5586 [343211 343221 343222 ... 457572 457575 457581]\n"
     ]
    }
   ],
   "source": [
    "print(len(wrong_idx), wrong_idx)"
   ]
  },
  {
   "cell_type": "markdown",
   "metadata": {},
   "source": [
    "Печатает слово, в котором ошиблись, предложение и метки"
   ]
  },
  {
   "cell_type": "code",
   "execution_count": 181,
   "metadata": {
    "collapsed": true
   },
   "outputs": [],
   "source": [
    "def print_word_with_context(index, sentenses, y_pred, y_test, label_encoder):\n",
    "    i = index\n",
    "    j = 0\n",
    "    while i >= 0: \n",
    "        i -= len(sentenses[j])\n",
    "        j += 1\n",
    "    j -= 1\n",
    "    sent = sentenses[j]\n",
    "    i += len(sent)\n",
    "    word = sent[i]\n",
    "    print(\"Word: \", word)\n",
    "    print(\"Sent: \", sent)\n",
    "    print(\"True tag: \", label_encoder.classes_[y_test[index-y_train.shape[0]]], \n",
    "          \" pred tag: \", label_encoder.classes_[y_pred[index-y_train.shape[0]]])"
   ]
  },
  {
   "cell_type": "code",
   "execution_count": 182,
   "metadata": {},
   "outputs": [
    {
     "data": {
      "text/plain": [
       "array(['ADJ', 'ADP', 'ADV', 'CONJ', 'DET', 'INTJ', 'NOUN', 'NUM', 'PART',\n",
       "       'PRON', 'PROPN', 'PUNCT', 'VERB', 'X'], dtype='<U5')"
      ]
     },
     "execution_count": 182,
     "metadata": {},
     "output_type": "execute_result"
    }
   ],
   "source": [
    "label_encoder.classes_"
   ]
  },
  {
   "cell_type": "markdown",
   "metadata": {},
   "source": [
    "Посмотрим на примеры"
   ]
  },
  {
   "cell_type": "code",
   "execution_count": 183,
   "metadata": {},
   "outputs": [
    {
     "name": "stdout",
     "output_type": "stream",
     "text": [
      "Word:  какой-то\n",
      "Sent:  ['Напоследок', 'парень', 'опять', 'задумчиво', 'сказал', '\"', 'да', ',', 'я', 'уже', 'собирался', 'останавливаться', ',', 'запах', 'был', 'какой-то', 'странный', '\"', '.']\n",
      "True tag:  DET  pred tag:  X\n"
     ]
    }
   ],
   "source": [
    "print_word_with_context(wrong_idx[0], sentenses, y_pred, y_test, label_encoder)"
   ]
  },
  {
   "cell_type": "code",
   "execution_count": 184,
   "metadata": {},
   "outputs": [
    {
     "name": "stdout",
     "output_type": "stream",
     "text": [
      "Word:  травлю\n",
      "Sent:  ['Теперь', 'травлю', 'раскрутчика', ',', 'который', 'весь', 'ЖЖ', 'засрал', '.']\n",
      "True tag:  VERB  pred tag:  NOUN\n"
     ]
    }
   ],
   "source": [
    "print_word_with_context(wrong_idx[1], sentenses, y_pred, y_test, label_encoder)"
   ]
  },
  {
   "cell_type": "code",
   "execution_count": 185,
   "metadata": {},
   "outputs": [
    {
     "name": "stdout",
     "output_type": "stream",
     "text": [
      "Word:  раскрутчика\n",
      "Sent:  ['Теперь', 'травлю', 'раскрутчика', ',', 'который', 'весь', 'ЖЖ', 'засрал', '.']\n",
      "True tag:  X  pred tag:  NOUN\n"
     ]
    }
   ],
   "source": [
    "print_word_with_context(wrong_idx[2], sentenses, y_pred, y_test, label_encoder)"
   ]
  },
  {
   "cell_type": "code",
   "execution_count": 186,
   "metadata": {},
   "outputs": [
    {
     "name": "stdout",
     "output_type": "stream",
     "text": [
      "Word:  1999\n",
      "Sent:  ['Прошу', 'любить', 'и', 'жаловать', ':', 'Three', 'Dog', 'Vineyards', '1999', '.']\n",
      "True tag:  NUM  pred tag:  X\n"
     ]
    }
   ],
   "source": [
    "print_word_with_context(wrong_idx[3], sentenses, y_pred, y_test, label_encoder)"
   ]
  },
  {
   "cell_type": "code",
   "execution_count": 187,
   "metadata": {},
   "outputs": [
    {
     "name": "stdout",
     "output_type": "stream",
     "text": [
      "Word:  теде\n",
      "Sent:  ['Со', 'всеми', 'положенными', 'взрывами', ',', 'хвостами', ',', 'ощущениями', 'и', 'теде', 'и', 'тепе', '.']\n",
      "True tag:  PROPN  pred tag:  X\n"
     ]
    }
   ],
   "source": [
    "print_word_with_context(wrong_idx[4], sentenses, y_pred, y_test, label_encoder)"
   ]
  },
  {
   "cell_type": "code",
   "execution_count": 188,
   "metadata": {},
   "outputs": [
    {
     "name": "stdout",
     "output_type": "stream",
     "text": [
      "Word:  права\n",
      "Sent:  ['autumnburn', 'права', '.']\n",
      "True tag:  ADJ  pred tag:  NOUN\n"
     ]
    }
   ],
   "source": [
    "print_word_with_context(wrong_idx[5], sentenses, y_pred, y_test, label_encoder)"
   ]
  },
  {
   "cell_type": "code",
   "execution_count": 189,
   "metadata": {},
   "outputs": [
    {
     "name": "stdout",
     "output_type": "stream",
     "text": [
      "Word:  насчет\n",
      "Sent:  ['не', 'знаю', ',', 'как', 'насчет', '\"', 'взять', 'лошадку', 'в', 'прокат', '\"', '%)', ',', 'но', 'за', 'тренировкой', 'группы', 'из', 'пяти', 'ковбойш', 'я', 'понаблюдал', '.']\n",
      "True tag:  ADP  pred tag:  VERB\n"
     ]
    }
   ],
   "source": [
    "print_word_with_context(wrong_idx[6], sentenses, y_pred, y_test, label_encoder)"
   ]
  },
  {
   "cell_type": "code",
   "execution_count": 190,
   "metadata": {},
   "outputs": [
    {
     "name": "stdout",
     "output_type": "stream",
     "text": [
      "Word:  %)\n",
      "Sent:  ['не', 'знаю', ',', 'как', 'насчет', '\"', 'взять', 'лошадку', 'в', 'прокат', '\"', '%)', ',', 'но', 'за', 'тренировкой', 'группы', 'из', 'пяти', 'ковбойш', 'я', 'понаблюдал', '.']\n",
      "True tag:  PUNCT  pred tag:  X\n"
     ]
    }
   ],
   "source": [
    "print_word_with_context(wrong_idx[7], sentenses, y_pred, y_test, label_encoder)"
   ]
  },
  {
   "cell_type": "code",
   "execution_count": 191,
   "metadata": {},
   "outputs": [
    {
     "name": "stdout",
     "output_type": "stream",
     "text": [
      "Word:  ковбойш\n",
      "Sent:  ['не', 'знаю', ',', 'как', 'насчет', '\"', 'взять', 'лошадку', 'в', 'прокат', '\"', '%)', ',', 'но', 'за', 'тренировкой', 'группы', 'из', 'пяти', 'ковбойш', 'я', 'понаблюдал', '.']\n",
      "True tag:  X  pred tag:  PUNCT\n"
     ]
    }
   ],
   "source": [
    "print_word_with_context(wrong_idx[8], sentenses, y_pred, y_test, label_encoder)"
   ]
  },
  {
   "cell_type": "code",
   "execution_count": 192,
   "metadata": {},
   "outputs": [
    {
     "name": "stdout",
     "output_type": "stream",
     "text": [
      "Word:  как\n",
      "Sent:  ['как', 'не', 'надо']\n",
      "True tag:  ADV  pred tag:  CONJ\n"
     ]
    }
   ],
   "source": [
    "print_word_with_context(wrong_idx[9], sentenses, y_pred, y_test, label_encoder)"
   ]
  },
  {
   "cell_type": "markdown",
   "metadata": {},
   "source": [
    "В основном возникают \"обычные\" ошибки(связанные с предсказанием X). Но некоторые ошибки(например, idx 1 и 5) возникают из-за двойного смысла слов, значение которых зависит от контекста, но нейронка не уловила этот контекст."
   ]
  },
  {
   "cell_type": "markdown",
   "metadata": {},
   "source": [
    "Составим свои предложения и посмотрим как сеть с ними справится"
   ]
  },
  {
   "cell_type": "code",
   "execution_count": 222,
   "metadata": {
    "collapsed": true
   },
   "outputs": [],
   "source": [
    "my_sentences = [\n",
    "    'мама мыла оконное стекло , потому что оно грязное',\n",
    "    'несколько дождевых капель стекло по ее зонту',\n",
    "    'ключи от замка у него дома',\n",
    "    'штурмом взять замок не получалось, поэтому главнокомандующий решил дождаться подкрепления'\n",
    "]\n",
    "my_sentences_encoded = t.texts_to_sequences(my_sentences)"
   ]
  },
  {
   "cell_type": "code",
   "execution_count": 223,
   "metadata": {},
   "outputs": [
    {
     "data": {
      "text/plain": [
       "[[2510, 1214, 2, 207, 15, 239],\n",
       " [117, 71953, 24824, 1214, 13, 3703],\n",
       " [18774, 22, 19048, 35, 260],\n",
       " [1419, 2977, 9, 140, 1310, 29850]]"
      ]
     },
     "execution_count": 223,
     "metadata": {},
     "output_type": "execute_result"
    }
   ],
   "source": [
    "my_sentences_encoded"
   ]
  },
  {
   "cell_type": "code",
   "execution_count": 224,
   "metadata": {},
   "outputs": [],
   "source": [
    "X_my = np.asarray([get_window(i, sent, kwargs['k']) \n",
    "                            for sent in my_sentences_encoded for i, word in enumerate(sent)], dtype=np.int32)"
   ]
  },
  {
   "cell_type": "code",
   "execution_count": 225,
   "metadata": {},
   "outputs": [
    {
     "data": {
      "text/plain": [
       "array([[    0,     0,     0,     0,  2510,  1214,     2,   207,    15],\n",
       "       [    0,     0,     0,  2510,  1214,     2,   207,    15,   239],\n",
       "       [    0,     0,  2510,  1214,     2,   207,    15,   239,     0],\n",
       "       [    0,  2510,  1214,     2,   207,    15,   239,     0,     0],\n",
       "       [ 2510,  1214,     2,   207,    15,   239,     0,     0,     0],\n",
       "       [ 1214,     2,   207,    15,   239,     0,     0,     0,     0],\n",
       "       [    0,     0,     0,     0,   117, 71953, 24824,  1214,    13],\n",
       "       [    0,     0,     0,   117, 71953, 24824,  1214,    13,  3703],\n",
       "       [    0,     0,   117, 71953, 24824,  1214,    13,  3703,     0],\n",
       "       [    0,   117, 71953, 24824,  1214,    13,  3703,     0,     0],\n",
       "       [  117, 71953, 24824,  1214,    13,  3703,     0,     0,     0],\n",
       "       [71953, 24824,  1214,    13,  3703,     0,     0,     0,     0],\n",
       "       [    0,     0,     0,     0, 18774,    22, 19048,    35,   260],\n",
       "       [    0,     0,     0, 18774,    22, 19048,    35,   260,     0],\n",
       "       [    0,     0, 18774,    22, 19048,    35,   260,     0,     0],\n",
       "       [    0, 18774,    22, 19048,    35,   260,     0,     0,     0],\n",
       "       [18774,    22, 19048,    35,   260,     0,     0,     0,     0],\n",
       "       [    0,     0,     0,     0,  1419,  2977,     9,   140,  1310],\n",
       "       [    0,     0,     0,  1419,  2977,     9,   140,  1310, 29850],\n",
       "       [    0,     0,  1419,  2977,     9,   140,  1310, 29850,     0],\n",
       "       [    0,  1419,  2977,     9,   140,  1310, 29850,     0,     0],\n",
       "       [ 1419,  2977,     9,   140,  1310, 29850,     0,     0,     0],\n",
       "       [ 2977,     9,   140,  1310, 29850,     0,     0,     0,     0]],\n",
       "      dtype=int32)"
      ]
     },
     "execution_count": 225,
     "metadata": {},
     "output_type": "execute_result"
    }
   ],
   "source": [
    "X_my"
   ]
  },
  {
   "cell_type": "code",
   "execution_count": 226,
   "metadata": {},
   "outputs": [
    {
     "name": "stdout",
     "output_type": "stream",
     "text": [
      "\r",
      "23/23 [==============================] - 0s 254us/step\n"
     ]
    }
   ],
   "source": [
    "y_my = model.predict_classes(X_my)"
   ]
  },
  {
   "cell_type": "code",
   "execution_count": 227,
   "metadata": {},
   "outputs": [],
   "source": [
    "idx2word = {idx: word for word, idx in t.word_index.items()}"
   ]
  },
  {
   "cell_type": "code",
   "execution_count": 228,
   "metadata": {},
   "outputs": [
    {
     "name": "stdout",
     "output_type": "stream",
     "text": [
      "('NOUN', 'мама')\n",
      "('NOUN', 'стекло')\n",
      "('PUNCT', ',')\n",
      "('ADV', 'потому')\n",
      "('PRON', 'что')\n",
      "('PRON', 'оно')\n",
      "('NUM', 'несколько')\n",
      "('ADJ', 'дождевых')\n",
      "('NOUN', 'капель')\n",
      "('NOUN', 'стекло')\n",
      "('ADP', 'по')\n",
      "('PRON', 'ее')\n",
      "('NOUN', 'ключи')\n",
      "('ADP', 'от')\n",
      "('NOUN', 'замка')\n",
      "('ADP', 'у')\n",
      "('NOUN', 'дома')\n",
      "('VERB', 'взять')\n",
      "('NOUN', 'замок')\n",
      "('PART', 'не')\n",
      "('ADV', 'поэтому')\n",
      "('VERB', 'решил')\n",
      "('VERB', 'дождаться')\n"
     ]
    }
   ],
   "source": [
    "print(*zip(label_encoder.classes_[y_my], \n",
    "           [idx2word[word_idx] for sent in my_sentences_encoded for word_idx in sent]), sep='\\n')"
   ]
  },
  {
   "cell_type": "markdown",
   "metadata": {},
   "source": [
    "С \"замком\" получилось глупо, ибо оба смысла - существительные, а на \"стекло\" нейронка попалась: во втором предложении это глагол."
   ]
  },
  {
   "cell_type": "code",
   "execution_count": null,
   "metadata": {
    "collapsed": true
   },
   "outputs": [],
   "source": []
  }
 ],
 "metadata": {
  "kernelspec": {
   "display_name": "Python 3",
   "language": "python",
   "name": "python3"
  },
  "language_info": {
   "codemirror_mode": {
    "name": "ipython",
    "version": 3
   },
   "file_extension": ".py",
   "mimetype": "text/x-python",
   "name": "python",
   "nbconvert_exporter": "python",
   "pygments_lexer": "ipython3",
   "version": "3.6.3"
  }
 },
 "nbformat": 4,
 "nbformat_minor": 2
}
